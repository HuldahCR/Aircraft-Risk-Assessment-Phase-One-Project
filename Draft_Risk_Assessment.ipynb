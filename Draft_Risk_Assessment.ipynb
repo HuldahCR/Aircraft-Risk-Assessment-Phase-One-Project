{
 "cells": [
  {
   "cell_type": "markdown",
   "metadata": {},
   "source": [
    "# Aircraft Risk Assessment for Aircraft Investment\n",
    "\n",
    "## 1. Business Understanding\n",
    "### 1.1 Background\n",
    "\n",
    "Huru Capital Investments Group is a Venture Capital firm with a presence in the construction, real estate and logistics sector in the United States of America. Given its strategic goal to diversify its portfolio, the company is exploring expansion into high growth industries such as the aviation sector. This decision is driven by the expected growth in regional and international air transport. \n",
    "\n",
    "The Company intends to purchase and operate airplanes for commercial and private use and hence safety is a critical consideration in selecting the right aircraft.\n",
    "\n",
    "To support this move, Huru Capital Investments Group is leveraging historical aviation accident data from 1962 to 2023 using a [dataset](https://www.kaggle.com/datasets/khsamaha/aviation-accident-database-synopses) from the National Transportation Safety Board to evaluate potential risks associated with various types of aircraft. This analysis will inform executive decision making on which aircraft models offer the best balance between performance and operational safety.\n",
    "\n",
    "### 1.2 Objectives\n",
    "\n",
    "The overall objective of this project is to identify the types of aircraft with the lowest historical risk profile based on accident frequency, severity and related factors. These insights will guide Huru Capital's aviation investment strategy by pinpointing safe and reliable aircraft for acquisition.\n",
    "\n",
    "The specific objectives are:\n",
    "* To analyse accident frequency and the severity by the type of aircraft\n",
    "* To identify trends  and patterns related to aviation accidents and incidents over time and geographical location\n",
    "* To recommend the top three types of aircraft for investment based on safety performance\n",
    "\n",
    "### 1.3 Problem Statement\n",
    "\n",
    "Huru Capital Investments Group is interested in entering the aviation industry without any internal expertise on the potential risks of aircraft. Given the potential financial and reputational risks associated with aviation accidents, the company must base its aircraft selection on data-driven insights. \n",
    "\n",
    "This analysis will help answer the following question:\n",
    "\n",
    "> *Which types of aircraft present the lowest investment risk based on historical safety records?*\n",
    "\n",
    "### 1.4 Metrics of Success\n",
    "\n",
    "This project will be considered successful if:\n",
    "\n",
    "* The analysis identifies aircraft types with historically low accident and fatality rates, helping the company make informed investment decisions.\n",
    "* At least three clear evidence based recommendations are provided to guide aircraft acquisition\n",
    "* Key safety patterns (by aircraft type, location, cause or time) are clearly visualised making the risks and opportunities easy to interpret\n",
    "* The insights directly support Huru Capital's broader goal of expanding into new industries with minimised operational and reputational risk"
   ]
  },
  {
   "cell_type": "markdown",
   "metadata": {},
   "source": [
    "## 2. Data Understanding\n",
    "\n",
    "This entails an initial data exploration so as to get an understanding of the shape, structure, contents and quality of the data. \n",
    "\n",
    "The data to be utilised in this analysis is drawn from the National Transportation Safety Board Database which contains information from 1962 to 2023 on civil aviation accidents and selected incidents within the United States, its territories and possessions, and in international waters. \n",
    "\n",
    "The source of the dataset is https://www.kaggle.com/datasets/khsamaha/aviation-accident-database-synopses\n",
    "\n",
    "The dataset has two csv files:\n",
    "* AviationData.csv\n",
    "* USState_Codes.csv\n",
    "\n",
    "The aim of this is to:\n",
    "* identify key variables and their data types\n",
    "* detect missing or inconsistent values\n",
    "* gain familiarity with trends, distributions or anomalies"
   ]
  },
  {
   "cell_type": "code",
   "execution_count": 1,
   "metadata": {},
   "outputs": [],
   "source": [
    "#import the relevant python libraries\n",
    "import pandas as pd\n",
    "import numpy as np\n",
    "import matplotlib.pyplot as plt\n",
    "import seaborn as sns"
   ]
  },
  {
   "cell_type": "markdown",
   "metadata": {},
   "source": [
    "### 2.1 Initial Data Exploration of Aviation Data"
   ]
  },
  {
   "cell_type": "code",
   "execution_count": 2,
   "metadata": {},
   "outputs": [
    {
     "name": "stderr",
     "output_type": "stream",
     "text": [
      "C:\\Users\\rotic\\anaconda3\\envs\\learn-env\\lib\\site-packages\\IPython\\core\\interactiveshell.py:3145: DtypeWarning: Columns (6,7,28) have mixed types.Specify dtype option on import or set low_memory=False.\n",
      "  has_raised = await self.run_ast_nodes(code_ast.body, cell_name,\n"
     ]
    }
   ],
   "source": [
    "#load the aviation dataset\n",
    "aviation_df = pd.read_csv('Data/AviationData.csv', encoding='latin-1')"
   ]
  },
  {
   "cell_type": "code",
   "execution_count": 3,
   "metadata": {},
   "outputs": [
    {
     "data": {
      "text/html": [
       "<div>\n",
       "<style scoped>\n",
       "    .dataframe tbody tr th:only-of-type {\n",
       "        vertical-align: middle;\n",
       "    }\n",
       "\n",
       "    .dataframe tbody tr th {\n",
       "        vertical-align: top;\n",
       "    }\n",
       "\n",
       "    .dataframe thead th {\n",
       "        text-align: right;\n",
       "    }\n",
       "</style>\n",
       "<table border=\"1\" class=\"dataframe\">\n",
       "  <thead>\n",
       "    <tr style=\"text-align: right;\">\n",
       "      <th></th>\n",
       "      <th>Event.Id</th>\n",
       "      <th>Investigation.Type</th>\n",
       "      <th>Accident.Number</th>\n",
       "      <th>Event.Date</th>\n",
       "      <th>Location</th>\n",
       "      <th>Country</th>\n",
       "      <th>Latitude</th>\n",
       "      <th>Longitude</th>\n",
       "      <th>Airport.Code</th>\n",
       "      <th>Airport.Name</th>\n",
       "      <th>...</th>\n",
       "      <th>Purpose.of.flight</th>\n",
       "      <th>Air.carrier</th>\n",
       "      <th>Total.Fatal.Injuries</th>\n",
       "      <th>Total.Serious.Injuries</th>\n",
       "      <th>Total.Minor.Injuries</th>\n",
       "      <th>Total.Uninjured</th>\n",
       "      <th>Weather.Condition</th>\n",
       "      <th>Broad.phase.of.flight</th>\n",
       "      <th>Report.Status</th>\n",
       "      <th>Publication.Date</th>\n",
       "    </tr>\n",
       "  </thead>\n",
       "  <tbody>\n",
       "    <tr>\n",
       "      <th>0</th>\n",
       "      <td>20001218X45444</td>\n",
       "      <td>Accident</td>\n",
       "      <td>SEA87LA080</td>\n",
       "      <td>1948-10-24</td>\n",
       "      <td>MOOSE CREEK, ID</td>\n",
       "      <td>United States</td>\n",
       "      <td>NaN</td>\n",
       "      <td>NaN</td>\n",
       "      <td>NaN</td>\n",
       "      <td>NaN</td>\n",
       "      <td>...</td>\n",
       "      <td>Personal</td>\n",
       "      <td>NaN</td>\n",
       "      <td>2.0</td>\n",
       "      <td>0.0</td>\n",
       "      <td>0.0</td>\n",
       "      <td>0.0</td>\n",
       "      <td>UNK</td>\n",
       "      <td>Cruise</td>\n",
       "      <td>Probable Cause</td>\n",
       "      <td>NaN</td>\n",
       "    </tr>\n",
       "    <tr>\n",
       "      <th>1</th>\n",
       "      <td>20001218X45447</td>\n",
       "      <td>Accident</td>\n",
       "      <td>LAX94LA336</td>\n",
       "      <td>1962-07-19</td>\n",
       "      <td>BRIDGEPORT, CA</td>\n",
       "      <td>United States</td>\n",
       "      <td>NaN</td>\n",
       "      <td>NaN</td>\n",
       "      <td>NaN</td>\n",
       "      <td>NaN</td>\n",
       "      <td>...</td>\n",
       "      <td>Personal</td>\n",
       "      <td>NaN</td>\n",
       "      <td>4.0</td>\n",
       "      <td>0.0</td>\n",
       "      <td>0.0</td>\n",
       "      <td>0.0</td>\n",
       "      <td>UNK</td>\n",
       "      <td>Unknown</td>\n",
       "      <td>Probable Cause</td>\n",
       "      <td>19-09-1996</td>\n",
       "    </tr>\n",
       "    <tr>\n",
       "      <th>2</th>\n",
       "      <td>20061025X01555</td>\n",
       "      <td>Accident</td>\n",
       "      <td>NYC07LA005</td>\n",
       "      <td>1974-08-30</td>\n",
       "      <td>Saltville, VA</td>\n",
       "      <td>United States</td>\n",
       "      <td>36.9222</td>\n",
       "      <td>-81.8781</td>\n",
       "      <td>NaN</td>\n",
       "      <td>NaN</td>\n",
       "      <td>...</td>\n",
       "      <td>Personal</td>\n",
       "      <td>NaN</td>\n",
       "      <td>3.0</td>\n",
       "      <td>NaN</td>\n",
       "      <td>NaN</td>\n",
       "      <td>NaN</td>\n",
       "      <td>IMC</td>\n",
       "      <td>Cruise</td>\n",
       "      <td>Probable Cause</td>\n",
       "      <td>26-02-2007</td>\n",
       "    </tr>\n",
       "    <tr>\n",
       "      <th>3</th>\n",
       "      <td>20001218X45448</td>\n",
       "      <td>Accident</td>\n",
       "      <td>LAX96LA321</td>\n",
       "      <td>1977-06-19</td>\n",
       "      <td>EUREKA, CA</td>\n",
       "      <td>United States</td>\n",
       "      <td>NaN</td>\n",
       "      <td>NaN</td>\n",
       "      <td>NaN</td>\n",
       "      <td>NaN</td>\n",
       "      <td>...</td>\n",
       "      <td>Personal</td>\n",
       "      <td>NaN</td>\n",
       "      <td>2.0</td>\n",
       "      <td>0.0</td>\n",
       "      <td>0.0</td>\n",
       "      <td>0.0</td>\n",
       "      <td>IMC</td>\n",
       "      <td>Cruise</td>\n",
       "      <td>Probable Cause</td>\n",
       "      <td>12-09-2000</td>\n",
       "    </tr>\n",
       "    <tr>\n",
       "      <th>4</th>\n",
       "      <td>20041105X01764</td>\n",
       "      <td>Accident</td>\n",
       "      <td>CHI79FA064</td>\n",
       "      <td>1979-08-02</td>\n",
       "      <td>Canton, OH</td>\n",
       "      <td>United States</td>\n",
       "      <td>NaN</td>\n",
       "      <td>NaN</td>\n",
       "      <td>NaN</td>\n",
       "      <td>NaN</td>\n",
       "      <td>...</td>\n",
       "      <td>Personal</td>\n",
       "      <td>NaN</td>\n",
       "      <td>1.0</td>\n",
       "      <td>2.0</td>\n",
       "      <td>NaN</td>\n",
       "      <td>0.0</td>\n",
       "      <td>VMC</td>\n",
       "      <td>Approach</td>\n",
       "      <td>Probable Cause</td>\n",
       "      <td>16-04-1980</td>\n",
       "    </tr>\n",
       "  </tbody>\n",
       "</table>\n",
       "<p>5 rows × 31 columns</p>\n",
       "</div>"
      ],
      "text/plain": [
       "         Event.Id Investigation.Type Accident.Number  Event.Date  \\\n",
       "0  20001218X45444           Accident      SEA87LA080  1948-10-24   \n",
       "1  20001218X45447           Accident      LAX94LA336  1962-07-19   \n",
       "2  20061025X01555           Accident      NYC07LA005  1974-08-30   \n",
       "3  20001218X45448           Accident      LAX96LA321  1977-06-19   \n",
       "4  20041105X01764           Accident      CHI79FA064  1979-08-02   \n",
       "\n",
       "          Location        Country Latitude Longitude Airport.Code  \\\n",
       "0  MOOSE CREEK, ID  United States      NaN       NaN          NaN   \n",
       "1   BRIDGEPORT, CA  United States      NaN       NaN          NaN   \n",
       "2    Saltville, VA  United States  36.9222  -81.8781          NaN   \n",
       "3       EUREKA, CA  United States      NaN       NaN          NaN   \n",
       "4       Canton, OH  United States      NaN       NaN          NaN   \n",
       "\n",
       "  Airport.Name  ... Purpose.of.flight Air.carrier Total.Fatal.Injuries  \\\n",
       "0          NaN  ...          Personal         NaN                  2.0   \n",
       "1          NaN  ...          Personal         NaN                  4.0   \n",
       "2          NaN  ...          Personal         NaN                  3.0   \n",
       "3          NaN  ...          Personal         NaN                  2.0   \n",
       "4          NaN  ...          Personal         NaN                  1.0   \n",
       "\n",
       "  Total.Serious.Injuries Total.Minor.Injuries Total.Uninjured  \\\n",
       "0                    0.0                  0.0             0.0   \n",
       "1                    0.0                  0.0             0.0   \n",
       "2                    NaN                  NaN             NaN   \n",
       "3                    0.0                  0.0             0.0   \n",
       "4                    2.0                  NaN             0.0   \n",
       "\n",
       "  Weather.Condition  Broad.phase.of.flight   Report.Status Publication.Date  \n",
       "0               UNK                 Cruise  Probable Cause              NaN  \n",
       "1               UNK                Unknown  Probable Cause       19-09-1996  \n",
       "2               IMC                 Cruise  Probable Cause       26-02-2007  \n",
       "3               IMC                 Cruise  Probable Cause       12-09-2000  \n",
       "4               VMC               Approach  Probable Cause       16-04-1980  \n",
       "\n",
       "[5 rows x 31 columns]"
      ]
     },
     "execution_count": 3,
     "metadata": {},
     "output_type": "execute_result"
    }
   ],
   "source": [
    "#preview the first 5 rows\n",
    "aviation_df.head()"
   ]
  },
  {
   "cell_type": "code",
   "execution_count": 4,
   "metadata": {
    "scrolled": true
   },
   "outputs": [
    {
     "data": {
      "text/html": [
       "<div>\n",
       "<style scoped>\n",
       "    .dataframe tbody tr th:only-of-type {\n",
       "        vertical-align: middle;\n",
       "    }\n",
       "\n",
       "    .dataframe tbody tr th {\n",
       "        vertical-align: top;\n",
       "    }\n",
       "\n",
       "    .dataframe thead th {\n",
       "        text-align: right;\n",
       "    }\n",
       "</style>\n",
       "<table border=\"1\" class=\"dataframe\">\n",
       "  <thead>\n",
       "    <tr style=\"text-align: right;\">\n",
       "      <th></th>\n",
       "      <th>Event.Id</th>\n",
       "      <th>Investigation.Type</th>\n",
       "      <th>Accident.Number</th>\n",
       "      <th>Event.Date</th>\n",
       "      <th>Location</th>\n",
       "      <th>Country</th>\n",
       "      <th>Latitude</th>\n",
       "      <th>Longitude</th>\n",
       "      <th>Airport.Code</th>\n",
       "      <th>Airport.Name</th>\n",
       "      <th>...</th>\n",
       "      <th>Purpose.of.flight</th>\n",
       "      <th>Air.carrier</th>\n",
       "      <th>Total.Fatal.Injuries</th>\n",
       "      <th>Total.Serious.Injuries</th>\n",
       "      <th>Total.Minor.Injuries</th>\n",
       "      <th>Total.Uninjured</th>\n",
       "      <th>Weather.Condition</th>\n",
       "      <th>Broad.phase.of.flight</th>\n",
       "      <th>Report.Status</th>\n",
       "      <th>Publication.Date</th>\n",
       "    </tr>\n",
       "  </thead>\n",
       "  <tbody>\n",
       "    <tr>\n",
       "      <th>88884</th>\n",
       "      <td>20221227106491</td>\n",
       "      <td>Accident</td>\n",
       "      <td>ERA23LA093</td>\n",
       "      <td>2022-12-26</td>\n",
       "      <td>Annapolis, MD</td>\n",
       "      <td>United States</td>\n",
       "      <td>NaN</td>\n",
       "      <td>NaN</td>\n",
       "      <td>NaN</td>\n",
       "      <td>NaN</td>\n",
       "      <td>...</td>\n",
       "      <td>Personal</td>\n",
       "      <td>NaN</td>\n",
       "      <td>0.0</td>\n",
       "      <td>1.0</td>\n",
       "      <td>0.0</td>\n",
       "      <td>0.0</td>\n",
       "      <td>NaN</td>\n",
       "      <td>NaN</td>\n",
       "      <td>NaN</td>\n",
       "      <td>29-12-2022</td>\n",
       "    </tr>\n",
       "    <tr>\n",
       "      <th>88885</th>\n",
       "      <td>20221227106494</td>\n",
       "      <td>Accident</td>\n",
       "      <td>ERA23LA095</td>\n",
       "      <td>2022-12-26</td>\n",
       "      <td>Hampton, NH</td>\n",
       "      <td>United States</td>\n",
       "      <td>NaN</td>\n",
       "      <td>NaN</td>\n",
       "      <td>NaN</td>\n",
       "      <td>NaN</td>\n",
       "      <td>...</td>\n",
       "      <td>NaN</td>\n",
       "      <td>NaN</td>\n",
       "      <td>0.0</td>\n",
       "      <td>0.0</td>\n",
       "      <td>0.0</td>\n",
       "      <td>0.0</td>\n",
       "      <td>NaN</td>\n",
       "      <td>NaN</td>\n",
       "      <td>NaN</td>\n",
       "      <td>NaN</td>\n",
       "    </tr>\n",
       "    <tr>\n",
       "      <th>88886</th>\n",
       "      <td>20221227106497</td>\n",
       "      <td>Accident</td>\n",
       "      <td>WPR23LA075</td>\n",
       "      <td>2022-12-26</td>\n",
       "      <td>Payson, AZ</td>\n",
       "      <td>United States</td>\n",
       "      <td>341525N</td>\n",
       "      <td>1112021W</td>\n",
       "      <td>PAN</td>\n",
       "      <td>PAYSON</td>\n",
       "      <td>...</td>\n",
       "      <td>Personal</td>\n",
       "      <td>NaN</td>\n",
       "      <td>0.0</td>\n",
       "      <td>0.0</td>\n",
       "      <td>0.0</td>\n",
       "      <td>1.0</td>\n",
       "      <td>VMC</td>\n",
       "      <td>NaN</td>\n",
       "      <td>NaN</td>\n",
       "      <td>27-12-2022</td>\n",
       "    </tr>\n",
       "    <tr>\n",
       "      <th>88887</th>\n",
       "      <td>20221227106498</td>\n",
       "      <td>Accident</td>\n",
       "      <td>WPR23LA076</td>\n",
       "      <td>2022-12-26</td>\n",
       "      <td>Morgan, UT</td>\n",
       "      <td>United States</td>\n",
       "      <td>NaN</td>\n",
       "      <td>NaN</td>\n",
       "      <td>NaN</td>\n",
       "      <td>NaN</td>\n",
       "      <td>...</td>\n",
       "      <td>Personal</td>\n",
       "      <td>MC CESSNA 210N LLC</td>\n",
       "      <td>0.0</td>\n",
       "      <td>0.0</td>\n",
       "      <td>0.0</td>\n",
       "      <td>0.0</td>\n",
       "      <td>NaN</td>\n",
       "      <td>NaN</td>\n",
       "      <td>NaN</td>\n",
       "      <td>NaN</td>\n",
       "    </tr>\n",
       "    <tr>\n",
       "      <th>88888</th>\n",
       "      <td>20221230106513</td>\n",
       "      <td>Accident</td>\n",
       "      <td>ERA23LA097</td>\n",
       "      <td>2022-12-29</td>\n",
       "      <td>Athens, GA</td>\n",
       "      <td>United States</td>\n",
       "      <td>NaN</td>\n",
       "      <td>NaN</td>\n",
       "      <td>NaN</td>\n",
       "      <td>NaN</td>\n",
       "      <td>...</td>\n",
       "      <td>Personal</td>\n",
       "      <td>NaN</td>\n",
       "      <td>0.0</td>\n",
       "      <td>1.0</td>\n",
       "      <td>0.0</td>\n",
       "      <td>1.0</td>\n",
       "      <td>NaN</td>\n",
       "      <td>NaN</td>\n",
       "      <td>NaN</td>\n",
       "      <td>30-12-2022</td>\n",
       "    </tr>\n",
       "  </tbody>\n",
       "</table>\n",
       "<p>5 rows × 31 columns</p>\n",
       "</div>"
      ],
      "text/plain": [
       "             Event.Id Investigation.Type Accident.Number  Event.Date  \\\n",
       "88884  20221227106491           Accident      ERA23LA093  2022-12-26   \n",
       "88885  20221227106494           Accident      ERA23LA095  2022-12-26   \n",
       "88886  20221227106497           Accident      WPR23LA075  2022-12-26   \n",
       "88887  20221227106498           Accident      WPR23LA076  2022-12-26   \n",
       "88888  20221230106513           Accident      ERA23LA097  2022-12-29   \n",
       "\n",
       "            Location        Country Latitude Longitude Airport.Code  \\\n",
       "88884  Annapolis, MD  United States      NaN       NaN          NaN   \n",
       "88885    Hampton, NH  United States      NaN       NaN          NaN   \n",
       "88886     Payson, AZ  United States  341525N  1112021W          PAN   \n",
       "88887     Morgan, UT  United States      NaN       NaN          NaN   \n",
       "88888     Athens, GA  United States      NaN       NaN          NaN   \n",
       "\n",
       "      Airport.Name  ... Purpose.of.flight         Air.carrier  \\\n",
       "88884          NaN  ...          Personal                 NaN   \n",
       "88885          NaN  ...               NaN                 NaN   \n",
       "88886       PAYSON  ...          Personal                 NaN   \n",
       "88887          NaN  ...          Personal  MC CESSNA 210N LLC   \n",
       "88888          NaN  ...          Personal                 NaN   \n",
       "\n",
       "      Total.Fatal.Injuries Total.Serious.Injuries Total.Minor.Injuries  \\\n",
       "88884                  0.0                    1.0                  0.0   \n",
       "88885                  0.0                    0.0                  0.0   \n",
       "88886                  0.0                    0.0                  0.0   \n",
       "88887                  0.0                    0.0                  0.0   \n",
       "88888                  0.0                    1.0                  0.0   \n",
       "\n",
       "      Total.Uninjured Weather.Condition  Broad.phase.of.flight Report.Status  \\\n",
       "88884             0.0               NaN                    NaN           NaN   \n",
       "88885             0.0               NaN                    NaN           NaN   \n",
       "88886             1.0               VMC                    NaN           NaN   \n",
       "88887             0.0               NaN                    NaN           NaN   \n",
       "88888             1.0               NaN                    NaN           NaN   \n",
       "\n",
       "      Publication.Date  \n",
       "88884       29-12-2022  \n",
       "88885              NaN  \n",
       "88886       27-12-2022  \n",
       "88887              NaN  \n",
       "88888       30-12-2022  \n",
       "\n",
       "[5 rows x 31 columns]"
      ]
     },
     "execution_count": 4,
     "metadata": {},
     "output_type": "execute_result"
    }
   ],
   "source": [
    "#preview the last 5 rows\n",
    "aviation_df.tail()"
   ]
  },
  {
   "cell_type": "markdown",
   "metadata": {},
   "source": [
    "#### Observation\n",
    "\n",
    "The dataset is uniform from top to bottom"
   ]
  },
  {
   "cell_type": "code",
   "execution_count": 5,
   "metadata": {
    "scrolled": true
   },
   "outputs": [
    {
     "data": {
      "text/plain": [
       "(88889, 31)"
      ]
     },
     "execution_count": 5,
     "metadata": {},
     "output_type": "execute_result"
    }
   ],
   "source": [
    "#get the shape of the dataframe (no of rows, no of columns)\n",
    "aviation_df.shape"
   ]
  },
  {
   "cell_type": "code",
   "execution_count": 6,
   "metadata": {},
   "outputs": [
    {
     "name": "stdout",
     "output_type": "stream",
     "text": [
      "<class 'pandas.core.frame.DataFrame'>\n",
      "RangeIndex: 88889 entries, 0 to 88888\n",
      "Data columns (total 31 columns):\n",
      " #   Column                  Non-Null Count  Dtype  \n",
      "---  ------                  --------------  -----  \n",
      " 0   Event.Id                88889 non-null  object \n",
      " 1   Investigation.Type      88889 non-null  object \n",
      " 2   Accident.Number         88889 non-null  object \n",
      " 3   Event.Date              88889 non-null  object \n",
      " 4   Location                88837 non-null  object \n",
      " 5   Country                 88663 non-null  object \n",
      " 6   Latitude                34382 non-null  object \n",
      " 7   Longitude               34373 non-null  object \n",
      " 8   Airport.Code            50249 non-null  object \n",
      " 9   Airport.Name            52790 non-null  object \n",
      " 10  Injury.Severity         87889 non-null  object \n",
      " 11  Aircraft.damage         85695 non-null  object \n",
      " 12  Aircraft.Category       32287 non-null  object \n",
      " 13  Registration.Number     87572 non-null  object \n",
      " 14  Make                    88826 non-null  object \n",
      " 15  Model                   88797 non-null  object \n",
      " 16  Amateur.Built           88787 non-null  object \n",
      " 17  Number.of.Engines       82805 non-null  float64\n",
      " 18  Engine.Type             81812 non-null  object \n",
      " 19  FAR.Description         32023 non-null  object \n",
      " 20  Schedule                12582 non-null  object \n",
      " 21  Purpose.of.flight       82697 non-null  object \n",
      " 22  Air.carrier             16648 non-null  object \n",
      " 23  Total.Fatal.Injuries    77488 non-null  float64\n",
      " 24  Total.Serious.Injuries  76379 non-null  float64\n",
      " 25  Total.Minor.Injuries    76956 non-null  float64\n",
      " 26  Total.Uninjured         82977 non-null  float64\n",
      " 27  Weather.Condition       84397 non-null  object \n",
      " 28  Broad.phase.of.flight   61724 non-null  object \n",
      " 29  Report.Status           82508 non-null  object \n",
      " 30  Publication.Date        75118 non-null  object \n",
      "dtypes: float64(5), object(26)\n",
      "memory usage: 21.0+ MB\n"
     ]
    }
   ],
   "source": [
    "#get the summary of information on the aviation dataframe\n",
    "aviation_df.info()"
   ]
  },
  {
   "cell_type": "markdown",
   "metadata": {},
   "source": [
    "#### Observation\n",
    "\n",
    "The Aviation Dataframe has **88889 rows** and **31 columns**.\n",
    "It is composed of two data types:\n",
    "* Numerical data - Float (5 columns)\n",
    "* Categorical data - Object (26 columns)\n",
    "\n",
    "27 columns have null values (float(5) and object(22)) with varying null values. The key columns with null values that will need to be cleaned during preparation for analysis are:\n",
    "* Severity of Injuries\n",
    "* Total Fatal Injuries\n",
    "* Total Serious Injuries\n",
    "* Total Minor Injuries\n",
    "* Total Uninjured\n",
    "* Aircraft Make\n",
    "* Aircraft Model\n",
    "* Location\n",
    "* Event Date\n",
    "* Weather Condition\n",
    "* Number of Engines\n",
    "* Type of Engines\n",
    "* Purpose of Flight\n",
    "* Broad Phase of Flight\n",
    "\n",
    "There is information on date provided under the Event Date and Publication Date columns which is represented as object data type but should be converted into date-time data type to allow for trend analysis.\n",
    "\n",
    "The Location column contains information in both uppercase and lowercase which should be standardised for parsing.\n",
    "\n",
    "Many events have **zero fatalities** which are still important for identifying incident prone aircraft."
   ]
  },
  {
   "cell_type": "code",
   "execution_count": 7,
   "metadata": {},
   "outputs": [
    {
     "data": {
      "text/html": [
       "<div>\n",
       "<style scoped>\n",
       "    .dataframe tbody tr th:only-of-type {\n",
       "        vertical-align: middle;\n",
       "    }\n",
       "\n",
       "    .dataframe tbody tr th {\n",
       "        vertical-align: top;\n",
       "    }\n",
       "\n",
       "    .dataframe thead th {\n",
       "        text-align: right;\n",
       "    }\n",
       "</style>\n",
       "<table border=\"1\" class=\"dataframe\">\n",
       "  <thead>\n",
       "    <tr style=\"text-align: right;\">\n",
       "      <th></th>\n",
       "      <th>count</th>\n",
       "      <th>mean</th>\n",
       "      <th>std</th>\n",
       "      <th>min</th>\n",
       "      <th>25%</th>\n",
       "      <th>50%</th>\n",
       "      <th>75%</th>\n",
       "      <th>max</th>\n",
       "    </tr>\n",
       "  </thead>\n",
       "  <tbody>\n",
       "    <tr>\n",
       "      <th>Number.of.Engines</th>\n",
       "      <td>82805.0</td>\n",
       "      <td>1.146585</td>\n",
       "      <td>0.446510</td>\n",
       "      <td>0.0</td>\n",
       "      <td>1.0</td>\n",
       "      <td>1.0</td>\n",
       "      <td>1.0</td>\n",
       "      <td>8.0</td>\n",
       "    </tr>\n",
       "    <tr>\n",
       "      <th>Total.Fatal.Injuries</th>\n",
       "      <td>77488.0</td>\n",
       "      <td>0.647855</td>\n",
       "      <td>5.485960</td>\n",
       "      <td>0.0</td>\n",
       "      <td>0.0</td>\n",
       "      <td>0.0</td>\n",
       "      <td>0.0</td>\n",
       "      <td>349.0</td>\n",
       "    </tr>\n",
       "    <tr>\n",
       "      <th>Total.Serious.Injuries</th>\n",
       "      <td>76379.0</td>\n",
       "      <td>0.279881</td>\n",
       "      <td>1.544084</td>\n",
       "      <td>0.0</td>\n",
       "      <td>0.0</td>\n",
       "      <td>0.0</td>\n",
       "      <td>0.0</td>\n",
       "      <td>161.0</td>\n",
       "    </tr>\n",
       "    <tr>\n",
       "      <th>Total.Minor.Injuries</th>\n",
       "      <td>76956.0</td>\n",
       "      <td>0.357061</td>\n",
       "      <td>2.235625</td>\n",
       "      <td>0.0</td>\n",
       "      <td>0.0</td>\n",
       "      <td>0.0</td>\n",
       "      <td>0.0</td>\n",
       "      <td>380.0</td>\n",
       "    </tr>\n",
       "    <tr>\n",
       "      <th>Total.Uninjured</th>\n",
       "      <td>82977.0</td>\n",
       "      <td>5.325440</td>\n",
       "      <td>27.913634</td>\n",
       "      <td>0.0</td>\n",
       "      <td>0.0</td>\n",
       "      <td>1.0</td>\n",
       "      <td>2.0</td>\n",
       "      <td>699.0</td>\n",
       "    </tr>\n",
       "  </tbody>\n",
       "</table>\n",
       "</div>"
      ],
      "text/plain": [
       "                          count      mean        std  min  25%  50%  75%  \\\n",
       "Number.of.Engines       82805.0  1.146585   0.446510  0.0  1.0  1.0  1.0   \n",
       "Total.Fatal.Injuries    77488.0  0.647855   5.485960  0.0  0.0  0.0  0.0   \n",
       "Total.Serious.Injuries  76379.0  0.279881   1.544084  0.0  0.0  0.0  0.0   \n",
       "Total.Minor.Injuries    76956.0  0.357061   2.235625  0.0  0.0  0.0  0.0   \n",
       "Total.Uninjured         82977.0  5.325440  27.913634  0.0  0.0  1.0  2.0   \n",
       "\n",
       "                          max  \n",
       "Number.of.Engines         8.0  \n",
       "Total.Fatal.Injuries    349.0  \n",
       "Total.Serious.Injuries  161.0  \n",
       "Total.Minor.Injuries    380.0  \n",
       "Total.Uninjured         699.0  "
      ]
     },
     "execution_count": 7,
     "metadata": {},
     "output_type": "execute_result"
    }
   ],
   "source": [
    "# getting concise statistical summary of numerical data\n",
    "aviation_df.describe().T"
   ]
  },
  {
   "cell_type": "code",
   "execution_count": 8,
   "metadata": {},
   "outputs": [
    {
     "data": {
      "text/html": [
       "<div>\n",
       "<style scoped>\n",
       "    .dataframe tbody tr th:only-of-type {\n",
       "        vertical-align: middle;\n",
       "    }\n",
       "\n",
       "    .dataframe tbody tr th {\n",
       "        vertical-align: top;\n",
       "    }\n",
       "\n",
       "    .dataframe thead th {\n",
       "        text-align: right;\n",
       "    }\n",
       "</style>\n",
       "<table border=\"1\" class=\"dataframe\">\n",
       "  <thead>\n",
       "    <tr style=\"text-align: right;\">\n",
       "      <th></th>\n",
       "      <th>count</th>\n",
       "      <th>unique</th>\n",
       "      <th>top</th>\n",
       "      <th>freq</th>\n",
       "    </tr>\n",
       "  </thead>\n",
       "  <tbody>\n",
       "    <tr>\n",
       "      <th>Event.Id</th>\n",
       "      <td>88889</td>\n",
       "      <td>87951</td>\n",
       "      <td>20001212X19172</td>\n",
       "      <td>3</td>\n",
       "    </tr>\n",
       "    <tr>\n",
       "      <th>Investigation.Type</th>\n",
       "      <td>88889</td>\n",
       "      <td>2</td>\n",
       "      <td>Accident</td>\n",
       "      <td>85015</td>\n",
       "    </tr>\n",
       "    <tr>\n",
       "      <th>Accident.Number</th>\n",
       "      <td>88889</td>\n",
       "      <td>88863</td>\n",
       "      <td>ERA22FA338</td>\n",
       "      <td>2</td>\n",
       "    </tr>\n",
       "    <tr>\n",
       "      <th>Event.Date</th>\n",
       "      <td>88889</td>\n",
       "      <td>14782</td>\n",
       "      <td>1982-05-16</td>\n",
       "      <td>25</td>\n",
       "    </tr>\n",
       "    <tr>\n",
       "      <th>Location</th>\n",
       "      <td>88837</td>\n",
       "      <td>27758</td>\n",
       "      <td>ANCHORAGE, AK</td>\n",
       "      <td>434</td>\n",
       "    </tr>\n",
       "    <tr>\n",
       "      <th>Country</th>\n",
       "      <td>88663</td>\n",
       "      <td>219</td>\n",
       "      <td>United States</td>\n",
       "      <td>82248</td>\n",
       "    </tr>\n",
       "    <tr>\n",
       "      <th>Latitude</th>\n",
       "      <td>34382</td>\n",
       "      <td>25592</td>\n",
       "      <td>332739N</td>\n",
       "      <td>19</td>\n",
       "    </tr>\n",
       "    <tr>\n",
       "      <th>Longitude</th>\n",
       "      <td>34373</td>\n",
       "      <td>27156</td>\n",
       "      <td>0112457W</td>\n",
       "      <td>24</td>\n",
       "    </tr>\n",
       "    <tr>\n",
       "      <th>Airport.Code</th>\n",
       "      <td>50249</td>\n",
       "      <td>10375</td>\n",
       "      <td>NONE</td>\n",
       "      <td>1488</td>\n",
       "    </tr>\n",
       "    <tr>\n",
       "      <th>Airport.Name</th>\n",
       "      <td>52790</td>\n",
       "      <td>24871</td>\n",
       "      <td>Private</td>\n",
       "      <td>240</td>\n",
       "    </tr>\n",
       "    <tr>\n",
       "      <th>Injury.Severity</th>\n",
       "      <td>87889</td>\n",
       "      <td>109</td>\n",
       "      <td>Non-Fatal</td>\n",
       "      <td>67357</td>\n",
       "    </tr>\n",
       "    <tr>\n",
       "      <th>Aircraft.damage</th>\n",
       "      <td>85695</td>\n",
       "      <td>4</td>\n",
       "      <td>Substantial</td>\n",
       "      <td>64148</td>\n",
       "    </tr>\n",
       "    <tr>\n",
       "      <th>Aircraft.Category</th>\n",
       "      <td>32287</td>\n",
       "      <td>15</td>\n",
       "      <td>Airplane</td>\n",
       "      <td>27617</td>\n",
       "    </tr>\n",
       "    <tr>\n",
       "      <th>Registration.Number</th>\n",
       "      <td>87572</td>\n",
       "      <td>79105</td>\n",
       "      <td>NONE</td>\n",
       "      <td>344</td>\n",
       "    </tr>\n",
       "    <tr>\n",
       "      <th>Make</th>\n",
       "      <td>88826</td>\n",
       "      <td>8237</td>\n",
       "      <td>Cessna</td>\n",
       "      <td>22227</td>\n",
       "    </tr>\n",
       "    <tr>\n",
       "      <th>Model</th>\n",
       "      <td>88797</td>\n",
       "      <td>12318</td>\n",
       "      <td>152</td>\n",
       "      <td>2367</td>\n",
       "    </tr>\n",
       "    <tr>\n",
       "      <th>Amateur.Built</th>\n",
       "      <td>88787</td>\n",
       "      <td>2</td>\n",
       "      <td>No</td>\n",
       "      <td>80312</td>\n",
       "    </tr>\n",
       "    <tr>\n",
       "      <th>Engine.Type</th>\n",
       "      <td>81812</td>\n",
       "      <td>13</td>\n",
       "      <td>Reciprocating</td>\n",
       "      <td>69530</td>\n",
       "    </tr>\n",
       "    <tr>\n",
       "      <th>FAR.Description</th>\n",
       "      <td>32023</td>\n",
       "      <td>31</td>\n",
       "      <td>091</td>\n",
       "      <td>18221</td>\n",
       "    </tr>\n",
       "    <tr>\n",
       "      <th>Schedule</th>\n",
       "      <td>12582</td>\n",
       "      <td>3</td>\n",
       "      <td>NSCH</td>\n",
       "      <td>4474</td>\n",
       "    </tr>\n",
       "    <tr>\n",
       "      <th>Purpose.of.flight</th>\n",
       "      <td>82697</td>\n",
       "      <td>26</td>\n",
       "      <td>Personal</td>\n",
       "      <td>49448</td>\n",
       "    </tr>\n",
       "    <tr>\n",
       "      <th>Air.carrier</th>\n",
       "      <td>16648</td>\n",
       "      <td>13590</td>\n",
       "      <td>Pilot</td>\n",
       "      <td>258</td>\n",
       "    </tr>\n",
       "    <tr>\n",
       "      <th>Weather.Condition</th>\n",
       "      <td>84397</td>\n",
       "      <td>4</td>\n",
       "      <td>VMC</td>\n",
       "      <td>77303</td>\n",
       "    </tr>\n",
       "    <tr>\n",
       "      <th>Broad.phase.of.flight</th>\n",
       "      <td>61724</td>\n",
       "      <td>12</td>\n",
       "      <td>Landing</td>\n",
       "      <td>15428</td>\n",
       "    </tr>\n",
       "    <tr>\n",
       "      <th>Report.Status</th>\n",
       "      <td>82508</td>\n",
       "      <td>17075</td>\n",
       "      <td>Probable Cause</td>\n",
       "      <td>61754</td>\n",
       "    </tr>\n",
       "    <tr>\n",
       "      <th>Publication.Date</th>\n",
       "      <td>75118</td>\n",
       "      <td>2924</td>\n",
       "      <td>25-09-2020</td>\n",
       "      <td>17019</td>\n",
       "    </tr>\n",
       "  </tbody>\n",
       "</table>\n",
       "</div>"
      ],
      "text/plain": [
       "                       count unique             top   freq\n",
       "Event.Id               88889  87951  20001212X19172      3\n",
       "Investigation.Type     88889      2        Accident  85015\n",
       "Accident.Number        88889  88863      ERA22FA338      2\n",
       "Event.Date             88889  14782      1982-05-16     25\n",
       "Location               88837  27758   ANCHORAGE, AK    434\n",
       "Country                88663    219   United States  82248\n",
       "Latitude               34382  25592         332739N     19\n",
       "Longitude              34373  27156        0112457W     24\n",
       "Airport.Code           50249  10375            NONE   1488\n",
       "Airport.Name           52790  24871         Private    240\n",
       "Injury.Severity        87889    109       Non-Fatal  67357\n",
       "Aircraft.damage        85695      4     Substantial  64148\n",
       "Aircraft.Category      32287     15        Airplane  27617\n",
       "Registration.Number    87572  79105            NONE    344\n",
       "Make                   88826   8237          Cessna  22227\n",
       "Model                  88797  12318             152   2367\n",
       "Amateur.Built          88787      2              No  80312\n",
       "Engine.Type            81812     13   Reciprocating  69530\n",
       "FAR.Description        32023     31             091  18221\n",
       "Schedule               12582      3            NSCH   4474\n",
       "Purpose.of.flight      82697     26        Personal  49448\n",
       "Air.carrier            16648  13590           Pilot    258\n",
       "Weather.Condition      84397      4             VMC  77303\n",
       "Broad.phase.of.flight  61724     12         Landing  15428\n",
       "Report.Status          82508  17075  Probable Cause  61754\n",
       "Publication.Date       75118   2924      25-09-2020  17019"
      ]
     },
     "execution_count": 8,
     "metadata": {},
     "output_type": "execute_result"
    }
   ],
   "source": [
    "# getting concise statistical summary of categorical data\n",
    "aviation_df.describe(include='O').T"
   ]
  },
  {
   "cell_type": "markdown",
   "metadata": {},
   "source": [
    "### 2.2 Initial Data Exploration of US State Codes data"
   ]
  },
  {
   "cell_type": "code",
   "execution_count": 9,
   "metadata": {
    "scrolled": true
   },
   "outputs": [],
   "source": [
    "#Load the US State Codes dataset\n",
    "USStateCodes_df = pd.read_csv('Data/USState_Codes.csv', encoding='latin-1')"
   ]
  },
  {
   "cell_type": "code",
   "execution_count": 10,
   "metadata": {},
   "outputs": [
    {
     "data": {
      "text/html": [
       "<div>\n",
       "<style scoped>\n",
       "    .dataframe tbody tr th:only-of-type {\n",
       "        vertical-align: middle;\n",
       "    }\n",
       "\n",
       "    .dataframe tbody tr th {\n",
       "        vertical-align: top;\n",
       "    }\n",
       "\n",
       "    .dataframe thead th {\n",
       "        text-align: right;\n",
       "    }\n",
       "</style>\n",
       "<table border=\"1\" class=\"dataframe\">\n",
       "  <thead>\n",
       "    <tr style=\"text-align: right;\">\n",
       "      <th></th>\n",
       "      <th>US_State</th>\n",
       "      <th>Abbreviation</th>\n",
       "    </tr>\n",
       "  </thead>\n",
       "  <tbody>\n",
       "    <tr>\n",
       "      <th>0</th>\n",
       "      <td>Alabama</td>\n",
       "      <td>AL</td>\n",
       "    </tr>\n",
       "    <tr>\n",
       "      <th>1</th>\n",
       "      <td>Alaska</td>\n",
       "      <td>AK</td>\n",
       "    </tr>\n",
       "    <tr>\n",
       "      <th>2</th>\n",
       "      <td>Arizona</td>\n",
       "      <td>AZ</td>\n",
       "    </tr>\n",
       "    <tr>\n",
       "      <th>3</th>\n",
       "      <td>Arkansas</td>\n",
       "      <td>AR</td>\n",
       "    </tr>\n",
       "    <tr>\n",
       "      <th>4</th>\n",
       "      <td>California</td>\n",
       "      <td>CA</td>\n",
       "    </tr>\n",
       "  </tbody>\n",
       "</table>\n",
       "</div>"
      ],
      "text/plain": [
       "     US_State Abbreviation\n",
       "0     Alabama           AL\n",
       "1      Alaska           AK\n",
       "2     Arizona           AZ\n",
       "3    Arkansas           AR\n",
       "4  California           CA"
      ]
     },
     "execution_count": 10,
     "metadata": {},
     "output_type": "execute_result"
    }
   ],
   "source": [
    "#Preview the first 5 rows\n",
    "USStateCodes_df.head()"
   ]
  },
  {
   "cell_type": "code",
   "execution_count": 11,
   "metadata": {},
   "outputs": [
    {
     "data": {
      "text/html": [
       "<div>\n",
       "<style scoped>\n",
       "    .dataframe tbody tr th:only-of-type {\n",
       "        vertical-align: middle;\n",
       "    }\n",
       "\n",
       "    .dataframe tbody tr th {\n",
       "        vertical-align: top;\n",
       "    }\n",
       "\n",
       "    .dataframe thead th {\n",
       "        text-align: right;\n",
       "    }\n",
       "</style>\n",
       "<table border=\"1\" class=\"dataframe\">\n",
       "  <thead>\n",
       "    <tr style=\"text-align: right;\">\n",
       "      <th></th>\n",
       "      <th>US_State</th>\n",
       "      <th>Abbreviation</th>\n",
       "    </tr>\n",
       "  </thead>\n",
       "  <tbody>\n",
       "    <tr>\n",
       "      <th>57</th>\n",
       "      <td>Virgin Islands</td>\n",
       "      <td>VI</td>\n",
       "    </tr>\n",
       "    <tr>\n",
       "      <th>58</th>\n",
       "      <td>Washington_DC</td>\n",
       "      <td>DC</td>\n",
       "    </tr>\n",
       "    <tr>\n",
       "      <th>59</th>\n",
       "      <td>Gulf of mexico</td>\n",
       "      <td>GM</td>\n",
       "    </tr>\n",
       "    <tr>\n",
       "      <th>60</th>\n",
       "      <td>Atlantic ocean</td>\n",
       "      <td>AO</td>\n",
       "    </tr>\n",
       "    <tr>\n",
       "      <th>61</th>\n",
       "      <td>Pacific ocean</td>\n",
       "      <td>PO</td>\n",
       "    </tr>\n",
       "  </tbody>\n",
       "</table>\n",
       "</div>"
      ],
      "text/plain": [
       "          US_State Abbreviation\n",
       "57  Virgin Islands           VI\n",
       "58   Washington_DC           DC\n",
       "59  Gulf of mexico           GM\n",
       "60  Atlantic ocean           AO\n",
       "61   Pacific ocean           PO"
      ]
     },
     "execution_count": 11,
     "metadata": {},
     "output_type": "execute_result"
    }
   ],
   "source": [
    "USStateCodes_df.tail()"
   ]
  },
  {
   "cell_type": "markdown",
   "metadata": {},
   "source": [
    "#### Observation\n",
    "\n",
    "The dataset is uniform from top to bottom"
   ]
  },
  {
   "cell_type": "code",
   "execution_count": 12,
   "metadata": {},
   "outputs": [
    {
     "data": {
      "text/plain": [
       "(62, 2)"
      ]
     },
     "execution_count": 12,
     "metadata": {},
     "output_type": "execute_result"
    }
   ],
   "source": [
    "USStateCodes_df.shape"
   ]
  },
  {
   "cell_type": "code",
   "execution_count": 13,
   "metadata": {},
   "outputs": [
    {
     "name": "stdout",
     "output_type": "stream",
     "text": [
      "<class 'pandas.core.frame.DataFrame'>\n",
      "RangeIndex: 62 entries, 0 to 61\n",
      "Data columns (total 2 columns):\n",
      " #   Column        Non-Null Count  Dtype \n",
      "---  ------        --------------  ----- \n",
      " 0   US_State      62 non-null     object\n",
      " 1   Abbreviation  62 non-null     object\n",
      "dtypes: object(2)\n",
      "memory usage: 1.1+ KB\n"
     ]
    }
   ],
   "source": [
    "USStateCodes_df.info()"
   ]
  },
  {
   "cell_type": "markdown",
   "metadata": {},
   "source": [
    "#### Observation\n",
    "\n",
    "The US State Codes Dataframe has **62 rows** and **2 columns**. The data type of the columns is categorical(object). There are no null values."
   ]
  },
  {
   "cell_type": "markdown",
   "metadata": {},
   "source": [
    "## 3. Data Preparation\n",
    "\n",
    "This section includes\n",
    "* Data cleaning - This entails dropping irrelevant columns, trimming whitespace, handling inconsistent naming, dealing with missing values(Decide whether to impute, drop or create 'Unknown' categories, creating new variables (Feature Engineering)\n",
    "* Exploratory Data Analysis - This involves univariate, bivariate and multivariate analysis by application of filters."
   ]
  },
  {
   "cell_type": "markdown",
   "metadata": {},
   "source": [
    "### 3.1 Data Cleaning\n",
    "\n",
    "The raw dataset contains valuable information but also inconsistencies and missing values that could skew the results. This step focuses on:\n",
    "\n",
    "- Converting columns to the appropriate data types(e.g dates, categories)\n",
    "- Handling missing or incomplete values\n",
    "- Standardizing categorical data (e.g Aircraft Make)\n",
    "- Creating new variables needed for analysis "
   ]
  },
  {
   "cell_type": "code",
   "execution_count": 14,
   "metadata": {},
   "outputs": [
    {
     "data": {
      "text/html": [
       "<div>\n",
       "<style scoped>\n",
       "    .dataframe tbody tr th:only-of-type {\n",
       "        vertical-align: middle;\n",
       "    }\n",
       "\n",
       "    .dataframe tbody tr th {\n",
       "        vertical-align: top;\n",
       "    }\n",
       "\n",
       "    .dataframe thead th {\n",
       "        text-align: right;\n",
       "    }\n",
       "</style>\n",
       "<table border=\"1\" class=\"dataframe\">\n",
       "  <thead>\n",
       "    <tr style=\"text-align: right;\">\n",
       "      <th></th>\n",
       "      <th>Event.Id</th>\n",
       "      <th>Investigation.Type</th>\n",
       "      <th>Accident.Number</th>\n",
       "      <th>Event.Date</th>\n",
       "      <th>Location</th>\n",
       "      <th>Country</th>\n",
       "      <th>Latitude</th>\n",
       "      <th>Longitude</th>\n",
       "      <th>Airport.Code</th>\n",
       "      <th>Airport.Name</th>\n",
       "      <th>...</th>\n",
       "      <th>Purpose.of.flight</th>\n",
       "      <th>Air.carrier</th>\n",
       "      <th>Total.Fatal.Injuries</th>\n",
       "      <th>Total.Serious.Injuries</th>\n",
       "      <th>Total.Minor.Injuries</th>\n",
       "      <th>Total.Uninjured</th>\n",
       "      <th>Weather.Condition</th>\n",
       "      <th>Broad.phase.of.flight</th>\n",
       "      <th>Report.Status</th>\n",
       "      <th>Publication.Date</th>\n",
       "    </tr>\n",
       "  </thead>\n",
       "  <tbody>\n",
       "    <tr>\n",
       "      <th>0</th>\n",
       "      <td>20001218X45444</td>\n",
       "      <td>Accident</td>\n",
       "      <td>SEA87LA080</td>\n",
       "      <td>1948-10-24</td>\n",
       "      <td>MOOSE CREEK, ID</td>\n",
       "      <td>United States</td>\n",
       "      <td>NaN</td>\n",
       "      <td>NaN</td>\n",
       "      <td>NaN</td>\n",
       "      <td>NaN</td>\n",
       "      <td>...</td>\n",
       "      <td>Personal</td>\n",
       "      <td>NaN</td>\n",
       "      <td>2.0</td>\n",
       "      <td>0.0</td>\n",
       "      <td>0.0</td>\n",
       "      <td>0.0</td>\n",
       "      <td>UNK</td>\n",
       "      <td>Cruise</td>\n",
       "      <td>Probable Cause</td>\n",
       "      <td>NaN</td>\n",
       "    </tr>\n",
       "    <tr>\n",
       "      <th>1</th>\n",
       "      <td>20001218X45447</td>\n",
       "      <td>Accident</td>\n",
       "      <td>LAX94LA336</td>\n",
       "      <td>1962-07-19</td>\n",
       "      <td>BRIDGEPORT, CA</td>\n",
       "      <td>United States</td>\n",
       "      <td>NaN</td>\n",
       "      <td>NaN</td>\n",
       "      <td>NaN</td>\n",
       "      <td>NaN</td>\n",
       "      <td>...</td>\n",
       "      <td>Personal</td>\n",
       "      <td>NaN</td>\n",
       "      <td>4.0</td>\n",
       "      <td>0.0</td>\n",
       "      <td>0.0</td>\n",
       "      <td>0.0</td>\n",
       "      <td>UNK</td>\n",
       "      <td>Unknown</td>\n",
       "      <td>Probable Cause</td>\n",
       "      <td>19-09-1996</td>\n",
       "    </tr>\n",
       "    <tr>\n",
       "      <th>2</th>\n",
       "      <td>20061025X01555</td>\n",
       "      <td>Accident</td>\n",
       "      <td>NYC07LA005</td>\n",
       "      <td>1974-08-30</td>\n",
       "      <td>Saltville, VA</td>\n",
       "      <td>United States</td>\n",
       "      <td>36.9222</td>\n",
       "      <td>-81.8781</td>\n",
       "      <td>NaN</td>\n",
       "      <td>NaN</td>\n",
       "      <td>...</td>\n",
       "      <td>Personal</td>\n",
       "      <td>NaN</td>\n",
       "      <td>3.0</td>\n",
       "      <td>NaN</td>\n",
       "      <td>NaN</td>\n",
       "      <td>NaN</td>\n",
       "      <td>IMC</td>\n",
       "      <td>Cruise</td>\n",
       "      <td>Probable Cause</td>\n",
       "      <td>26-02-2007</td>\n",
       "    </tr>\n",
       "    <tr>\n",
       "      <th>3</th>\n",
       "      <td>20001218X45448</td>\n",
       "      <td>Accident</td>\n",
       "      <td>LAX96LA321</td>\n",
       "      <td>1977-06-19</td>\n",
       "      <td>EUREKA, CA</td>\n",
       "      <td>United States</td>\n",
       "      <td>NaN</td>\n",
       "      <td>NaN</td>\n",
       "      <td>NaN</td>\n",
       "      <td>NaN</td>\n",
       "      <td>...</td>\n",
       "      <td>Personal</td>\n",
       "      <td>NaN</td>\n",
       "      <td>2.0</td>\n",
       "      <td>0.0</td>\n",
       "      <td>0.0</td>\n",
       "      <td>0.0</td>\n",
       "      <td>IMC</td>\n",
       "      <td>Cruise</td>\n",
       "      <td>Probable Cause</td>\n",
       "      <td>12-09-2000</td>\n",
       "    </tr>\n",
       "    <tr>\n",
       "      <th>4</th>\n",
       "      <td>20041105X01764</td>\n",
       "      <td>Accident</td>\n",
       "      <td>CHI79FA064</td>\n",
       "      <td>1979-08-02</td>\n",
       "      <td>Canton, OH</td>\n",
       "      <td>United States</td>\n",
       "      <td>NaN</td>\n",
       "      <td>NaN</td>\n",
       "      <td>NaN</td>\n",
       "      <td>NaN</td>\n",
       "      <td>...</td>\n",
       "      <td>Personal</td>\n",
       "      <td>NaN</td>\n",
       "      <td>1.0</td>\n",
       "      <td>2.0</td>\n",
       "      <td>NaN</td>\n",
       "      <td>0.0</td>\n",
       "      <td>VMC</td>\n",
       "      <td>Approach</td>\n",
       "      <td>Probable Cause</td>\n",
       "      <td>16-04-1980</td>\n",
       "    </tr>\n",
       "  </tbody>\n",
       "</table>\n",
       "<p>5 rows × 31 columns</p>\n",
       "</div>"
      ],
      "text/plain": [
       "         Event.Id Investigation.Type Accident.Number  Event.Date  \\\n",
       "0  20001218X45444           Accident      SEA87LA080  1948-10-24   \n",
       "1  20001218X45447           Accident      LAX94LA336  1962-07-19   \n",
       "2  20061025X01555           Accident      NYC07LA005  1974-08-30   \n",
       "3  20001218X45448           Accident      LAX96LA321  1977-06-19   \n",
       "4  20041105X01764           Accident      CHI79FA064  1979-08-02   \n",
       "\n",
       "          Location        Country Latitude Longitude Airport.Code  \\\n",
       "0  MOOSE CREEK, ID  United States      NaN       NaN          NaN   \n",
       "1   BRIDGEPORT, CA  United States      NaN       NaN          NaN   \n",
       "2    Saltville, VA  United States  36.9222  -81.8781          NaN   \n",
       "3       EUREKA, CA  United States      NaN       NaN          NaN   \n",
       "4       Canton, OH  United States      NaN       NaN          NaN   \n",
       "\n",
       "  Airport.Name  ... Purpose.of.flight Air.carrier Total.Fatal.Injuries  \\\n",
       "0          NaN  ...          Personal         NaN                  2.0   \n",
       "1          NaN  ...          Personal         NaN                  4.0   \n",
       "2          NaN  ...          Personal         NaN                  3.0   \n",
       "3          NaN  ...          Personal         NaN                  2.0   \n",
       "4          NaN  ...          Personal         NaN                  1.0   \n",
       "\n",
       "  Total.Serious.Injuries Total.Minor.Injuries Total.Uninjured  \\\n",
       "0                    0.0                  0.0             0.0   \n",
       "1                    0.0                  0.0             0.0   \n",
       "2                    NaN                  NaN             NaN   \n",
       "3                    0.0                  0.0             0.0   \n",
       "4                    2.0                  NaN             0.0   \n",
       "\n",
       "  Weather.Condition  Broad.phase.of.flight   Report.Status Publication.Date  \n",
       "0               UNK                 Cruise  Probable Cause              NaN  \n",
       "1               UNK                Unknown  Probable Cause       19-09-1996  \n",
       "2               IMC                 Cruise  Probable Cause       26-02-2007  \n",
       "3               IMC                 Cruise  Probable Cause       12-09-2000  \n",
       "4               VMC               Approach  Probable Cause       16-04-1980  \n",
       "\n",
       "[5 rows x 31 columns]"
      ]
     },
     "execution_count": 14,
     "metadata": {},
     "output_type": "execute_result"
    }
   ],
   "source": [
    "#create a copy of the original aviation_df for cleaning\n",
    "aviation_df1 = aviation_df.copy(deep=True)\n",
    "\n",
    "#check the first 5 rows\n",
    "aviation_df1.head()"
   ]
  },
  {
   "cell_type": "markdown",
   "metadata": {},
   "source": [
    "#### 3.1.1. Checking the columns"
   ]
  },
  {
   "cell_type": "code",
   "execution_count": 15,
   "metadata": {},
   "outputs": [
    {
     "data": {
      "text/plain": [
       "Index(['Event.Id', 'Investigation.Type', 'Accident.Number', 'Event.Date',\n",
       "       'Location', 'Country', 'Latitude', 'Longitude', 'Airport.Code',\n",
       "       'Airport.Name', 'Injury.Severity', 'Aircraft.damage',\n",
       "       'Aircraft.Category', 'Registration.Number', 'Make', 'Model',\n",
       "       'Amateur.Built', 'Number.of.Engines', 'Engine.Type', 'FAR.Description',\n",
       "       'Schedule', 'Purpose.of.flight', 'Air.carrier', 'Total.Fatal.Injuries',\n",
       "       'Total.Serious.Injuries', 'Total.Minor.Injuries', 'Total.Uninjured',\n",
       "       'Weather.Condition', 'Broad.phase.of.flight', 'Report.Status',\n",
       "       'Publication.Date'],\n",
       "      dtype='object')"
      ]
     },
     "execution_count": 15,
     "metadata": {},
     "output_type": "execute_result"
    }
   ],
   "source": [
    "#checking the columns\n",
    "aviation_df1.columns"
   ]
  },
  {
   "cell_type": "code",
   "execution_count": 16,
   "metadata": {},
   "outputs": [
    {
     "data": {
      "text/plain": [
       "Index(['Event_Id', 'Investigation_Type', 'Accident_Number', 'Event_Date',\n",
       "       'Location', 'Country', 'Latitude', 'Longitude', 'Airport_Code',\n",
       "       'Airport_Name', 'Injury_Severity', 'Aircraft_damage',\n",
       "       'Aircraft_Category', 'Registration_Number', 'Make', 'Model',\n",
       "       'Amateur_Built', 'Number_of_Engines', 'Engine_Type', 'FAR_Description',\n",
       "       'Schedule', 'Purpose_of_flight', 'Air_carrier', 'Total_Fatal_Injuries',\n",
       "       'Total_Serious_Injuries', 'Total_Minor_Injuries', 'Total_Uninjured',\n",
       "       'Weather_Condition', 'Broad_phase_of_flight', 'Report_Status',\n",
       "       'Publication_Date'],\n",
       "      dtype='object')"
      ]
     },
     "execution_count": 16,
     "metadata": {},
     "output_type": "execute_result"
    }
   ],
   "source": [
    "#change the \".\" separator to \"_\" in the columns\n",
    "aviation_df1.columns = aviation_df1.columns.str.replace('.', '_')\n",
    "aviation_df1.columns"
   ]
  },
  {
   "cell_type": "markdown",
   "metadata": {},
   "source": [
    "#### 3.1.2 Checking the columns data types"
   ]
  },
  {
   "cell_type": "code",
   "execution_count": 17,
   "metadata": {},
   "outputs": [
    {
     "data": {
      "text/plain": [
       "Event_Id                   object\n",
       "Investigation_Type         object\n",
       "Accident_Number            object\n",
       "Event_Date                 object\n",
       "Location                   object\n",
       "Country                    object\n",
       "Latitude                   object\n",
       "Longitude                  object\n",
       "Airport_Code               object\n",
       "Airport_Name               object\n",
       "Injury_Severity            object\n",
       "Aircraft_damage            object\n",
       "Aircraft_Category          object\n",
       "Registration_Number        object\n",
       "Make                       object\n",
       "Model                      object\n",
       "Amateur_Built              object\n",
       "Number_of_Engines         float64\n",
       "Engine_Type                object\n",
       "FAR_Description            object\n",
       "Schedule                   object\n",
       "Purpose_of_flight          object\n",
       "Air_carrier                object\n",
       "Total_Fatal_Injuries      float64\n",
       "Total_Serious_Injuries    float64\n",
       "Total_Minor_Injuries      float64\n",
       "Total_Uninjured           float64\n",
       "Weather_Condition          object\n",
       "Broad_phase_of_flight      object\n",
       "Report_Status              object\n",
       "Publication_Date           object\n",
       "dtype: object"
      ]
     },
     "execution_count": 17,
     "metadata": {},
     "output_type": "execute_result"
    }
   ],
   "source": [
    "aviation_df1.dtypes"
   ]
  },
  {
   "cell_type": "markdown",
   "metadata": {},
   "source": [
    "#### Observation\n",
    "The Event_Date and Publication_Date are of the Object Data type yet they should be of the date time datatype so as to enable trend analysis and coming up with a new column of year from the data."
   ]
  },
  {
   "cell_type": "code",
   "execution_count": 18,
   "metadata": {},
   "outputs": [
    {
     "data": {
      "text/plain": [
       "Event_Id                          object\n",
       "Investigation_Type                object\n",
       "Accident_Number                   object\n",
       "Event_Date                datetime64[ns]\n",
       "Location                          object\n",
       "Country                           object\n",
       "Latitude                          object\n",
       "Longitude                         object\n",
       "Airport_Code                      object\n",
       "Airport_Name                      object\n",
       "Injury_Severity                   object\n",
       "Aircraft_damage                   object\n",
       "Aircraft_Category                 object\n",
       "Registration_Number               object\n",
       "Make                              object\n",
       "Model                             object\n",
       "Amateur_Built                     object\n",
       "Number_of_Engines                float64\n",
       "Engine_Type                       object\n",
       "FAR_Description                   object\n",
       "Schedule                          object\n",
       "Purpose_of_flight                 object\n",
       "Air_carrier                       object\n",
       "Total_Fatal_Injuries             float64\n",
       "Total_Serious_Injuries           float64\n",
       "Total_Minor_Injuries             float64\n",
       "Total_Uninjured                  float64\n",
       "Weather_Condition                 object\n",
       "Broad_phase_of_flight             object\n",
       "Report_Status                     object\n",
       "Publication_Date          datetime64[ns]\n",
       "dtype: object"
      ]
     },
     "execution_count": 18,
     "metadata": {},
     "output_type": "execute_result"
    }
   ],
   "source": [
    "#converting to datetime datatype \n",
    "aviation_df1['Event_Date'] = pd.to_datetime(aviation_df1['Event_Date'].str.strip('-'))\n",
    "aviation_df1['Publication_Date'] = pd.to_datetime(aviation_df1['Publication_Date'].str.strip('-'))\n",
    "\n",
    "#check if the Event Date and Publication Date have been converted to datetime datatype\n",
    "aviation_df1.dtypes"
   ]
  },
  {
   "cell_type": "code",
   "execution_count": 19,
   "metadata": {},
   "outputs": [
    {
     "data": {
      "text/html": [
       "<div>\n",
       "<style scoped>\n",
       "    .dataframe tbody tr th:only-of-type {\n",
       "        vertical-align: middle;\n",
       "    }\n",
       "\n",
       "    .dataframe tbody tr th {\n",
       "        vertical-align: top;\n",
       "    }\n",
       "\n",
       "    .dataframe thead th {\n",
       "        text-align: right;\n",
       "    }\n",
       "</style>\n",
       "<table border=\"1\" class=\"dataframe\">\n",
       "  <thead>\n",
       "    <tr style=\"text-align: right;\">\n",
       "      <th></th>\n",
       "      <th>Event_Id</th>\n",
       "      <th>Investigation_Type</th>\n",
       "      <th>Accident_Number</th>\n",
       "      <th>Event_Date</th>\n",
       "      <th>Location</th>\n",
       "      <th>Country</th>\n",
       "      <th>Latitude</th>\n",
       "      <th>Longitude</th>\n",
       "      <th>Airport_Code</th>\n",
       "      <th>Airport_Name</th>\n",
       "      <th>...</th>\n",
       "      <th>Purpose_of_flight</th>\n",
       "      <th>Air_carrier</th>\n",
       "      <th>Total_Fatal_Injuries</th>\n",
       "      <th>Total_Serious_Injuries</th>\n",
       "      <th>Total_Minor_Injuries</th>\n",
       "      <th>Total_Uninjured</th>\n",
       "      <th>Weather_Condition</th>\n",
       "      <th>Broad_phase_of_flight</th>\n",
       "      <th>Report_Status</th>\n",
       "      <th>Publication_Date</th>\n",
       "    </tr>\n",
       "  </thead>\n",
       "  <tbody>\n",
       "    <tr>\n",
       "      <th>0</th>\n",
       "      <td>20001218X45444</td>\n",
       "      <td>Accident</td>\n",
       "      <td>SEA87LA080</td>\n",
       "      <td>1948-10-24</td>\n",
       "      <td>MOOSE CREEK, ID</td>\n",
       "      <td>United States</td>\n",
       "      <td>NaN</td>\n",
       "      <td>NaN</td>\n",
       "      <td>NaN</td>\n",
       "      <td>NaN</td>\n",
       "      <td>...</td>\n",
       "      <td>Personal</td>\n",
       "      <td>NaN</td>\n",
       "      <td>2.0</td>\n",
       "      <td>0.0</td>\n",
       "      <td>0.0</td>\n",
       "      <td>0.0</td>\n",
       "      <td>UNK</td>\n",
       "      <td>Cruise</td>\n",
       "      <td>Probable Cause</td>\n",
       "      <td>NaT</td>\n",
       "    </tr>\n",
       "    <tr>\n",
       "      <th>1</th>\n",
       "      <td>20001218X45447</td>\n",
       "      <td>Accident</td>\n",
       "      <td>LAX94LA336</td>\n",
       "      <td>1962-07-19</td>\n",
       "      <td>BRIDGEPORT, CA</td>\n",
       "      <td>United States</td>\n",
       "      <td>NaN</td>\n",
       "      <td>NaN</td>\n",
       "      <td>NaN</td>\n",
       "      <td>NaN</td>\n",
       "      <td>...</td>\n",
       "      <td>Personal</td>\n",
       "      <td>NaN</td>\n",
       "      <td>4.0</td>\n",
       "      <td>0.0</td>\n",
       "      <td>0.0</td>\n",
       "      <td>0.0</td>\n",
       "      <td>UNK</td>\n",
       "      <td>Unknown</td>\n",
       "      <td>Probable Cause</td>\n",
       "      <td>1996-09-19</td>\n",
       "    </tr>\n",
       "    <tr>\n",
       "      <th>2</th>\n",
       "      <td>20061025X01555</td>\n",
       "      <td>Accident</td>\n",
       "      <td>NYC07LA005</td>\n",
       "      <td>1974-08-30</td>\n",
       "      <td>Saltville, VA</td>\n",
       "      <td>United States</td>\n",
       "      <td>36.9222</td>\n",
       "      <td>-81.8781</td>\n",
       "      <td>NaN</td>\n",
       "      <td>NaN</td>\n",
       "      <td>...</td>\n",
       "      <td>Personal</td>\n",
       "      <td>NaN</td>\n",
       "      <td>3.0</td>\n",
       "      <td>NaN</td>\n",
       "      <td>NaN</td>\n",
       "      <td>NaN</td>\n",
       "      <td>IMC</td>\n",
       "      <td>Cruise</td>\n",
       "      <td>Probable Cause</td>\n",
       "      <td>2007-02-26</td>\n",
       "    </tr>\n",
       "    <tr>\n",
       "      <th>3</th>\n",
       "      <td>20001218X45448</td>\n",
       "      <td>Accident</td>\n",
       "      <td>LAX96LA321</td>\n",
       "      <td>1977-06-19</td>\n",
       "      <td>EUREKA, CA</td>\n",
       "      <td>United States</td>\n",
       "      <td>NaN</td>\n",
       "      <td>NaN</td>\n",
       "      <td>NaN</td>\n",
       "      <td>NaN</td>\n",
       "      <td>...</td>\n",
       "      <td>Personal</td>\n",
       "      <td>NaN</td>\n",
       "      <td>2.0</td>\n",
       "      <td>0.0</td>\n",
       "      <td>0.0</td>\n",
       "      <td>0.0</td>\n",
       "      <td>IMC</td>\n",
       "      <td>Cruise</td>\n",
       "      <td>Probable Cause</td>\n",
       "      <td>2000-12-09</td>\n",
       "    </tr>\n",
       "    <tr>\n",
       "      <th>4</th>\n",
       "      <td>20041105X01764</td>\n",
       "      <td>Accident</td>\n",
       "      <td>CHI79FA064</td>\n",
       "      <td>1979-08-02</td>\n",
       "      <td>Canton, OH</td>\n",
       "      <td>United States</td>\n",
       "      <td>NaN</td>\n",
       "      <td>NaN</td>\n",
       "      <td>NaN</td>\n",
       "      <td>NaN</td>\n",
       "      <td>...</td>\n",
       "      <td>Personal</td>\n",
       "      <td>NaN</td>\n",
       "      <td>1.0</td>\n",
       "      <td>2.0</td>\n",
       "      <td>NaN</td>\n",
       "      <td>0.0</td>\n",
       "      <td>VMC</td>\n",
       "      <td>Approach</td>\n",
       "      <td>Probable Cause</td>\n",
       "      <td>1980-04-16</td>\n",
       "    </tr>\n",
       "  </tbody>\n",
       "</table>\n",
       "<p>5 rows × 31 columns</p>\n",
       "</div>"
      ],
      "text/plain": [
       "         Event_Id Investigation_Type Accident_Number Event_Date  \\\n",
       "0  20001218X45444           Accident      SEA87LA080 1948-10-24   \n",
       "1  20001218X45447           Accident      LAX94LA336 1962-07-19   \n",
       "2  20061025X01555           Accident      NYC07LA005 1974-08-30   \n",
       "3  20001218X45448           Accident      LAX96LA321 1977-06-19   \n",
       "4  20041105X01764           Accident      CHI79FA064 1979-08-02   \n",
       "\n",
       "          Location        Country Latitude Longitude Airport_Code  \\\n",
       "0  MOOSE CREEK, ID  United States      NaN       NaN          NaN   \n",
       "1   BRIDGEPORT, CA  United States      NaN       NaN          NaN   \n",
       "2    Saltville, VA  United States  36.9222  -81.8781          NaN   \n",
       "3       EUREKA, CA  United States      NaN       NaN          NaN   \n",
       "4       Canton, OH  United States      NaN       NaN          NaN   \n",
       "\n",
       "  Airport_Name  ... Purpose_of_flight Air_carrier Total_Fatal_Injuries  \\\n",
       "0          NaN  ...          Personal         NaN                  2.0   \n",
       "1          NaN  ...          Personal         NaN                  4.0   \n",
       "2          NaN  ...          Personal         NaN                  3.0   \n",
       "3          NaN  ...          Personal         NaN                  2.0   \n",
       "4          NaN  ...          Personal         NaN                  1.0   \n",
       "\n",
       "  Total_Serious_Injuries Total_Minor_Injuries Total_Uninjured  \\\n",
       "0                    0.0                  0.0             0.0   \n",
       "1                    0.0                  0.0             0.0   \n",
       "2                    NaN                  NaN             NaN   \n",
       "3                    0.0                  0.0             0.0   \n",
       "4                    2.0                  NaN             0.0   \n",
       "\n",
       "  Weather_Condition  Broad_phase_of_flight   Report_Status Publication_Date  \n",
       "0               UNK                 Cruise  Probable Cause              NaT  \n",
       "1               UNK                Unknown  Probable Cause       1996-09-19  \n",
       "2               IMC                 Cruise  Probable Cause       2007-02-26  \n",
       "3               IMC                 Cruise  Probable Cause       2000-12-09  \n",
       "4               VMC               Approach  Probable Cause       1980-04-16  \n",
       "\n",
       "[5 rows x 31 columns]"
      ]
     },
     "execution_count": 19,
     "metadata": {},
     "output_type": "execute_result"
    }
   ],
   "source": [
    "#check the first 5 rows\n",
    "aviation_df1.head()"
   ]
  },
  {
   "cell_type": "code",
   "execution_count": 20,
   "metadata": {},
   "outputs": [
    {
     "data": {
      "text/html": [
       "<div>\n",
       "<style scoped>\n",
       "    .dataframe tbody tr th:only-of-type {\n",
       "        vertical-align: middle;\n",
       "    }\n",
       "\n",
       "    .dataframe tbody tr th {\n",
       "        vertical-align: top;\n",
       "    }\n",
       "\n",
       "    .dataframe thead th {\n",
       "        text-align: right;\n",
       "    }\n",
       "</style>\n",
       "<table border=\"1\" class=\"dataframe\">\n",
       "  <thead>\n",
       "    <tr style=\"text-align: right;\">\n",
       "      <th></th>\n",
       "      <th>Event_Id</th>\n",
       "      <th>Investigation_Type</th>\n",
       "      <th>Accident_Number</th>\n",
       "      <th>Event_Date</th>\n",
       "      <th>Location</th>\n",
       "      <th>Country</th>\n",
       "      <th>Latitude</th>\n",
       "      <th>Longitude</th>\n",
       "      <th>Airport_Code</th>\n",
       "      <th>Airport_Name</th>\n",
       "      <th>...</th>\n",
       "      <th>Air_carrier</th>\n",
       "      <th>Total_Fatal_Injuries</th>\n",
       "      <th>Total_Serious_Injuries</th>\n",
       "      <th>Total_Minor_Injuries</th>\n",
       "      <th>Total_Uninjured</th>\n",
       "      <th>Weather_Condition</th>\n",
       "      <th>Broad_phase_of_flight</th>\n",
       "      <th>Report_Status</th>\n",
       "      <th>Publication_Date</th>\n",
       "      <th>Event_Year</th>\n",
       "    </tr>\n",
       "  </thead>\n",
       "  <tbody>\n",
       "    <tr>\n",
       "      <th>0</th>\n",
       "      <td>20001218X45444</td>\n",
       "      <td>Accident</td>\n",
       "      <td>SEA87LA080</td>\n",
       "      <td>1948-10-24</td>\n",
       "      <td>MOOSE CREEK, ID</td>\n",
       "      <td>United States</td>\n",
       "      <td>NaN</td>\n",
       "      <td>NaN</td>\n",
       "      <td>NaN</td>\n",
       "      <td>NaN</td>\n",
       "      <td>...</td>\n",
       "      <td>NaN</td>\n",
       "      <td>2.0</td>\n",
       "      <td>0.0</td>\n",
       "      <td>0.0</td>\n",
       "      <td>0.0</td>\n",
       "      <td>UNK</td>\n",
       "      <td>Cruise</td>\n",
       "      <td>Probable Cause</td>\n",
       "      <td>NaT</td>\n",
       "      <td>1948</td>\n",
       "    </tr>\n",
       "    <tr>\n",
       "      <th>1</th>\n",
       "      <td>20001218X45447</td>\n",
       "      <td>Accident</td>\n",
       "      <td>LAX94LA336</td>\n",
       "      <td>1962-07-19</td>\n",
       "      <td>BRIDGEPORT, CA</td>\n",
       "      <td>United States</td>\n",
       "      <td>NaN</td>\n",
       "      <td>NaN</td>\n",
       "      <td>NaN</td>\n",
       "      <td>NaN</td>\n",
       "      <td>...</td>\n",
       "      <td>NaN</td>\n",
       "      <td>4.0</td>\n",
       "      <td>0.0</td>\n",
       "      <td>0.0</td>\n",
       "      <td>0.0</td>\n",
       "      <td>UNK</td>\n",
       "      <td>Unknown</td>\n",
       "      <td>Probable Cause</td>\n",
       "      <td>1996-09-19</td>\n",
       "      <td>1962</td>\n",
       "    </tr>\n",
       "    <tr>\n",
       "      <th>2</th>\n",
       "      <td>20061025X01555</td>\n",
       "      <td>Accident</td>\n",
       "      <td>NYC07LA005</td>\n",
       "      <td>1974-08-30</td>\n",
       "      <td>Saltville, VA</td>\n",
       "      <td>United States</td>\n",
       "      <td>36.9222</td>\n",
       "      <td>-81.8781</td>\n",
       "      <td>NaN</td>\n",
       "      <td>NaN</td>\n",
       "      <td>...</td>\n",
       "      <td>NaN</td>\n",
       "      <td>3.0</td>\n",
       "      <td>NaN</td>\n",
       "      <td>NaN</td>\n",
       "      <td>NaN</td>\n",
       "      <td>IMC</td>\n",
       "      <td>Cruise</td>\n",
       "      <td>Probable Cause</td>\n",
       "      <td>2007-02-26</td>\n",
       "      <td>1974</td>\n",
       "    </tr>\n",
       "    <tr>\n",
       "      <th>3</th>\n",
       "      <td>20001218X45448</td>\n",
       "      <td>Accident</td>\n",
       "      <td>LAX96LA321</td>\n",
       "      <td>1977-06-19</td>\n",
       "      <td>EUREKA, CA</td>\n",
       "      <td>United States</td>\n",
       "      <td>NaN</td>\n",
       "      <td>NaN</td>\n",
       "      <td>NaN</td>\n",
       "      <td>NaN</td>\n",
       "      <td>...</td>\n",
       "      <td>NaN</td>\n",
       "      <td>2.0</td>\n",
       "      <td>0.0</td>\n",
       "      <td>0.0</td>\n",
       "      <td>0.0</td>\n",
       "      <td>IMC</td>\n",
       "      <td>Cruise</td>\n",
       "      <td>Probable Cause</td>\n",
       "      <td>2000-12-09</td>\n",
       "      <td>1977</td>\n",
       "    </tr>\n",
       "    <tr>\n",
       "      <th>4</th>\n",
       "      <td>20041105X01764</td>\n",
       "      <td>Accident</td>\n",
       "      <td>CHI79FA064</td>\n",
       "      <td>1979-08-02</td>\n",
       "      <td>Canton, OH</td>\n",
       "      <td>United States</td>\n",
       "      <td>NaN</td>\n",
       "      <td>NaN</td>\n",
       "      <td>NaN</td>\n",
       "      <td>NaN</td>\n",
       "      <td>...</td>\n",
       "      <td>NaN</td>\n",
       "      <td>1.0</td>\n",
       "      <td>2.0</td>\n",
       "      <td>NaN</td>\n",
       "      <td>0.0</td>\n",
       "      <td>VMC</td>\n",
       "      <td>Approach</td>\n",
       "      <td>Probable Cause</td>\n",
       "      <td>1980-04-16</td>\n",
       "      <td>1979</td>\n",
       "    </tr>\n",
       "  </tbody>\n",
       "</table>\n",
       "<p>5 rows × 32 columns</p>\n",
       "</div>"
      ],
      "text/plain": [
       "         Event_Id Investigation_Type Accident_Number Event_Date  \\\n",
       "0  20001218X45444           Accident      SEA87LA080 1948-10-24   \n",
       "1  20001218X45447           Accident      LAX94LA336 1962-07-19   \n",
       "2  20061025X01555           Accident      NYC07LA005 1974-08-30   \n",
       "3  20001218X45448           Accident      LAX96LA321 1977-06-19   \n",
       "4  20041105X01764           Accident      CHI79FA064 1979-08-02   \n",
       "\n",
       "          Location        Country Latitude Longitude Airport_Code  \\\n",
       "0  MOOSE CREEK, ID  United States      NaN       NaN          NaN   \n",
       "1   BRIDGEPORT, CA  United States      NaN       NaN          NaN   \n",
       "2    Saltville, VA  United States  36.9222  -81.8781          NaN   \n",
       "3       EUREKA, CA  United States      NaN       NaN          NaN   \n",
       "4       Canton, OH  United States      NaN       NaN          NaN   \n",
       "\n",
       "  Airport_Name  ... Air_carrier Total_Fatal_Injuries Total_Serious_Injuries  \\\n",
       "0          NaN  ...         NaN                  2.0                    0.0   \n",
       "1          NaN  ...         NaN                  4.0                    0.0   \n",
       "2          NaN  ...         NaN                  3.0                    NaN   \n",
       "3          NaN  ...         NaN                  2.0                    0.0   \n",
       "4          NaN  ...         NaN                  1.0                    2.0   \n",
       "\n",
       "  Total_Minor_Injuries Total_Uninjured Weather_Condition  \\\n",
       "0                  0.0             0.0               UNK   \n",
       "1                  0.0             0.0               UNK   \n",
       "2                  NaN             NaN               IMC   \n",
       "3                  0.0             0.0               IMC   \n",
       "4                  NaN             0.0               VMC   \n",
       "\n",
       "  Broad_phase_of_flight   Report_Status Publication_Date Event_Year  \n",
       "0                Cruise  Probable Cause              NaT       1948  \n",
       "1               Unknown  Probable Cause       1996-09-19       1962  \n",
       "2                Cruise  Probable Cause       2007-02-26       1974  \n",
       "3                Cruise  Probable Cause       2000-12-09       1977  \n",
       "4              Approach  Probable Cause       1980-04-16       1979  \n",
       "\n",
       "[5 rows x 32 columns]"
      ]
     },
     "execution_count": 20,
     "metadata": {},
     "output_type": "execute_result"
    }
   ],
   "source": [
    "#we can create a new column of year\n",
    "aviation_df1['Event_Year'] = aviation_df1['Event_Date'].dt.year\n",
    "\n",
    "#check the first five rows\n",
    "aviation_df1.head()"
   ]
  },
  {
   "cell_type": "markdown",
   "metadata": {},
   "source": [
    "#### 3.1.3 Standardising the columns"
   ]
  },
  {
   "cell_type": "code",
   "execution_count": 21,
   "metadata": {},
   "outputs": [
    {
     "data": {
      "text/plain": [
       "Cessna                  22227\n",
       "Piper                   12029\n",
       "CESSNA                   4922\n",
       "Beech                    4330\n",
       "PIPER                    2841\n",
       "                        ...  \n",
       "Shea                        1\n",
       "Kenoyer                     1\n",
       "Frisby                      1\n",
       "SWEENEY TIMOTHY J           1\n",
       "Robinson Helicopters        1\n",
       "Name: Make, Length: 8237, dtype: int64"
      ]
     },
     "execution_count": 21,
     "metadata": {},
     "output_type": "execute_result"
    }
   ],
   "source": [
    "#checking the unique values of Make and their counts\n",
    "aviation_df1['Make'].value_counts()"
   ]
  },
  {
   "cell_type": "markdown",
   "metadata": {},
   "source": [
    "##### Observation\n",
    "We note some inconsistencies where Cessna is captured as CESSNA and Piper as PIPER which is one and the same thing. There is a possibility of white spaces also causing similar values to have the differences. "
   ]
  },
  {
   "cell_type": "code",
   "execution_count": 22,
   "metadata": {},
   "outputs": [
    {
     "data": {
      "text/plain": [
       "CESSNA                          27149\n",
       "PIPER                           14870\n",
       "BEECH                            5372\n",
       "BOEING                           2745\n",
       "BELL                             2722\n",
       "                                ...  \n",
       "CHINESE A/F AERO IND DEV CTR        1\n",
       "BINS TOM                            1\n",
       "WELCH THOMAS                        1\n",
       "BRINKERHUFF GERALD G                1\n",
       "BLUMER                              1\n",
       "Name: Make, Length: 7587, dtype: int64"
      ]
     },
     "execution_count": 22,
     "metadata": {},
     "output_type": "execute_result"
    }
   ],
   "source": [
    "#standardise the Make variable\n",
    "\n",
    "aviation_df1['Make'] = aviation_df1['Make'].str.upper().str.strip()\n",
    "aviation_df1['Make'].value_counts()"
   ]
  },
  {
   "cell_type": "code",
   "execution_count": 23,
   "metadata": {},
   "outputs": [
    {
     "data": {
      "text/plain": [
       "VMC    77303\n",
       "IMC     5976\n",
       "UNK      856\n",
       "Unk      262\n",
       "Name: Weather_Condition, dtype: int64"
      ]
     },
     "execution_count": 23,
     "metadata": {},
     "output_type": "execute_result"
    }
   ],
   "source": [
    "#checking the unique values of Weather and their counts\n",
    "aviation_df1['Weather_Condition'].value_counts()"
   ]
  },
  {
   "cell_type": "markdown",
   "metadata": {},
   "source": [
    "##### Observation\n",
    "We note some inconsistencies where UNK is captured as unk which is one and the same thing. While using domain knowledge we note that there are no weather conditions in aviation related with UNK hence we change this to Unknown."
   ]
  },
  {
   "cell_type": "code",
   "execution_count": 24,
   "metadata": {},
   "outputs": [
    {
     "data": {
      "text/plain": [
       "VMC        77303\n",
       "IMC         5976\n",
       "Unknown     1118\n",
       "Name: Weather_Condition, dtype: int64"
      ]
     },
     "execution_count": 24,
     "metadata": {},
     "output_type": "execute_result"
    }
   ],
   "source": [
    "#standardise the Weather Condition variable\n",
    "aviation_df1['Weather_Condition'] = aviation_df1['Weather_Condition'].str.upper().str.strip()\n",
    "\n",
    "#replace UNK with 'Unknown'\n",
    "aviation_df1['Weather_Condition'] = aviation_df1['Weather_Condition'].replace('UNK','Unknown')\n",
    "\n",
    "#checking the value counts\n",
    "aviation_df1['Weather_Condition'].value_counts()"
   ]
  },
  {
   "cell_type": "code",
   "execution_count": 25,
   "metadata": {},
   "outputs": [
    {
     "data": {
      "text/plain": [
       "ANCHORAGE, AK        434\n",
       "MIAMI, FL            200\n",
       "ALBUQUERQUE, NM      196\n",
       "HOUSTON, TX          193\n",
       "CHICAGO, IL          184\n",
       "                    ... \n",
       "Trapper Creek, AK      1\n",
       "ISABEL, SD             1\n",
       "ODUM, GA               1\n",
       "LEOLA, SD              1\n",
       "BEELER, KS             1\n",
       "Name: Location, Length: 27758, dtype: int64"
      ]
     },
     "execution_count": 25,
     "metadata": {},
     "output_type": "execute_result"
    }
   ],
   "source": [
    "#checking unique values count for Location\n",
    "\n",
    "aviation_df1['Location'].value_counts()"
   ]
  },
  {
   "cell_type": "markdown",
   "metadata": {},
   "source": [
    "##### Observation\n",
    "We note some inconsistencies where some data is in uppercase and some in lowercase which may cause them to seem like unique values but represent the same thing."
   ]
  },
  {
   "cell_type": "code",
   "execution_count": 26,
   "metadata": {},
   "outputs": [],
   "source": [
    "#ensuring standard format for all data by converting all the names to uppercase\n",
    "aviation_df1['Location']=aviation_df1['Location'].str.upper().str.strip()"
   ]
  },
  {
   "cell_type": "code",
   "execution_count": 27,
   "metadata": {},
   "outputs": [
    {
     "data": {
      "text/plain": [
       "ANCHORAGE, AK              548\n",
       "MIAMI, FL                  275\n",
       "HOUSTON, TX                271\n",
       "ALBUQUERQUE, NM            265\n",
       "CHICAGO, IL                256\n",
       "                          ... \n",
       "RIO DE JANERIRO, BRAZIL      1\n",
       "RIPLEY, OK                   1\n",
       "8 S. OF PAGE, AZ             1\n",
       "RIO GRANDE, NJ               1\n",
       "MARION, MA                   1\n",
       "Name: Location, Length: 21977, dtype: int64"
      ]
     },
     "execution_count": 27,
     "metadata": {},
     "output_type": "execute_result"
    }
   ],
   "source": [
    "#checking the impact eg. initally Anchorage, AK had 434 value counts but now has 548 meaning there was some similar information in lowercase\n",
    "aviation_df1['Location'].value_counts()"
   ]
  },
  {
   "cell_type": "code",
   "execution_count": 28,
   "metadata": {},
   "outputs": [
    {
     "data": {
      "text/plain": [
       "United States               82248\n",
       "Brazil                        374\n",
       "Canada                        359\n",
       "Mexico                        358\n",
       "United Kingdom                344\n",
       "                            ...  \n",
       "Montserrat                      1\n",
       "Cambodia                        1\n",
       "Turks and Caicos Islands        1\n",
       "Nauru                           1\n",
       "Wolseley                        1\n",
       "Name: Country, Length: 219, dtype: int64"
      ]
     },
     "execution_count": 28,
     "metadata": {},
     "output_type": "execute_result"
    }
   ],
   "source": [
    "aviation_df1['Country'].value_counts()"
   ]
  },
  {
   "cell_type": "markdown",
   "metadata": {},
   "source": [
    "##### Observation\n",
    "\n",
    "We note that there are misspellings such as French Guiana instead of Guyana. We also note that there is Saint Vincent and the Grenadines and St Vincent And The Grenadine. We also have initials representing a country such as AY. In view of this, there is a need to standardize the country names by using a country mapping dictionary.  "
   ]
  },
  {
   "cell_type": "code",
   "execution_count": 29,
   "metadata": {
    "code_folding": []
   },
   "outputs": [],
   "source": [
    "country_map = {\n",
    "    \"United Kingdom\": \"United Kingdom\",\n",
    "    \"Great Britain\": \"United Kingdom\",\n",
    "    \"Scotland\": \"United Kingdom\",\n",
    "    \"South Korea\": \"South Korea\",\n",
    "    \"Korea, Republic Of\": \"South Korea\",\n",
    "    \"Turks And Caicos\": \"Turks and Caicos\",\n",
    "    \"Turks And Caicos Islands\": \"Turks and Caicos\",\n",
    "    \"Macao\": \"Macau\",\n",
    "    \"Congo\": \"Republic of the Congo\",\n",
    "    \"Antarctica\": \"Region - Antarctica\",\n",
    "    \"Virgin Islands\": \"United States Virgin Islands\",\n",
    "    \"Côte d'Ivoire\": \"Côte d'Ivoire\",\n",
    "    \"Cote d'Ivoire\": \"Côte d'Ivoire\",\n",
    "    \"Federated States Of Micronesia\": \"Micronesia\",\n",
    "    \"Micronesia\": \"Micronesia\",\n",
    "    \"Antigua and Barbuda\": \"Antigua and Barbuda\",\n",
    "    \"Antigua And Barbuda\": \"Antigua and Barbuda\",\n",
    "    \"Republic of North Macedonia\": \"North Macedonia\",\n",
    "    \"St Kitts And Nevis\": \"Saint Kitts and Nevis\",\n",
    "    \"Cayenne\": \"French Guiana\", #city in Guiana\n",
    "    \"South Korean\": \"South Korea\",\n",
    "    \"MU\": \"Unknown\",#unknown country\n",
    "    \"Reunion\": \"Réunion\",\n",
    "    \"Saint Vincent and the Grenadines\": \"Saint Vincent and the Grenadines\",\n",
    "    \"St Vincent And The Grenadines\": \"Saint Vincent and the Grenadines\",\n",
    "    \"ATLANTIC OCEAN\": \"Region - Atlantic Ocean\",\n",
    "    \"Pacific Ocean\": \"Region - Pacific Ocean\",\n",
    "    \"PACIFIC OCEAN\": \"Region - Pacific Ocean\",\n",
    "    \"GULF OF MEXICO\": \"Region - Gulf of Mexico\",\n",
    "    \"CARIBBEAN SEA\": \"Region - Caribbean Sea\",\n",
    "    \"UN\": \"Unknown\",\n",
    "    \"MISSING\": \"Unknown\",\n",
    "    \"Unknown\": \"Unknown\",\n",
    "    \"AY\": \"Unknown\",\n",
    "    \"Wolseley\": \"Unknown\",\n",
    "    \"BLOCK 651A\": \"Unknown\",\n",
    "    \"Malampa\": \"Vanuatu\",  #province in Vanuatu\n",
    "    \"San Juan Islands\": \"United States\",  # Part of Washington State\n",
    "    \"Ivory Coast\": \"Côte d'Ivoire\",\n",
    "    \"French Guiana\": \"France\", \n",
    "    \"Corsica\": \"France\",  # Region of France\n",
    "    \"St Lucia\": \"Saint Lucia\"\n",
    "}"
   ]
  },
  {
   "cell_type": "code",
   "execution_count": 30,
   "metadata": {},
   "outputs": [
    {
     "data": {
      "text/plain": [
       "United States     82249\n",
       "Brazil              374\n",
       "Canada              359\n",
       "Mexico              358\n",
       "United Kingdom      347\n",
       "                  ...  \n",
       "Libya                 1\n",
       "Nauru                 1\n",
       "Albania               1\n",
       "Yemen                 1\n",
       "Niger                 1\n",
       "Name: Country, Length: 200, dtype: int64"
      ]
     },
     "execution_count": 30,
     "metadata": {},
     "output_type": "execute_result"
    }
   ],
   "source": [
    "#create a function to standardize the country names\n",
    "def standardize_country(df):\n",
    "    if pd.isnull(df):\n",
    "        return df\n",
    "    return country_map.get(df.strip(), df.strip())\n",
    "\n",
    "#apply the function\n",
    "aviation_df1[\"Country\"] = aviation_df1[\"Country\"].apply(standardize_country)\n",
    "\n",
    "#check the value counts of unique values\n",
    "aviation_df1['Country'].value_counts()"
   ]
  },
  {
   "cell_type": "code",
   "execution_count": 31,
   "metadata": {},
   "outputs": [
    {
     "data": {
      "text/plain": [
       "152                  2367\n",
       "172                  1756\n",
       "172N                 1164\n",
       "PA-28-140             932\n",
       "150                   829\n",
       "                     ... \n",
       "PRESCOTT                1\n",
       "FOXBAT                  1\n",
       "DR1                     1\n",
       "LESS DRAG SPECIAL       1\n",
       "Choctaw                 1\n",
       "Name: Model, Length: 12318, dtype: int64"
      ]
     },
     "execution_count": 31,
     "metadata": {},
     "output_type": "execute_result"
    }
   ],
   "source": [
    "#checking value counts for unique values in Model\n",
    "aviation_df1['Model'].value_counts()"
   ]
  },
  {
   "cell_type": "markdown",
   "metadata": {},
   "source": [
    "##### Observation\n",
    "\n",
    "We note some inconsistencies where some values are in upper case and others in lowercase hence there is a need to standardise all to one case."
   ]
  },
  {
   "cell_type": "code",
   "execution_count": 32,
   "metadata": {},
   "outputs": [
    {
     "data": {
      "text/plain": [
       "152          2367\n",
       "172          1756\n",
       "172N         1164\n",
       "PA-28-140     932\n",
       "150           829\n",
       "             ... \n",
       "LANCAIR 4       1\n",
       "E-LSA           1\n",
       "SGS 2-8         1\n",
       "TC206G          1\n",
       "C-182Q          1\n",
       "Name: Model, Length: 11646, dtype: int64"
      ]
     },
     "execution_count": 32,
     "metadata": {},
     "output_type": "execute_result"
    }
   ],
   "source": [
    "#Standardizing the Model to be in Uppercase and stripping any white case\n",
    "aviation_df1['Model'] = aviation_df1['Model'].str.upper().str.strip()\n",
    "\n",
    "aviation_df1['Model'].value_counts()"
   ]
  },
  {
   "cell_type": "code",
   "execution_count": 33,
   "metadata": {},
   "outputs": [
    {
     "data": {
      "text/plain": [
       "No     80312\n",
       "Yes     8475\n",
       "Name: Amateur_Built, dtype: int64"
      ]
     },
     "execution_count": 33,
     "metadata": {},
     "output_type": "execute_result"
    }
   ],
   "source": [
    "aviation_df1['Amateur_Built'].value_counts()"
   ]
  },
  {
   "cell_type": "markdown",
   "metadata": {},
   "source": [
    "##### Observation\n",
    "\n",
    "We note that there are no recurring unique values hence the column is standardised."
   ]
  },
  {
   "cell_type": "code",
   "execution_count": 34,
   "metadata": {},
   "outputs": [
    {
     "data": {
      "text/plain": [
       "Airplane             27617\n",
       "Helicopter            3440\n",
       "Glider                 508\n",
       "Balloon                231\n",
       "Gyrocraft              173\n",
       "Weight-Shift           161\n",
       "Powered Parachute       91\n",
       "Ultralight              30\n",
       "Unknown                 14\n",
       "WSFT                     9\n",
       "Powered-Lift             5\n",
       "Blimp                    4\n",
       "UNK                      2\n",
       "Rocket                   1\n",
       "ULTR                     1\n",
       "Name: Aircraft_Category, dtype: int64"
      ]
     },
     "execution_count": 34,
     "metadata": {},
     "output_type": "execute_result"
    }
   ],
   "source": [
    "aviation_df1['Aircraft_Category'].value_counts()"
   ]
  },
  {
   "cell_type": "markdown",
   "metadata": {},
   "source": [
    "##### Observation\n",
    "\n",
    "We note some inconsistencies in the standard naming of aircraft categories."
   ]
  },
  {
   "cell_type": "code",
   "execution_count": 35,
   "metadata": {},
   "outputs": [
    {
     "data": {
      "text/plain": [
       "Airplane             27617\n",
       "Helicopter            3440\n",
       "Glider                 508\n",
       "Balloon                231\n",
       "Gyrocraft              173\n",
       "Weight-Shift           170\n",
       "Powered Parachute       91\n",
       "Ultralight              31\n",
       "Unknown                 16\n",
       "Powered-Lift             5\n",
       "Blimp                    4\n",
       "Rocket                   1\n",
       "Name: Aircraft_Category, dtype: int64"
      ]
     },
     "execution_count": 35,
     "metadata": {},
     "output_type": "execute_result"
    }
   ],
   "source": [
    "#creating a category standardisation map\n",
    "category_standardization = {\n",
    "    'WSFT': 'Weight-Shift',\n",
    "    'ULTR': 'Ultralight',\n",
    "    'UNK': 'Unknown',\n",
    "}\n",
    "\n",
    "#applying the standardisation \n",
    "aviation_df1['Aircraft_Category'] = aviation_df1['Aircraft_Category'].replace(category_standardization)\n",
    "\n",
    "#Converting to a standard title case and stripping any whitespace\n",
    "aviation_df1['Aircraft_Category'] = aviation_df1['Aircraft_Category'].str.strip().str.title()\n",
    "\n",
    "#checking the value counts \n",
    "aviation_df1['Aircraft_Category'].value_counts()"
   ]
  },
  {
   "cell_type": "code",
   "execution_count": 36,
   "metadata": {},
   "outputs": [
    {
     "data": {
      "text/plain": [
       "Reciprocating      69530\n",
       "Turbo Shaft         3609\n",
       "Turbo Prop          3391\n",
       "Turbo Fan           2481\n",
       "Unknown             2051\n",
       "Turbo Jet            703\n",
       "None                  19\n",
       "Geared Turbofan       12\n",
       "Electric              10\n",
       "NONE                   2\n",
       "LR                     2\n",
       "UNK                    1\n",
       "Hybrid Rocket          1\n",
       "Name: Engine_Type, dtype: int64"
      ]
     },
     "execution_count": 36,
     "metadata": {},
     "output_type": "execute_result"
    }
   ],
   "source": [
    "#checking the value counts\n",
    "aviation_df1['Engine_Type'].value_counts()"
   ]
  },
  {
   "cell_type": "code",
   "execution_count": 37,
   "metadata": {},
   "outputs": [
    {
     "data": {
      "text/plain": [
       "Reciprocating      69530\n",
       "Turbo Shaft         3609\n",
       "Turbo Prop          3391\n",
       "Turbo Fan           2481\n",
       "Unknown             2054\n",
       "Turbo Jet            703\n",
       "None                  21\n",
       "Geared Turbofan       12\n",
       "Electric              10\n",
       "Hybrid Rocket          1\n",
       "Name: Engine_Type, dtype: int64"
      ]
     },
     "execution_count": 37,
     "metadata": {},
     "output_type": "execute_result"
    }
   ],
   "source": [
    "#replacing LR and UNK with \"Unknown\"\n",
    "aviation_df1['Engine_Type'] = aviation_df1['Engine_Type'].replace({'UNK':'Unknown','LR':'Unknown'}, )\n",
    "\n",
    "#Converting to a standard title case and stripping any whitespace\n",
    "aviation_df1['Engine_Type'] = aviation_df1['Engine_Type'].str.strip().str.title()\n",
    "\n",
    "#checking the value counts \n",
    "aviation_df1['Engine_Type'].value_counts()"
   ]
  },
  {
   "cell_type": "code",
   "execution_count": 38,
   "metadata": {},
   "outputs": [
    {
     "data": {
      "text/plain": [
       "Personal                     49448\n",
       "Instructional                10601\n",
       "Unknown                       6802\n",
       "Aerial Application            4712\n",
       "Business                      4018\n",
       "Positioning                   1646\n",
       "Other Work Use                1264\n",
       "Ferry                          812\n",
       "Aerial Observation             794\n",
       "Public Aircraft                720\n",
       "Executive/corporate            553\n",
       "Flight Test                    405\n",
       "Skydiving                      182\n",
       "External Load                  123\n",
       "Public Aircraft - Federal      105\n",
       "Banner Tow                     101\n",
       "Air Race show                   99\n",
       "Public Aircraft - Local         74\n",
       "Public Aircraft - State         64\n",
       "Air Race/show                   59\n",
       "Glider Tow                      53\n",
       "Firefighting                    40\n",
       "Air Drop                        11\n",
       "ASHO                             6\n",
       "PUBS                             4\n",
       "PUBL                             1\n",
       "Name: Purpose_of_flight, dtype: int64"
      ]
     },
     "execution_count": 38,
     "metadata": {},
     "output_type": "execute_result"
    }
   ],
   "source": [
    "#checking the value counts \n",
    "aviation_df1['Purpose_of_flight'].value_counts()"
   ]
  },
  {
   "cell_type": "code",
   "execution_count": 39,
   "metadata": {},
   "outputs": [
    {
     "data": {
      "text/plain": [
       "Personal                     49448\n",
       "Instructional                10601\n",
       "Unknown                       6813\n",
       "Aerial Application            4712\n",
       "Business                      4018\n",
       "Positioning                   1646\n",
       "Other Work Use                1264\n",
       "Ferry                          812\n",
       "Aerial Observation             794\n",
       "Public Aircraft                720\n",
       "Executive/Corporate            553\n",
       "Flight Test                    405\n",
       "Skydiving                      182\n",
       "Air Race/Show                  158\n",
       "External Load                  123\n",
       "Public Aircraft - Federal      105\n",
       "Banner Tow                     101\n",
       "Public Aircraft - Local         74\n",
       "Public Aircraft - State         64\n",
       "Glider Tow                      53\n",
       "Firefighting                    40\n",
       "Air Drop                        11\n",
       "Name: Purpose_of_flight, dtype: int64"
      ]
     },
     "execution_count": 39,
     "metadata": {},
     "output_type": "execute_result"
    }
   ],
   "source": [
    "#replacing ASHO, PUBS and PUBL with \"Unknown\"\n",
    "aviation_df1['Purpose_of_flight'] = aviation_df1['Purpose_of_flight'].replace({'ASHO':'Unknown','PUBS':'Unknown','PUBL':'Unknown', 'Air Race show':'Air Race/show'})\n",
    "\n",
    "#Converting to a standard title case and stripping any whitespace\n",
    "aviation_df1['Purpose_of_flight'] = aviation_df1['Purpose_of_flight'].str.strip().str.title()\n",
    "\n",
    "#checking the value counts \n",
    "aviation_df1['Purpose_of_flight'].value_counts()"
   ]
  },
  {
   "cell_type": "code",
   "execution_count": 40,
   "metadata": {},
   "outputs": [
    {
     "data": {
      "text/plain": [
       "Non-Fatal     67357\n",
       "Fatal(1)       6167\n",
       "Fatal          5262\n",
       "Fatal(2)       3711\n",
       "Incident       2219\n",
       "              ...  \n",
       "Fatal(43)         1\n",
       "Fatal(115)        1\n",
       "Fatal(110)        1\n",
       "Fatal(265)        1\n",
       "Fatal(230)        1\n",
       "Name: Injury_Severity, Length: 109, dtype: int64"
      ]
     },
     "execution_count": 40,
     "metadata": {},
     "output_type": "execute_result"
    }
   ],
   "source": [
    "#checking the value counts \n",
    "aviation_df1['Injury_Severity'].value_counts()"
   ]
  },
  {
   "cell_type": "markdown",
   "metadata": {},
   "source": [
    "##### Observation\n",
    "\n",
    "We note that the information contained in this column contains some quantitave information which can be deduced to be the actual fatality count which is in the total fatal injuries column. In view of this, we can strip these values off to retain the column as a qualitative column."
   ]
  },
  {
   "cell_type": "code",
   "execution_count": 41,
   "metadata": {},
   "outputs": [
    {
     "data": {
      "text/plain": [
       "Fatal          85183\n",
       "Incident        2219\n",
       "Minor            218\n",
       "Serious          173\n",
       "Unavailable       96\n",
       "Name: Injury_Severity, dtype: int64"
      ]
     },
     "execution_count": 41,
     "metadata": {},
     "output_type": "execute_result"
    }
   ],
   "source": [
    "#create a function to standardize Injury Severity\n",
    "\n",
    "def standardize_injury_severity(severity):\n",
    "    if pd.isna(severity):\n",
    "        return np.nan\n",
    "    \n",
    "    severity = severity.strip().lower()\n",
    "    \n",
    "    if \"fatal\" in severity:\n",
    "        return \"Fatal\"\n",
    "    elif \"non-fatal\" in severity:\n",
    "        return \"Non-Fatal\"\n",
    "    elif \"minor\" in severity:\n",
    "        return \"Minor\"\n",
    "    elif \"serious\" in severity:\n",
    "        return \"Serious\"\n",
    "    elif \"incident\" in severity:\n",
    "        return \"Incident\"\n",
    "    elif \"unavailable\" in severity:\n",
    "        return \"Unavailable\"\n",
    "    else:\n",
    "        return np.nan\n",
    "\n",
    "#apply the function to the dataframe for standardisation\n",
    "aviation_df1[\"Injury_Severity\"] = aviation_df1[\"Injury_Severity\"].apply(standardize_injury_severity)\n",
    "\n",
    "#checking the value counts \n",
    "aviation_df1['Injury_Severity'].value_counts()"
   ]
  },
  {
   "cell_type": "code",
   "execution_count": 42,
   "metadata": {},
   "outputs": [
    {
     "data": {
      "text/plain": [
       "Substantial    64148\n",
       "Destroyed      18623\n",
       "Minor           2805\n",
       "Unknown          119\n",
       "Name: Aircraft_damage, dtype: int64"
      ]
     },
     "execution_count": 42,
     "metadata": {},
     "output_type": "execute_result"
    }
   ],
   "source": [
    "#checking the value counts \n",
    "aviation_df1['Aircraft_damage'].value_counts()"
   ]
  },
  {
   "cell_type": "code",
   "execution_count": 43,
   "metadata": {},
   "outputs": [
    {
     "data": {
      "text/plain": [
       "NONE      344\n",
       "UNREG     126\n",
       "None       65\n",
       "UNK        13\n",
       "USAF        9\n",
       "         ... \n",
       "N729CM      1\n",
       "N9549T      1\n",
       "N714ZE      1\n",
       "N1433J      1\n",
       "N67210      1\n",
       "Name: Registration_Number, Length: 79105, dtype: int64"
      ]
     },
     "execution_count": 43,
     "metadata": {},
     "output_type": "execute_result"
    }
   ],
   "source": [
    "#checking the value counts \n",
    "aviation_df1['Registration_Number'].value_counts()"
   ]
  },
  {
   "cell_type": "code",
   "execution_count": 44,
   "metadata": {},
   "outputs": [
    {
     "data": {
      "text/plain": [
       "UNREG      131\n",
       "UNKNOWN     10\n",
       "USAF         9\n",
       "N20752       8\n",
       "N11VH        6\n",
       "          ... \n",
       "N714ZE       1\n",
       "N1433J       1\n",
       "N1507R       1\n",
       "N7635U       1\n",
       "N67210       1\n",
       "Name: Registration_Number, Length: 79092, dtype: int64"
      ]
     },
     "execution_count": 44,
     "metadata": {},
     "output_type": "execute_result"
    }
   ],
   "source": [
    "#standardise the registration numbers to uppercase\n",
    "aviation_df1['Registration_Number']=aviation_df1['Registration_Number'].str.upper()\n",
    "\n",
    "#replace None and UNK with null values\n",
    "aviation_df1['Registration_Number'] = aviation_df1['Registration_Number'].replace({'NONE':np.nan, 'UNK':np.nan})\n",
    "\n",
    "#checking the value counts \n",
    "aviation_df1['Registration_Number'].value_counts()"
   ]
  },
  {
   "cell_type": "markdown",
   "metadata": {},
   "source": [
    "#### 3.1.4. Checking for missing values column by column"
   ]
  },
  {
   "cell_type": "code",
   "execution_count": 45,
   "metadata": {},
   "outputs": [
    {
     "data": {
      "text/plain": [
       "Event_Id                      0\n",
       "Investigation_Type            0\n",
       "Accident_Number               0\n",
       "Event_Date                    0\n",
       "Location                     52\n",
       "Country                     226\n",
       "Latitude                  54507\n",
       "Longitude                 54516\n",
       "Airport_Code              38640\n",
       "Airport_Name              36099\n",
       "Injury_Severity            1000\n",
       "Aircraft_damage            3194\n",
       "Aircraft_Category         56602\n",
       "Registration_Number        1742\n",
       "Make                         63\n",
       "Model                        92\n",
       "Amateur_Built               102\n",
       "Number_of_Engines          6084\n",
       "Engine_Type                7077\n",
       "FAR_Description           56866\n",
       "Schedule                  76307\n",
       "Purpose_of_flight          6192\n",
       "Air_carrier               72241\n",
       "Total_Fatal_Injuries      11401\n",
       "Total_Serious_Injuries    12510\n",
       "Total_Minor_Injuries      11933\n",
       "Total_Uninjured            5912\n",
       "Weather_Condition          4492\n",
       "Broad_phase_of_flight     27165\n",
       "Report_Status              6381\n",
       "Publication_Date          13771\n",
       "Event_Year                    0\n",
       "dtype: int64"
      ]
     },
     "execution_count": 45,
     "metadata": {},
     "output_type": "execute_result"
    }
   ],
   "source": [
    "#checking for missing values in the columns\n",
    "aviation_df1.isnull().sum()"
   ]
  },
  {
   "cell_type": "markdown",
   "metadata": {},
   "source": [
    "#### Dealing with missing data for numerical variables\n",
    "\n",
    "The following numerical variables have missing data/null values as shown below:\n",
    "* Number_of_Engines          6084\n",
    "* Total_Fatal_Injuries      11401\n",
    "* Total_Serious_Injuries    12510\n",
    "* Total_Minor_Injuries      11933\n",
    "* Total_Uninjured            5912"
   ]
  },
  {
   "cell_type": "code",
   "execution_count": 46,
   "metadata": {},
   "outputs": [
    {
     "data": {
      "text/html": [
       "<div>\n",
       "<style scoped>\n",
       "    .dataframe tbody tr th:only-of-type {\n",
       "        vertical-align: middle;\n",
       "    }\n",
       "\n",
       "    .dataframe tbody tr th {\n",
       "        vertical-align: top;\n",
       "    }\n",
       "\n",
       "    .dataframe thead th {\n",
       "        text-align: right;\n",
       "    }\n",
       "</style>\n",
       "<table border=\"1\" class=\"dataframe\">\n",
       "  <thead>\n",
       "    <tr style=\"text-align: right;\">\n",
       "      <th></th>\n",
       "      <th>count</th>\n",
       "      <th>mean</th>\n",
       "      <th>std</th>\n",
       "      <th>min</th>\n",
       "      <th>25%</th>\n",
       "      <th>50%</th>\n",
       "      <th>75%</th>\n",
       "      <th>max</th>\n",
       "    </tr>\n",
       "  </thead>\n",
       "  <tbody>\n",
       "    <tr>\n",
       "      <th>Number_of_Engines</th>\n",
       "      <td>82805.0</td>\n",
       "      <td>1.146585</td>\n",
       "      <td>0.446510</td>\n",
       "      <td>0.0</td>\n",
       "      <td>1.0</td>\n",
       "      <td>1.0</td>\n",
       "      <td>1.0</td>\n",
       "      <td>8.0</td>\n",
       "    </tr>\n",
       "    <tr>\n",
       "      <th>Total_Fatal_Injuries</th>\n",
       "      <td>77488.0</td>\n",
       "      <td>0.647855</td>\n",
       "      <td>5.485960</td>\n",
       "      <td>0.0</td>\n",
       "      <td>0.0</td>\n",
       "      <td>0.0</td>\n",
       "      <td>0.0</td>\n",
       "      <td>349.0</td>\n",
       "    </tr>\n",
       "    <tr>\n",
       "      <th>Total_Serious_Injuries</th>\n",
       "      <td>76379.0</td>\n",
       "      <td>0.279881</td>\n",
       "      <td>1.544084</td>\n",
       "      <td>0.0</td>\n",
       "      <td>0.0</td>\n",
       "      <td>0.0</td>\n",
       "      <td>0.0</td>\n",
       "      <td>161.0</td>\n",
       "    </tr>\n",
       "    <tr>\n",
       "      <th>Total_Minor_Injuries</th>\n",
       "      <td>76956.0</td>\n",
       "      <td>0.357061</td>\n",
       "      <td>2.235625</td>\n",
       "      <td>0.0</td>\n",
       "      <td>0.0</td>\n",
       "      <td>0.0</td>\n",
       "      <td>0.0</td>\n",
       "      <td>380.0</td>\n",
       "    </tr>\n",
       "    <tr>\n",
       "      <th>Total_Uninjured</th>\n",
       "      <td>82977.0</td>\n",
       "      <td>5.325440</td>\n",
       "      <td>27.913634</td>\n",
       "      <td>0.0</td>\n",
       "      <td>0.0</td>\n",
       "      <td>1.0</td>\n",
       "      <td>2.0</td>\n",
       "      <td>699.0</td>\n",
       "    </tr>\n",
       "    <tr>\n",
       "      <th>Event_Year</th>\n",
       "      <td>88889.0</td>\n",
       "      <td>1999.206662</td>\n",
       "      <td>11.888226</td>\n",
       "      <td>1948.0</td>\n",
       "      <td>1989.0</td>\n",
       "      <td>1998.0</td>\n",
       "      <td>2009.0</td>\n",
       "      <td>2022.0</td>\n",
       "    </tr>\n",
       "  </tbody>\n",
       "</table>\n",
       "</div>"
      ],
      "text/plain": [
       "                          count         mean        std     min     25%  \\\n",
       "Number_of_Engines       82805.0     1.146585   0.446510     0.0     1.0   \n",
       "Total_Fatal_Injuries    77488.0     0.647855   5.485960     0.0     0.0   \n",
       "Total_Serious_Injuries  76379.0     0.279881   1.544084     0.0     0.0   \n",
       "Total_Minor_Injuries    76956.0     0.357061   2.235625     0.0     0.0   \n",
       "Total_Uninjured         82977.0     5.325440  27.913634     0.0     0.0   \n",
       "Event_Year              88889.0  1999.206662  11.888226  1948.0  1989.0   \n",
       "\n",
       "                           50%     75%     max  \n",
       "Number_of_Engines          1.0     1.0     8.0  \n",
       "Total_Fatal_Injuries       0.0     0.0   349.0  \n",
       "Total_Serious_Injuries     0.0     0.0   161.0  \n",
       "Total_Minor_Injuries       0.0     0.0   380.0  \n",
       "Total_Uninjured            1.0     2.0   699.0  \n",
       "Event_Year              1998.0  2009.0  2022.0  "
      ]
     },
     "execution_count": 46,
     "metadata": {},
     "output_type": "execute_result"
    }
   ],
   "source": [
    "#checking the statistical summary of numerical variables\n",
    "\n",
    "aviation_df1.describe().T"
   ]
  },
  {
   "cell_type": "code",
   "execution_count": 47,
   "metadata": {},
   "outputs": [
    {
     "data": {
      "image/png": "[encoded data removed]",
      "text/plain": [
       "<Figure size 720x576 with 1 Axes>"
      ]
     },
     "metadata": {
      "needs_background": "light"
     },
     "output_type": "display_data"
    }
   ],
   "source": [
    "#visualise the histogram for Number of Engines\n",
    "fig,ax = plt.subplots(figsize=(10,8))\n",
    "sns.histplot(aviation_df1.Number_of_Engines, bins=10)\n",
    "plt.xlabel('Number of Engines', fontsize=12)\n",
    "plt.ylabel('Count', fontsize=12)\n",
    "plt.title('Distribution of Number of Engines', fontsize=12)\n",
    "plt.show()"
   ]
  },
  {
   "cell_type": "markdown",
   "metadata": {},
   "source": [
    "##### Observation\n",
    "\n",
    "The histogram plot shows a right skewed plot hence to impute the values of the Number of Engines we can use the median. "
   ]
  },
  {
   "cell_type": "code",
   "execution_count": 48,
   "metadata": {},
   "outputs": [
    {
     "data": {
      "text/plain": [
       "Event_Id                      0\n",
       "Investigation_Type            0\n",
       "Accident_Number               0\n",
       "Event_Date                    0\n",
       "Location                     52\n",
       "Country                     226\n",
       "Latitude                  54507\n",
       "Longitude                 54516\n",
       "Airport_Code              38640\n",
       "Airport_Name              36099\n",
       "Injury_Severity            1000\n",
       "Aircraft_damage            3194\n",
       "Aircraft_Category         56602\n",
       "Registration_Number        1742\n",
       "Make                         63\n",
       "Model                        92\n",
       "Amateur_Built               102\n",
       "Number_of_Engines             0\n",
       "Engine_Type                7077\n",
       "FAR_Description           56866\n",
       "Schedule                  76307\n",
       "Purpose_of_flight          6192\n",
       "Air_carrier               72241\n",
       "Total_Fatal_Injuries      11401\n",
       "Total_Serious_Injuries    12510\n",
       "Total_Minor_Injuries      11933\n",
       "Total_Uninjured            5912\n",
       "Weather_Condition          4492\n",
       "Broad_phase_of_flight     27165\n",
       "Report_Status              6381\n",
       "Publication_Date          13771\n",
       "Event_Year                    0\n",
       "dtype: int64"
      ]
     },
     "execution_count": 48,
     "metadata": {},
     "output_type": "execute_result"
    }
   ],
   "source": [
    "#imputing the Number of Engines using the median and filling up the missing values using fillna\n",
    "\n",
    "aviation_df1['Number_of_Engines'].fillna((aviation_df1['Number_of_Engines'].median()), inplace=True)\n",
    "aviation_df1.isna().sum()"
   ]
  },
  {
   "cell_type": "code",
   "execution_count": 49,
   "metadata": {},
   "outputs": [
    {
     "data": {
      "image/png": "[encoded data removed]",
      "text/plain": [
       "<Figure size 720x576 with 1 Axes>"
      ]
     },
     "metadata": {
      "needs_background": "light"
     },
     "output_type": "display_data"
    }
   ],
   "source": [
    "#visualise the histogram for Total Fatal Injuries\n",
    "fig,ax = plt.subplots(figsize=(10,8))\n",
    "sns.histplot(aviation_df1.Total_Fatal_Injuries, bins=50, binrange=(0,50))\n",
    "plt.xlabel('Total Fatal Injuries', fontsize=12)\n",
    "plt.ylabel('Count', fontsize=12)\n",
    "plt.title('Distribution of Total Fatal Injuries', fontsize=12)\n",
    "plt.show()"
   ]
  },
  {
   "cell_type": "markdown",
   "metadata": {},
   "source": [
    "##### Observation\n",
    "\n",
    "The histogram shows a positive skewness which can also be deduced from the high number of counts for the lower numbers of total fatal injuries. An appropriate method for imputing missing values would be to impute with the median. "
   ]
  },
  {
   "cell_type": "code",
   "execution_count": 50,
   "metadata": {},
   "outputs": [
    {
     "data": {
      "text/plain": [
       "Event_Id                      0\n",
       "Investigation_Type            0\n",
       "Accident_Number               0\n",
       "Event_Date                    0\n",
       "Location                     52\n",
       "Country                     226\n",
       "Latitude                  54507\n",
       "Longitude                 54516\n",
       "Airport_Code              38640\n",
       "Airport_Name              36099\n",
       "Injury_Severity            1000\n",
       "Aircraft_damage            3194\n",
       "Aircraft_Category         56602\n",
       "Registration_Number        1742\n",
       "Make                         63\n",
       "Model                        92\n",
       "Amateur_Built               102\n",
       "Number_of_Engines             0\n",
       "Engine_Type                7077\n",
       "FAR_Description           56866\n",
       "Schedule                  76307\n",
       "Purpose_of_flight          6192\n",
       "Air_carrier               72241\n",
       "Total_Fatal_Injuries          0\n",
       "Total_Serious_Injuries    12510\n",
       "Total_Minor_Injuries      11933\n",
       "Total_Uninjured            5912\n",
       "Weather_Condition          4492\n",
       "Broad_phase_of_flight     27165\n",
       "Report_Status              6381\n",
       "Publication_Date          13771\n",
       "Event_Year                    0\n",
       "dtype: int64"
      ]
     },
     "execution_count": 50,
     "metadata": {},
     "output_type": "execute_result"
    }
   ],
   "source": [
    "#imputing the Total Fatal Injuries using the median and filling up the missing values using fillna\n",
    "\n",
    "aviation_df1['Total_Fatal_Injuries'].fillna((aviation_df1['Total_Fatal_Injuries'].median()), inplace=True)\n",
    "aviation_df1.isna().sum()"
   ]
  },
  {
   "cell_type": "code",
   "execution_count": 51,
   "metadata": {},
   "outputs": [
    {
     "data": {
      "image/png": "[encoded data removed]",
      "text/plain": [
       "<Figure size 720x576 with 1 Axes>"
      ]
     },
     "metadata": {
      "needs_background": "light"
     },
     "output_type": "display_data"
    }
   ],
   "source": [
    "#visualise the histogram for Total Serious Injuries\n",
    "fig,ax = plt.subplots(figsize=(10,8))\n",
    "sns.histplot(aviation_df1.Total_Serious_Injuries, bins=80, binrange=(0,60))\n",
    "plt.xlabel('Total Serious Injuries', fontsize=12)\n",
    "plt.ylabel('Count', fontsize=12)\n",
    "plt.title('Distribution of Total Serious Injuries', fontsize=12)\n",
    "plt.show()"
   ]
  },
  {
   "cell_type": "markdown",
   "metadata": {},
   "source": [
    "##### Observation\n",
    "\n",
    "The histogram shows a positive skewness which can also be deduced from the high number of counts for the lower numbers of total serious injuries. An appropriate method for imputing missing values would be to impute with the median. "
   ]
  },
  {
   "cell_type": "code",
   "execution_count": 52,
   "metadata": {},
   "outputs": [
    {
     "data": {
      "text/plain": [
       "Event_Id                      0\n",
       "Investigation_Type            0\n",
       "Accident_Number               0\n",
       "Event_Date                    0\n",
       "Location                     52\n",
       "Country                     226\n",
       "Latitude                  54507\n",
       "Longitude                 54516\n",
       "Airport_Code              38640\n",
       "Airport_Name              36099\n",
       "Injury_Severity            1000\n",
       "Aircraft_damage            3194\n",
       "Aircraft_Category         56602\n",
       "Registration_Number        1742\n",
       "Make                         63\n",
       "Model                        92\n",
       "Amateur_Built               102\n",
       "Number_of_Engines             0\n",
       "Engine_Type                7077\n",
       "FAR_Description           56866\n",
       "Schedule                  76307\n",
       "Purpose_of_flight          6192\n",
       "Air_carrier               72241\n",
       "Total_Fatal_Injuries          0\n",
       "Total_Serious_Injuries        0\n",
       "Total_Minor_Injuries      11933\n",
       "Total_Uninjured            5912\n",
       "Weather_Condition          4492\n",
       "Broad_phase_of_flight     27165\n",
       "Report_Status              6381\n",
       "Publication_Date          13771\n",
       "Event_Year                    0\n",
       "dtype: int64"
      ]
     },
     "execution_count": 52,
     "metadata": {},
     "output_type": "execute_result"
    }
   ],
   "source": [
    "#imputing the Total Serious Injuries using the median and filling up the missing values using fillna\n",
    "\n",
    "aviation_df1['Total_Serious_Injuries'].fillna((aviation_df1['Total_Serious_Injuries'].median()), inplace=True)\n",
    "aviation_df1.isna().sum()"
   ]
  },
  {
   "cell_type": "code",
   "execution_count": 53,
   "metadata": {},
   "outputs": [
    {
     "data": {
      "image/png": "[encoded data removed]",
      "text/plain": [
       "<Figure size 720x576 with 1 Axes>"
      ]
     },
     "metadata": {
      "needs_background": "light"
     },
     "output_type": "display_data"
    }
   ],
   "source": [
    "#visualise the histogram for Total Minor Injuries\n",
    "fig,ax = plt.subplots(figsize=(10,8))\n",
    "sns.histplot(aviation_df1.Total_Minor_Injuries, bins=50, binrange=(0,50))\n",
    "plt.xlabel('Total Minor Injuries', fontsize=12)\n",
    "plt.ylabel('Count', fontsize=12)\n",
    "plt.title('Distribution of Total Minor Injuries', fontsize=12)\n",
    "plt.show()"
   ]
  },
  {
   "cell_type": "markdown",
   "metadata": {},
   "source": [
    "##### Observation\n",
    "\n",
    "The histogram shows a positive skewness which can also be deduced from the high number of counts for the lower numbers of total serious injuries. An appropriate method for imputing missing values would be to impute with the median. "
   ]
  },
  {
   "cell_type": "code",
   "execution_count": 54,
   "metadata": {},
   "outputs": [
    {
     "data": {
      "text/plain": [
       "Event_Id                      0\n",
       "Investigation_Type            0\n",
       "Accident_Number               0\n",
       "Event_Date                    0\n",
       "Location                     52\n",
       "Country                     226\n",
       "Latitude                  54507\n",
       "Longitude                 54516\n",
       "Airport_Code              38640\n",
       "Airport_Name              36099\n",
       "Injury_Severity            1000\n",
       "Aircraft_damage            3194\n",
       "Aircraft_Category         56602\n",
       "Registration_Number        1742\n",
       "Make                         63\n",
       "Model                        92\n",
       "Amateur_Built               102\n",
       "Number_of_Engines             0\n",
       "Engine_Type                7077\n",
       "FAR_Description           56866\n",
       "Schedule                  76307\n",
       "Purpose_of_flight          6192\n",
       "Air_carrier               72241\n",
       "Total_Fatal_Injuries          0\n",
       "Total_Serious_Injuries        0\n",
       "Total_Minor_Injuries          0\n",
       "Total_Uninjured            5912\n",
       "Weather_Condition          4492\n",
       "Broad_phase_of_flight     27165\n",
       "Report_Status              6381\n",
       "Publication_Date          13771\n",
       "Event_Year                    0\n",
       "dtype: int64"
      ]
     },
     "execution_count": 54,
     "metadata": {},
     "output_type": "execute_result"
    }
   ],
   "source": [
    "#imputing the Total Minor Injuries using the median and filling up the missing values using fillna\n",
    "\n",
    "aviation_df1['Total_Minor_Injuries'].fillna((aviation_df1['Total_Minor_Injuries'].median()), inplace=True)\n",
    "aviation_df1.isna().sum()"
   ]
  },
  {
   "cell_type": "code",
   "execution_count": 55,
   "metadata": {},
   "outputs": [
    {
     "data": {
      "image/png": "[encoded data removed]",
      "text/plain": [
       "<Figure size 720x576 with 1 Axes>"
      ]
     },
     "metadata": {
      "needs_background": "light"
     },
     "output_type": "display_data"
    }
   ],
   "source": [
    "#visualise the histogram for Total Uninjured\n",
    "fig,ax = plt.subplots(figsize=(10,8))\n",
    "sns.histplot(aviation_df1.Total_Uninjured, bins=50, binrange=(0,50))\n",
    "plt.xlabel('Total Uninjured', fontsize=12)\n",
    "plt.ylabel('Count', fontsize=12)\n",
    "plt.title('Distribution of Total Uninjured', fontsize=12)\n",
    "plt.show()"
   ]
  },
  {
   "cell_type": "markdown",
   "metadata": {},
   "source": [
    "##### Observation\n",
    "\n",
    "The histogram shows a positive skewness which can also be deduced from the high number of counts for the lower numbers of total serious injuries. An appropriate method for imputing missing values would be to impute with the median. "
   ]
  },
  {
   "cell_type": "code",
   "execution_count": 56,
   "metadata": {},
   "outputs": [
    {
     "data": {
      "text/plain": [
       "Event_Id                      0\n",
       "Investigation_Type            0\n",
       "Accident_Number               0\n",
       "Event_Date                    0\n",
       "Location                     52\n",
       "Country                     226\n",
       "Latitude                  54507\n",
       "Longitude                 54516\n",
       "Airport_Code              38640\n",
       "Airport_Name              36099\n",
       "Injury_Severity            1000\n",
       "Aircraft_damage            3194\n",
       "Aircraft_Category         56602\n",
       "Registration_Number        1742\n",
       "Make                         63\n",
       "Model                        92\n",
       "Amateur_Built               102\n",
       "Number_of_Engines             0\n",
       "Engine_Type                7077\n",
       "FAR_Description           56866\n",
       "Schedule                  76307\n",
       "Purpose_of_flight          6192\n",
       "Air_carrier               72241\n",
       "Total_Fatal_Injuries          0\n",
       "Total_Serious_Injuries        0\n",
       "Total_Minor_Injuries          0\n",
       "Total_Uninjured               0\n",
       "Weather_Condition          4492\n",
       "Broad_phase_of_flight     27165\n",
       "Report_Status              6381\n",
       "Publication_Date          13771\n",
       "Event_Year                    0\n",
       "dtype: int64"
      ]
     },
     "execution_count": 56,
     "metadata": {},
     "output_type": "execute_result"
    }
   ],
   "source": [
    "#imputing the Total Uninjured using the median and filling up the missing values using fillna\n",
    "\n",
    "aviation_df1['Total_Uninjured'].fillna((aviation_df1['Total_Uninjured'].median()), inplace=True)\n",
    "aviation_df1.isna().sum()"
   ]
  },
  {
   "cell_type": "markdown",
   "metadata": {},
   "source": [
    "#### Dealing with missing data for categorical variables\n",
    "\n",
    "Given the high number of missing values for the categorical variables, there will be a need to drop some of the columns which may not be key for our analysis. For those that are key, then we may need to either impute using domain knowledge or with the mode or introduce a new variable \"Unknown\" for the null/missing values. "
   ]
  },
  {
   "cell_type": "code",
   "execution_count": 57,
   "metadata": {},
   "outputs": [
    {
     "data": {
      "text/html": [
       "<div>\n",
       "<style scoped>\n",
       "    .dataframe tbody tr th:only-of-type {\n",
       "        vertical-align: middle;\n",
       "    }\n",
       "\n",
       "    .dataframe tbody tr th {\n",
       "        vertical-align: top;\n",
       "    }\n",
       "\n",
       "    .dataframe thead th {\n",
       "        text-align: right;\n",
       "    }\n",
       "</style>\n",
       "<table border=\"1\" class=\"dataframe\">\n",
       "  <thead>\n",
       "    <tr style=\"text-align: right;\">\n",
       "      <th></th>\n",
       "      <th>count</th>\n",
       "      <th>unique</th>\n",
       "      <th>top</th>\n",
       "      <th>freq</th>\n",
       "    </tr>\n",
       "  </thead>\n",
       "  <tbody>\n",
       "    <tr>\n",
       "      <th>Event_Id</th>\n",
       "      <td>88889</td>\n",
       "      <td>87951</td>\n",
       "      <td>20001212X19172</td>\n",
       "      <td>3</td>\n",
       "    </tr>\n",
       "    <tr>\n",
       "      <th>Investigation_Type</th>\n",
       "      <td>88889</td>\n",
       "      <td>2</td>\n",
       "      <td>Accident</td>\n",
       "      <td>85015</td>\n",
       "    </tr>\n",
       "    <tr>\n",
       "      <th>Accident_Number</th>\n",
       "      <td>88889</td>\n",
       "      <td>88863</td>\n",
       "      <td>ERA22FA338</td>\n",
       "      <td>2</td>\n",
       "    </tr>\n",
       "    <tr>\n",
       "      <th>Location</th>\n",
       "      <td>88837</td>\n",
       "      <td>21977</td>\n",
       "      <td>ANCHORAGE, AK</td>\n",
       "      <td>548</td>\n",
       "    </tr>\n",
       "    <tr>\n",
       "      <th>Country</th>\n",
       "      <td>88663</td>\n",
       "      <td>200</td>\n",
       "      <td>United States</td>\n",
       "      <td>82249</td>\n",
       "    </tr>\n",
       "    <tr>\n",
       "      <th>Latitude</th>\n",
       "      <td>34382</td>\n",
       "      <td>25592</td>\n",
       "      <td>332739N</td>\n",
       "      <td>19</td>\n",
       "    </tr>\n",
       "    <tr>\n",
       "      <th>Longitude</th>\n",
       "      <td>34373</td>\n",
       "      <td>27156</td>\n",
       "      <td>0112457W</td>\n",
       "      <td>24</td>\n",
       "    </tr>\n",
       "    <tr>\n",
       "      <th>Airport_Code</th>\n",
       "      <td>50249</td>\n",
       "      <td>10375</td>\n",
       "      <td>NONE</td>\n",
       "      <td>1488</td>\n",
       "    </tr>\n",
       "    <tr>\n",
       "      <th>Airport_Name</th>\n",
       "      <td>52790</td>\n",
       "      <td>24871</td>\n",
       "      <td>Private</td>\n",
       "      <td>240</td>\n",
       "    </tr>\n",
       "    <tr>\n",
       "      <th>Injury_Severity</th>\n",
       "      <td>87889</td>\n",
       "      <td>5</td>\n",
       "      <td>Fatal</td>\n",
       "      <td>85183</td>\n",
       "    </tr>\n",
       "    <tr>\n",
       "      <th>Aircraft_damage</th>\n",
       "      <td>85695</td>\n",
       "      <td>4</td>\n",
       "      <td>Substantial</td>\n",
       "      <td>64148</td>\n",
       "    </tr>\n",
       "    <tr>\n",
       "      <th>Aircraft_Category</th>\n",
       "      <td>32287</td>\n",
       "      <td>12</td>\n",
       "      <td>Airplane</td>\n",
       "      <td>27617</td>\n",
       "    </tr>\n",
       "    <tr>\n",
       "      <th>Registration_Number</th>\n",
       "      <td>87147</td>\n",
       "      <td>79092</td>\n",
       "      <td>UNREG</td>\n",
       "      <td>131</td>\n",
       "    </tr>\n",
       "    <tr>\n",
       "      <th>Make</th>\n",
       "      <td>88826</td>\n",
       "      <td>7587</td>\n",
       "      <td>CESSNA</td>\n",
       "      <td>27149</td>\n",
       "    </tr>\n",
       "    <tr>\n",
       "      <th>Model</th>\n",
       "      <td>88797</td>\n",
       "      <td>11646</td>\n",
       "      <td>152</td>\n",
       "      <td>2367</td>\n",
       "    </tr>\n",
       "    <tr>\n",
       "      <th>Amateur_Built</th>\n",
       "      <td>88787</td>\n",
       "      <td>2</td>\n",
       "      <td>No</td>\n",
       "      <td>80312</td>\n",
       "    </tr>\n",
       "    <tr>\n",
       "      <th>Engine_Type</th>\n",
       "      <td>81812</td>\n",
       "      <td>10</td>\n",
       "      <td>Reciprocating</td>\n",
       "      <td>69530</td>\n",
       "    </tr>\n",
       "    <tr>\n",
       "      <th>FAR_Description</th>\n",
       "      <td>32023</td>\n",
       "      <td>31</td>\n",
       "      <td>091</td>\n",
       "      <td>18221</td>\n",
       "    </tr>\n",
       "    <tr>\n",
       "      <th>Schedule</th>\n",
       "      <td>12582</td>\n",
       "      <td>3</td>\n",
       "      <td>NSCH</td>\n",
       "      <td>4474</td>\n",
       "    </tr>\n",
       "    <tr>\n",
       "      <th>Purpose_of_flight</th>\n",
       "      <td>82697</td>\n",
       "      <td>22</td>\n",
       "      <td>Personal</td>\n",
       "      <td>49448</td>\n",
       "    </tr>\n",
       "    <tr>\n",
       "      <th>Air_carrier</th>\n",
       "      <td>16648</td>\n",
       "      <td>13590</td>\n",
       "      <td>Pilot</td>\n",
       "      <td>258</td>\n",
       "    </tr>\n",
       "    <tr>\n",
       "      <th>Weather_Condition</th>\n",
       "      <td>84397</td>\n",
       "      <td>3</td>\n",
       "      <td>VMC</td>\n",
       "      <td>77303</td>\n",
       "    </tr>\n",
       "    <tr>\n",
       "      <th>Broad_phase_of_flight</th>\n",
       "      <td>61724</td>\n",
       "      <td>12</td>\n",
       "      <td>Landing</td>\n",
       "      <td>15428</td>\n",
       "    </tr>\n",
       "    <tr>\n",
       "      <th>Report_Status</th>\n",
       "      <td>82508</td>\n",
       "      <td>17075</td>\n",
       "      <td>Probable Cause</td>\n",
       "      <td>61754</td>\n",
       "    </tr>\n",
       "  </tbody>\n",
       "</table>\n",
       "</div>"
      ],
      "text/plain": [
       "                       count unique             top   freq\n",
       "Event_Id               88889  87951  20001212X19172      3\n",
       "Investigation_Type     88889      2        Accident  85015\n",
       "Accident_Number        88889  88863      ERA22FA338      2\n",
       "Location               88837  21977   ANCHORAGE, AK    548\n",
       "Country                88663    200   United States  82249\n",
       "Latitude               34382  25592         332739N     19\n",
       "Longitude              34373  27156        0112457W     24\n",
       "Airport_Code           50249  10375            NONE   1488\n",
       "Airport_Name           52790  24871         Private    240\n",
       "Injury_Severity        87889      5           Fatal  85183\n",
       "Aircraft_damage        85695      4     Substantial  64148\n",
       "Aircraft_Category      32287     12        Airplane  27617\n",
       "Registration_Number    87147  79092           UNREG    131\n",
       "Make                   88826   7587          CESSNA  27149\n",
       "Model                  88797  11646             152   2367\n",
       "Amateur_Built          88787      2              No  80312\n",
       "Engine_Type            81812     10   Reciprocating  69530\n",
       "FAR_Description        32023     31             091  18221\n",
       "Schedule               12582      3            NSCH   4474\n",
       "Purpose_of_flight      82697     22        Personal  49448\n",
       "Air_carrier            16648  13590           Pilot    258\n",
       "Weather_Condition      84397      3             VMC  77303\n",
       "Broad_phase_of_flight  61724     12         Landing  15428\n",
       "Report_Status          82508  17075  Probable Cause  61754"
      ]
     },
     "execution_count": 57,
     "metadata": {},
     "output_type": "execute_result"
    }
   ],
   "source": [
    "#checking the statistical summary of categorical variables\n",
    "\n",
    "aviation_df1.describe(include='O').T"
   ]
  },
  {
   "cell_type": "code",
   "execution_count": 58,
   "metadata": {},
   "outputs": [
    {
     "data": {
      "text/plain": [
       "52"
      ]
     },
     "execution_count": 58,
     "metadata": {},
     "output_type": "execute_result"
    }
   ],
   "source": [
    "#checking null values in the Location variable\n",
    "aviation_df1['Location'].isna().sum()"
   ]
  },
  {
   "cell_type": "code",
   "execution_count": 59,
   "metadata": {},
   "outputs": [
    {
     "name": "stdout",
     "output_type": "stream",
     "text": [
      "The percentage of Location null values is 0.05849992687509141%\n"
     ]
    }
   ],
   "source": [
    "#percentage of null values in Location\n",
    "percentage = (aviation_df1['Location'].isna().sum())/(aviation_df.shape[0]) * 100\n",
    "\n",
    "print(f'The percentage of Location null values is {percentage}%')"
   ]
  },
  {
   "cell_type": "markdown",
   "metadata": {},
   "source": [
    "##### Observation\n",
    "The best option would be dropping the rows with null values or imputing with 'Unknown'  given they are few (52 out of 88889 rows) and it is not prudent to impute the location of an accident using the mode as this would skew the data."
   ]
  },
  {
   "cell_type": "code",
   "execution_count": 60,
   "metadata": {},
   "outputs": [
    {
     "data": {
      "text/plain": [
       "ANCHORAGE, AK      548\n",
       "MIAMI, FL          275\n",
       "HOUSTON, TX        271\n",
       "ALBUQUERQUE, NM    265\n",
       "CHICAGO, IL        256\n",
       "FAIRBANKS, AK      246\n",
       "PHOENIX, AZ        224\n",
       "DENVER, CO         196\n",
       "TUCSON, AZ         196\n",
       "ATLANTA, GA        189\n",
       "RENO, NV           177\n",
       "SAN DIEGO, CA      177\n",
       "LAS VEGAS, NV      175\n",
       "TALKEETNA, AK      171\n",
       "PALMER, AK         163\n",
       "ORLANDO, FL        163\n",
       "ENGLEWOOD, CO      159\n",
       "SAN ANTONIO, TX    151\n",
       "MESA, AZ           149\n",
       "CHANDLER, AZ       148\n",
       "Name: Location, dtype: int64"
      ]
     },
     "execution_count": 60,
     "metadata": {},
     "output_type": "execute_result"
    }
   ],
   "source": [
    "#imputing Location null values with \"unknown\"\n",
    "aviation_df1['Location'].fillna('Unknown', inplace=True)\n",
    "\n",
    "#checking value counts for Location\n",
    "aviation_df1['Location'].value_counts().head(20)"
   ]
  },
  {
   "cell_type": "code",
   "execution_count": 61,
   "metadata": {},
   "outputs": [
    {
     "data": {
      "text/plain": [
       "Event_Id                      0\n",
       "Investigation_Type            0\n",
       "Accident_Number               0\n",
       "Event_Date                    0\n",
       "Location                      0\n",
       "Country                     226\n",
       "Latitude                  54507\n",
       "Longitude                 54516\n",
       "Airport_Code              38640\n",
       "Airport_Name              36099\n",
       "Injury_Severity            1000\n",
       "Aircraft_damage            3194\n",
       "Aircraft_Category         56602\n",
       "Registration_Number        1742\n",
       "Make                         63\n",
       "Model                        92\n",
       "Amateur_Built               102\n",
       "Number_of_Engines             0\n",
       "Engine_Type                7077\n",
       "FAR_Description           56866\n",
       "Schedule                  76307\n",
       "Purpose_of_flight          6192\n",
       "Air_carrier               72241\n",
       "Total_Fatal_Injuries          0\n",
       "Total_Serious_Injuries        0\n",
       "Total_Minor_Injuries          0\n",
       "Total_Uninjured               0\n",
       "Weather_Condition          4492\n",
       "Broad_phase_of_flight     27165\n",
       "Report_Status              6381\n",
       "Publication_Date          13771\n",
       "Event_Year                    0\n",
       "dtype: int64"
      ]
     },
     "execution_count": 61,
     "metadata": {},
     "output_type": "execute_result"
    }
   ],
   "source": [
    "aviation_df1.isna().sum()"
   ]
  },
  {
   "cell_type": "code",
   "execution_count": 62,
   "metadata": {},
   "outputs": [
    {
     "data": {
      "text/plain": [
       "226"
      ]
     },
     "execution_count": 62,
     "metadata": {},
     "output_type": "execute_result"
    }
   ],
   "source": [
    "#checking the number of null values of Country\n",
    "aviation_df1['Country'].isnull().sum()"
   ]
  },
  {
   "cell_type": "markdown",
   "metadata": {},
   "source": [
    "##### Observation\n",
    "\n",
    "Given the Country Variable is important for our analysis given the Company aims to operate the planes in the United States of America, we note that it has 226 null values. We also note that if the null values have location and the location is in the United States of America, we can impute the country using the location using the US State Codes CSV."
   ]
  },
  {
   "cell_type": "code",
   "execution_count": 63,
   "metadata": {},
   "outputs": [
    {
     "data": {
      "text/plain": [
       "['AL',\n",
       " 'AK',\n",
       " 'AZ',\n",
       " 'AR',\n",
       " 'CA',\n",
       " 'CO',\n",
       " 'CT',\n",
       " 'DE',\n",
       " 'FL',\n",
       " 'GA',\n",
       " 'HI',\n",
       " 'ID',\n",
       " 'IL',\n",
       " 'IN',\n",
       " 'IA',\n",
       " 'KS',\n",
       " 'KY',\n",
       " 'LA',\n",
       " 'ME',\n",
       " 'MD',\n",
       " 'MA',\n",
       " 'MI',\n",
       " 'MN',\n",
       " 'MS',\n",
       " 'MO',\n",
       " 'MT',\n",
       " 'NE',\n",
       " 'NV',\n",
       " 'NH',\n",
       " 'NJ',\n",
       " 'NM',\n",
       " 'NY',\n",
       " 'NC',\n",
       " 'ND',\n",
       " 'OH',\n",
       " 'OK',\n",
       " 'OR',\n",
       " 'PA',\n",
       " 'RI',\n",
       " 'SC',\n",
       " 'SD',\n",
       " 'TN',\n",
       " 'TX',\n",
       " 'UT',\n",
       " 'VT',\n",
       " 'VA',\n",
       " 'WA',\n",
       " 'WV',\n",
       " 'WI',\n",
       " 'WY',\n",
       " 'AS',\n",
       " 'GU',\n",
       " 'MH',\n",
       " 'FM',\n",
       " 'MP',\n",
       " 'PW',\n",
       " 'PR',\n",
       " 'VI',\n",
       " 'DC',\n",
       " 'GM',\n",
       " 'AO',\n",
       " 'PO']"
      ]
     },
     "execution_count": 63,
     "metadata": {},
     "output_type": "execute_result"
    }
   ],
   "source": [
    "#converting the USStateCodes_df column with the abbreviations into a list\n",
    "us_state_codes = USStateCodes_df['Abbreviation'].str.upper().tolist()\n",
    "us_state_codes"
   ]
  },
  {
   "cell_type": "code",
   "execution_count": 64,
   "metadata": {},
   "outputs": [
    {
     "name": "stdout",
     "output_type": "stream",
     "text": [
      "Remaining nulls in 'Country': 169\n"
     ]
    }
   ],
   "source": [
    "#defining a function to infer country from location\n",
    "\n",
    "def infer_country(df):\n",
    "    if pd.isnull(df['Country']) and isinstance(df['Location'], str):\n",
    "        for state in us_state_codes:\n",
    "            if  df['Location'].strip()[-2:] == state:\n",
    "                return 'United States'\n",
    "    return df['Country']\n",
    "\n",
    "#apply the function to impute the values              \n",
    "aviation_df1['Country'] = aviation_df1.apply(infer_country, axis=1)\n",
    "\n",
    "#view the remaining null values\n",
    "print(\"Remaining nulls in 'Country':\", aviation_df1['Country'].isna().sum())"
   ]
  },
  {
   "cell_type": "markdown",
   "metadata": {},
   "source": [
    "##### Observation\n",
    "\n",
    "We still have null values and therefore we can use the Registration Numbers to impute the Country further using domain knowledge."
   ]
  },
  {
   "cell_type": "code",
   "execution_count": 65,
   "metadata": {},
   "outputs": [
    {
     "name": "stdout",
     "output_type": "stream",
     "text": [
      "Remaining nulls in 'Country': 8\n"
     ]
    }
   ],
   "source": [
    "#we can create the registration prefix dictionary map\n",
    "\n",
    "reg_prefix_map = {\n",
    "    'N': 'United States',\n",
    "    'USAF': 'United States',\n",
    "    'USN': 'United States',\n",
    "    'C-': 'Canada',\n",
    "    'G-': 'United Kingdom',\n",
    "    'VH-': 'Australia',\n",
    "    'ZK-': 'New Zealand',\n",
    "    'F-': 'France',\n",
    "    'D-': 'Germany',\n",
    "    'EC-': 'Spain',\n",
    "    'I-': 'Italy',\n",
    "    'JA': 'Japan',\n",
    "    'HS-': 'Thailand',\n",
    "    'B-': 'China',\n",
    "    'PR-': 'Brazil'\n",
    "}\n",
    "\n",
    "#defining the function for infering the country\n",
    "def infer_country_reg(df):\n",
    "    if pd.isnull(df['Country']) and isinstance(df.get('Registration_Number'), str):\n",
    "        reg = df['Registration_Number'].upper().strip()\n",
    "        for prefix, country in reg_prefix_map.items():\n",
    "            if reg.startswith(prefix):\n",
    "                return country\n",
    "    return df['Country']\n",
    "\n",
    "#applying the function\n",
    "aviation_df1['Country'] = aviation_df1.apply(infer_country_reg, axis=1)\n",
    "\n",
    "#view the remaining null values\n",
    "print(\"Remaining nulls in 'Country':\", aviation_df1['Country'].isna().sum())"
   ]
  },
  {
   "cell_type": "code",
   "execution_count": 66,
   "metadata": {},
   "outputs": [
    {
     "data": {
      "text/plain": [
       "0"
      ]
     },
     "execution_count": 66,
     "metadata": {},
     "output_type": "execute_result"
    }
   ],
   "source": [
    "#impute the remaining missing values in Country with the value of the highest mode\n",
    "aviation_df1['Country'] = aviation_df1['Country'].fillna(aviation_df1['Country'].mode()[0])\n",
    "\n",
    "#check for missing values\n",
    "aviation_df1['Country'].isna().sum()"
   ]
  },
  {
   "cell_type": "code",
   "execution_count": 67,
   "metadata": {},
   "outputs": [
    {
     "data": {
      "text/plain": [
       "No     80312\n",
       "Yes     8475\n",
       "Name: Amateur_Built, dtype: int64"
      ]
     },
     "execution_count": 67,
     "metadata": {},
     "output_type": "execute_result"
    }
   ],
   "source": [
    "aviation_df1['Amateur_Built'].value_counts()"
   ]
  },
  {
   "cell_type": "markdown",
   "metadata": {},
   "source": [
    "##### Observation\n",
    "\n",
    "As we can see, the type of build of the aircraft will influence the choice of Aircraft hence this variable is key in our analysis to see which aircraft is safer based on its build. The variable has 100 null values hence we can choose to drop the rows with null values or impute it with an 'Unknown' or use domain knowledge. In this case, we will fill the missing values with 'Unknown'."
   ]
  },
  {
   "cell_type": "code",
   "execution_count": 68,
   "metadata": {},
   "outputs": [
    {
     "data": {
      "text/plain": [
       "Event_Id                      0\n",
       "Investigation_Type            0\n",
       "Accident_Number               0\n",
       "Event_Date                    0\n",
       "Location                      0\n",
       "Country                       0\n",
       "Latitude                  54507\n",
       "Longitude                 54516\n",
       "Airport_Code              38640\n",
       "Airport_Name              36099\n",
       "Injury_Severity            1000\n",
       "Aircraft_damage            3194\n",
       "Aircraft_Category         56602\n",
       "Registration_Number        1742\n",
       "Make                         63\n",
       "Model                        92\n",
       "Amateur_Built                 0\n",
       "Number_of_Engines             0\n",
       "Engine_Type                7077\n",
       "FAR_Description           56866\n",
       "Schedule                  76307\n",
       "Purpose_of_flight          6192\n",
       "Air_carrier               72241\n",
       "Total_Fatal_Injuries          0\n",
       "Total_Serious_Injuries        0\n",
       "Total_Minor_Injuries          0\n",
       "Total_Uninjured               0\n",
       "Weather_Condition          4492\n",
       "Broad_phase_of_flight     27165\n",
       "Report_Status              6381\n",
       "Publication_Date          13771\n",
       "Event_Year                    0\n",
       "dtype: int64"
      ]
     },
     "execution_count": 68,
     "metadata": {},
     "output_type": "execute_result"
    }
   ],
   "source": [
    "aviation_df1['Amateur_Built'].fillna('Unknown', inplace=True)\n",
    "aviation_df1.isna().sum()"
   ]
  },
  {
   "cell_type": "code",
   "execution_count": 69,
   "metadata": {},
   "outputs": [
    {
     "data": {
      "text/plain": [
       "4492"
      ]
     },
     "execution_count": 69,
     "metadata": {},
     "output_type": "execute_result"
    }
   ],
   "source": [
    "aviation_df1['Weather_Condition'].isnull().sum()"
   ]
  },
  {
   "cell_type": "markdown",
   "metadata": {},
   "source": [
    "##### Observation\n",
    "\n",
    "Given the Weather Condition may influence the aircraft accidents, this is a key parameter for our analysis and hence there is a need to deal with the missing data. Given the relationship between the broad phase of flight and weather where take off and landing correlates with VMC and Enroute phases can occur in IMC. "
   ]
  },
  {
   "cell_type": "code",
   "execution_count": 70,
   "metadata": {},
   "outputs": [
    {
     "data": {
      "text/plain": [
       "4439"
      ]
     },
     "execution_count": 70,
     "metadata": {},
     "output_type": "execute_result"
    }
   ],
   "source": [
    "#creating a mapping dictionary of the grouping of the phase of flight with the weather condition\n",
    "weather_by_phase = (\n",
    "    aviation_df1[aviation_df1['Weather_Condition'].notna()] #checks for rows where the weather condition does not have null values\n",
    "    .groupby('Broad_phase_of_flight')['Weather_Condition'] #groups them by the Broad Phase of Flight\n",
    "    .agg(lambda x: x.mode().iloc[0])\n",
    "    .to_dict()\n",
    ")\n",
    "\n",
    "#applying the dictionary to the dataframe\n",
    "\n",
    "aviation_df1['Weather_Condition'] = aviation_df1.apply(\n",
    "    lambda df: weather_by_phase.get(df['Broad_phase_of_flight'], df['Weather_Condition']) \n",
    "    if pd.isna(df['Weather_Condition']) else df['Weather_Condition'],\n",
    "    axis=1\n",
    ")\n",
    "\n",
    "#checking the remaining null values\n",
    "aviation_df1['Weather_Condition'].isna().sum()"
   ]
  },
  {
   "cell_type": "code",
   "execution_count": 71,
   "metadata": {},
   "outputs": [
    {
     "data": {
      "text/plain": [
       "VMC        77356\n",
       "IMC         5976\n",
       "Unknown     1118\n",
       "Name: Weather_Condition, dtype: int64"
      ]
     },
     "execution_count": 71,
     "metadata": {},
     "output_type": "execute_result"
    }
   ],
   "source": [
    "aviation_df1['Weather_Condition'].value_counts()"
   ]
  },
  {
   "cell_type": "code",
   "execution_count": 72,
   "metadata": {},
   "outputs": [
    {
     "data": {
      "text/plain": [
       "Event_Id                      0\n",
       "Investigation_Type            0\n",
       "Accident_Number               0\n",
       "Event_Date                    0\n",
       "Location                      0\n",
       "Country                       0\n",
       "Latitude                  54507\n",
       "Longitude                 54516\n",
       "Airport_Code              38640\n",
       "Airport_Name              36099\n",
       "Injury_Severity            1000\n",
       "Aircraft_damage            3194\n",
       "Aircraft_Category         56602\n",
       "Registration_Number        1742\n",
       "Make                         63\n",
       "Model                        92\n",
       "Amateur_Built                 0\n",
       "Number_of_Engines             0\n",
       "Engine_Type                7077\n",
       "FAR_Description           56866\n",
       "Schedule                  76307\n",
       "Purpose_of_flight          6192\n",
       "Air_carrier               72241\n",
       "Total_Fatal_Injuries          0\n",
       "Total_Serious_Injuries        0\n",
       "Total_Minor_Injuries          0\n",
       "Total_Uninjured               0\n",
       "Weather_Condition             0\n",
       "Broad_phase_of_flight     27165\n",
       "Report_Status              6381\n",
       "Publication_Date          13771\n",
       "Event_Year                    0\n",
       "dtype: int64"
      ]
     },
     "execution_count": 72,
     "metadata": {},
     "output_type": "execute_result"
    }
   ],
   "source": [
    "#fill the missing values for Weather Condition with \"Unknown\"\n",
    "\n",
    "aviation_df1['Weather_Condition'].fillna('Unknown', inplace=True)\n",
    "aviation_df1.isna().sum()"
   ]
  },
  {
   "cell_type": "code",
   "execution_count": 73,
   "metadata": {},
   "outputs": [
    {
     "data": {
      "text/plain": [
       "63"
      ]
     },
     "execution_count": 73,
     "metadata": {},
     "output_type": "execute_result"
    }
   ],
   "source": [
    "#checking the number of null values of Make\n",
    "aviation_df1['Make'].isnull().sum()"
   ]
  },
  {
   "cell_type": "markdown",
   "metadata": {},
   "source": [
    "##### Observation\n",
    "\n",
    "Given the fact that the Make variable is important for our analysis as we plan to recommend the type of aircraft to be purchased, imputing it with the mode would skew the data and equally create an assumption that the missing data on the makes was from the most frequent Make. It would be prudent to either impute using domain knowledge or introduce an unknown make for analysis as opposed to dropping the rows. Given that the Aircraft Model often includes a recognizable prefix that matches a specific Make of an Aircraft, then we could impute the missing values of the Make using the Model column."
   ]
  },
  {
   "cell_type": "code",
   "execution_count": 74,
   "metadata": {},
   "outputs": [],
   "source": [
    "#we can infer the model from the make using a mapping dictionary of the model as the key and the make of the aircraft as the values\n",
    "model_make_map = {\n",
    "    'PA': 'PIPER',\n",
    "    'P28': 'PIPER',\n",
    "    'C172': 'CESSNA',\n",
    "    '172': 'CESSNA',\n",
    "    '182': 'CESSNA',\n",
    "    'C-': 'CESSNA',\n",
    "    '737': 'BOEING',\n",
    "    '747': 'BOEING',\n",
    "    '777': 'BOEING',\n",
    "    'A320': 'AIRBUS',\n",
    "    'A330': 'AIRBUS',\n",
    "    'A340': 'AIRBUS',\n",
    "    'A350': 'AIRBUS',\n",
    "    'R22': 'ROBINSON',\n",
    "    'R44': 'ROBINSON',\n",
    "    'SR22': 'CIRRUS',\n",
    "    'SR20': 'CIRRUS',\n",
    "    'B206': 'BELL',\n",
    "    '206': 'BELL',\n",
    "    'MD-': 'MCDONNELL DOUGLAS',\n",
    "    'DC-': 'DOUGLAS',\n",
    "    'DA40': 'DIAMOND',\n",
    "    'DA42': 'DIAMOND',\n",
    "    'GULF': 'GULFSTREAM',\n",
    "    'LEAR': 'LEARJET',\n",
    "    'EMB': 'EMBRAER',\n",
    "    'CL-': 'BOMBARDIER',\n",
    "    'CRJ': 'BOMBARDIER'\n",
    "}\n"
   ]
  },
  {
   "cell_type": "code",
   "execution_count": 75,
   "metadata": {},
   "outputs": [
    {
     "data": {
      "text/plain": [
       "61"
      ]
     },
     "execution_count": 75,
     "metadata": {},
     "output_type": "execute_result"
    }
   ],
   "source": [
    "#define an imputation function\n",
    "def infer_make(df):\n",
    "    if pd.isna(df['Make']) and isinstance(df.get('Model'), str):\n",
    "        model = df['Model'].upper().strip()\n",
    "        for prefix, make in model_make_map.items():\n",
    "            if model.startswith(prefix):\n",
    "                return make\n",
    "    return df['Make']\n",
    "\n",
    "#apply the function\n",
    "aviation_df1['Make'] = aviation_df1.apply(infer_make, axis=1)\n",
    "\n",
    "#checking the number of null values of Make\n",
    "aviation_df1['Make'].isnull().sum()"
   ]
  },
  {
   "cell_type": "code",
   "execution_count": 76,
   "metadata": {},
   "outputs": [
    {
     "name": "stdout",
     "output_type": "stream",
     "text": [
      "(88828, 32)\n"
     ]
    },
    {
     "data": {
      "text/plain": [
       "Event_Id                      0\n",
       "Investigation_Type            0\n",
       "Accident_Number               0\n",
       "Event_Date                    0\n",
       "Location                      0\n",
       "Country                       0\n",
       "Latitude                  54468\n",
       "Longitude                 54477\n",
       "Airport_Code              38593\n",
       "Airport_Name              36053\n",
       "Injury_Severity             983\n",
       "Aircraft_damage            3177\n",
       "Aircraft_Category         56552\n",
       "Registration_Number        1704\n",
       "Make                          0\n",
       "Model                        49\n",
       "Amateur_Built                 0\n",
       "Number_of_Engines             0\n",
       "Engine_Type                7027\n",
       "FAR_Description           56855\n",
       "Schedule                  76283\n",
       "Purpose_of_flight          6151\n",
       "Air_carrier               72204\n",
       "Total_Fatal_Injuries          0\n",
       "Total_Serious_Injuries        0\n",
       "Total_Minor_Injuries          0\n",
       "Total_Uninjured               0\n",
       "Weather_Condition             0\n",
       "Broad_phase_of_flight     27115\n",
       "Report_Status              6349\n",
       "Publication_Date          13769\n",
       "Event_Year                    0\n",
       "dtype: int64"
      ]
     },
     "execution_count": 76,
     "metadata": {},
     "output_type": "execute_result"
    }
   ],
   "source": [
    "#we can drop the rows with null values in the 'Make' column\n",
    "aviation_df1.dropna(subset=['Make'],inplace=True)\n",
    "\n",
    "print(aviation_df1.shape)\n",
    "\n",
    "aviation_df1.isna().sum()"
   ]
  },
  {
   "cell_type": "code",
   "execution_count": 77,
   "metadata": {},
   "outputs": [
    {
     "data": {
      "text/plain": [
       "Airplane             27609\n",
       "Helicopter            3437\n",
       "Glider                 508\n",
       "Balloon                231\n",
       "Gyrocraft              173\n",
       "Weight-Shift           170\n",
       "Powered Parachute       91\n",
       "Ultralight              31\n",
       "Unknown                 16\n",
       "Powered-Lift             5\n",
       "Blimp                    4\n",
       "Rocket                   1\n",
       "Name: Aircraft_Category, dtype: int64"
      ]
     },
     "execution_count": 77,
     "metadata": {},
     "output_type": "execute_result"
    }
   ],
   "source": [
    "aviation_df1['Aircraft_Category'].value_counts()"
   ]
  },
  {
   "cell_type": "code",
   "execution_count": 78,
   "metadata": {},
   "outputs": [
    {
     "data": {
      "text/plain": [
       "56552"
      ]
     },
     "execution_count": 78,
     "metadata": {},
     "output_type": "execute_result"
    }
   ],
   "source": [
    "#checking number of null values for Aircraft Category\n",
    "aviation_df1['Aircraft_Category'].isna().sum()"
   ]
  },
  {
   "cell_type": "markdown",
   "metadata": {},
   "source": [
    "##### Observation\n",
    "\n",
    "We note that we have numerous null values. However, the type of aircraft involved in the accident is key for our analysis given the company is interested in purchasing and operating airplanes for commercial and private purposes only. We cannot use statistical imputation because this would introduce noise into our data frame. Using domain knowledge, we can be able to impute values using the known relationship between the Make of an Aircraft and the Category drawn from the FAA and NTSB."
   ]
  },
  {
   "cell_type": "code",
   "execution_count": 79,
   "metadata": {},
   "outputs": [],
   "source": [
    "#We create a mapping dictionary with the make of the aircraft as the key and the Aircraft Category as the Value\n",
    "make_map = {\n",
    "    \"CESSNA\": \"Airplane\",\n",
    "    \"PIPER\": \"Airplane\",\n",
    "    \"BEECH\": \"Airplane\",\n",
    "    \"MOONEY\": \"Airplane\",\n",
    "    \"DIAMOND\": \"Airplane\",\n",
    "    \"BOEING\": \"Airplane\",\n",
    "    \"AIRBUS\": \"Airplane\",\n",
    "    \"DOUGLAS\": \"Airplane\",\n",
    "    \"BOMBARDIER\": \"Airplane\",\n",
    "    \"EMBRAER\": \"Airplane\",\n",
    "    \"GULFSTREAM\": \"Airplane\",\n",
    "    \"LEARJET\": \"Airplane\",\n",
    "    \"FAIRCHILD\": \"Airplane\",\n",
    "    \"GRUMMAN\": \"Airplane\",\n",
    "    \"HAWKER\": \"Airplane\",\n",
    "    \"MCDONNELL DOUGLAS\": \"Airplane\",\n",
    "    \"VANS\": \"Airplane\",\n",
    "    \"SOCATA\": \"Airplane\",\n",
    "    \"CIRRUS\": \"Airplane\",\n",
    "    \"ROCKWELL\": \"Airplane\",\n",
    "    \"RAYTHEON\": \"Airplane\",\n",
    "    \"NORTH AMERICAN\": \"Airplane\",\n",
    "    \"ROBINSON\": \"Helicopter\",\n",
    "    \"BELL\": \"Helicopter\",\n",
    "    \"SIKORSKY\": \"Helicopter\",\n",
    "    \"HUGHES\": \"Helicopter\",\n",
    "    \"ENSTROM\": \"Helicopter\",\n",
    "    \"EUROCOPTER\": \"Helicopter\",\n",
    "    \"AIRBUS HELICOPTERS\": \"Helicopter\",\n",
    "    \"AGUSTA\": \"Helicopter\",\n",
    "    \"MD HELICOPTERS\": \"Helicopter\",\n",
    "    \"KAMAN\": \"Helicopter\",\n",
    "    \"SCHWEIZER\": \"Glider\",\n",
    "    \"GROB\": \"Glider\",\n",
    "    \"DG FLUGZEUGBAU\": \"Glider\",\n",
    "    \"SLET\": \"Glider\",\n",
    "    \"ALEXANDER SCHLEICHER\": \"Glider\",\n",
    "    \"SZD\": \"Glider\",\n",
    "    \"CAMERON BALLOONS\": \"Balloon\",\n",
    "    \"AEROSTAR\": \"Balloon\",\n",
    "    \"LINSTRAND\": \"Balloon\",\n",
    "    \"THUNDER & COLT\": \"Balloon\",\n",
    "    \"AUTOGYRO\": \"Gyroplane\",\n",
    "    \"MAGNI\": \"Gyroplane\",\n",
    "    \"ELA\": \"Gyroplane\",\n",
    "    \"QUICKSILVER\": \"Ultralight\",\n",
    "    \"RANS\": \"Ultralight\",\n",
    "    \"CHALLENGER\": \"Ultralight\",\n",
    "    \"ZENITH\": \"Ultralight\",\n",
    "    \"KITFOX\": \"Ultralight\",\n",
    "    \"AERONCA\": \"Ultralight\",\n",
    "    \"EXPERIMENTAL\": \"Ultralight\",\n",
    "}\n"
   ]
  },
  {
   "cell_type": "code",
   "execution_count": 80,
   "metadata": {},
   "outputs": [
    {
     "name": "stdout",
     "output_type": "stream",
     "text": [
      "The remaining null values in Aircraft Category are: 14280\n"
     ]
    },
    {
     "data": {
      "text/plain": [
       "Airplane             65121\n",
       "Helicopter            7105\n",
       "Glider                1056\n",
       "Ultralight             486\n",
       "Balloon                320\n",
       "Gyrocraft              173\n",
       "Weight-Shift           170\n",
       "Powered Parachute       91\n",
       "Unknown                 16\n",
       "Powered-Lift             5\n",
       "Blimp                    4\n",
       "Rocket                   1\n",
       "Name: Aircraft_Category, dtype: int64"
      ]
     },
     "execution_count": 80,
     "metadata": {},
     "output_type": "execute_result"
    }
   ],
   "source": [
    "# Fill missing values in Aircraft Category using Make\n",
    "def infer_category(df):\n",
    "    if pd.isna(df['Aircraft_Category']):\n",
    "        return make_map.get(df['Make'])\n",
    "    else:\n",
    "        return df['Aircraft_Category']\n",
    "    \n",
    "#Apply the function to the dataframe\n",
    "aviation_df1['Aircraft_Category'] = aviation_df1.apply(infer_category, axis=1)\n",
    "\n",
    "#check the remaining null values\n",
    "print('The remaining null values in Aircraft Category are:', aviation_df1['Aircraft_Category'].isna().sum())\n",
    "\n",
    "#check the value counts of unique values\n",
    "aviation_df1['Aircraft_Category'].value_counts()"
   ]
  },
  {
   "cell_type": "code",
   "execution_count": 81,
   "metadata": {},
   "outputs": [],
   "source": [
    "# Group by Model and see which Aircraft Category is most common\n",
    "model_cat_map = aviation_df1[aviation_df1['Aircraft_Category'].notna()]\\\n",
    "                    .groupby('Model')['Aircraft_Category']\\\n",
    "                    .agg(lambda x: x.value_counts().idxmax()).to_dict()\n",
    "\n",
    "# Group by Engine Type and Number of Engines and see which Aircraft Category is most common\n",
    "engine_cat_map = aviation_df1[aviation_df1['Aircraft_Category'].notna()]\\\n",
    "                    .groupby(['Engine_Type', 'Number_of_Engines'])['Aircraft_Category']\\\n",
    "                    .agg(lambda x: x.value_counts().idxmax()).to_dict()"
   ]
  },
  {
   "cell_type": "code",
   "execution_count": 82,
   "metadata": {},
   "outputs": [
    {
     "name": "stdout",
     "output_type": "stream",
     "text": [
      "The remaining null values in Aircraft Category are: 136\n"
     ]
    },
    {
     "data": {
      "text/plain": [
       "Airplane             77499\n",
       "Helicopter            8026\n",
       "Glider                1561\n",
       "Balloon                522\n",
       "Ultralight             512\n",
       "Gyrocraft              270\n",
       "Weight-Shift           179\n",
       "Powered Parachute       93\n",
       "Unknown                 16\n",
       "Blimp                    7\n",
       "Powered-Lift             6\n",
       "Rocket                   1\n",
       "Name: Aircraft_Category, dtype: int64"
      ]
     },
     "execution_count": 82,
     "metadata": {},
     "output_type": "execute_result"
    }
   ],
   "source": [
    "# Define a function to infer Aircraft Category using Model, Type of Engine and Number of Engines\n",
    "def infer_aircraft_category(df):\n",
    "    if pd.notna(df['Aircraft_Category']):\n",
    "        return df['Aircraft_Category']\n",
    "    \n",
    "    if df['Model'] in model_cat_map:\n",
    "        return model_cat_map[df['Model']]\n",
    "\n",
    "    engine = (df['Engine_Type'], df['Number_of_Engines'])\n",
    "    if engine in engine_cat_map:\n",
    "        return engine_cat_map[engine]\n",
    "\n",
    "# Apply the function to the dataframe\n",
    "aviation_df1['Aircraft_Category'] = aviation_df1.apply(infer_aircraft_category, axis=1)\n",
    "\n",
    "#check the remaining null values\n",
    "print('The remaining null values in Aircraft Category are:', aviation_df1['Aircraft_Category'].isna().sum())\n",
    "\n",
    "#check the value counts of unique values\n",
    "aviation_df1['Aircraft_Category'].value_counts()"
   ]
  },
  {
   "cell_type": "code",
   "execution_count": 83,
   "metadata": {},
   "outputs": [
    {
     "data": {
      "text/plain": [
       "Event_Id                      0\n",
       "Investigation_Type            0\n",
       "Accident_Number               0\n",
       "Event_Date                    0\n",
       "Location                      0\n",
       "Country                       0\n",
       "Latitude                  54468\n",
       "Longitude                 54477\n",
       "Airport_Code              38593\n",
       "Airport_Name              36053\n",
       "Injury_Severity             983\n",
       "Aircraft_damage            3177\n",
       "Aircraft_Category             0\n",
       "Registration_Number        1704\n",
       "Make                          0\n",
       "Model                        49\n",
       "Amateur_Built                 0\n",
       "Number_of_Engines             0\n",
       "Engine_Type                7027\n",
       "FAR_Description           56855\n",
       "Schedule                  76283\n",
       "Purpose_of_flight          6151\n",
       "Air_carrier               72204\n",
       "Total_Fatal_Injuries          0\n",
       "Total_Serious_Injuries        0\n",
       "Total_Minor_Injuries          0\n",
       "Total_Uninjured               0\n",
       "Weather_Condition             0\n",
       "Broad_phase_of_flight     27115\n",
       "Report_Status              6349\n",
       "Publication_Date          13769\n",
       "Event_Year                    0\n",
       "dtype: int64"
      ]
     },
     "execution_count": 83,
     "metadata": {},
     "output_type": "execute_result"
    }
   ],
   "source": [
    "#We can replace the remaining null values with 'unknown'\n",
    "aviation_df1['Aircraft_Category'].fillna('Unknown', inplace=True)\n",
    "\n",
    "#checking for null values in the columns\n",
    "aviation_df1.isna().sum()"
   ]
  },
  {
   "cell_type": "code",
   "execution_count": 84,
   "metadata": {},
   "outputs": [
    {
     "data": {
      "text/plain": [
       "49"
      ]
     },
     "execution_count": 84,
     "metadata": {},
     "output_type": "execute_result"
    }
   ],
   "source": [
    "#checking for null values in the 'Model' column\n",
    "aviation_df1['Model'].isna().sum()"
   ]
  },
  {
   "cell_type": "markdown",
   "metadata": {},
   "source": [
    "##### Observation\n",
    "As we can see, the information provided here is about the type of model of the aircraft. In this case, the type of model is a unique identifier of an aircraft and hence it would be best to impute null values by using rows with the same Make, Engine Type and Aircraft Category."
   ]
  },
  {
   "cell_type": "code",
   "execution_count": 85,
   "metadata": {},
   "outputs": [
    {
     "name": "stdout",
     "output_type": "stream",
     "text": [
      "The remaining null values in Model are: 15\n"
     ]
    }
   ],
   "source": [
    "# Create a function to fill missing Model within the groups\n",
    "def fill_model_with_mode(group):\n",
    "    if group['Model'].isnull().all(): #checks that all the columns have null values\n",
    "        return group\n",
    "    mode = group['Model'].mode()\n",
    "    if not mode.empty:\n",
    "        group['Model'] = group['Model'].fillna(mode[0]) #fills with the highest occuring mode\n",
    "    return group\n",
    "\n",
    "# Apply the function to the group and reset the index\n",
    "aviation_df1 = aviation_df1.groupby(['Make', 'Engine_Type', 'Aircraft_Category'], dropna=False).apply(fill_model_with_mode).reset_index(drop=True)\n",
    "\n",
    "#check the null values in the Model variable\n",
    "print('The remaining null values in Model are:', aviation_df1['Model'].isna().sum())"
   ]
  },
  {
   "cell_type": "code",
   "execution_count": 86,
   "metadata": {},
   "outputs": [
    {
     "data": {
      "text/plain": [
       "Event_Id                      0\n",
       "Investigation_Type            0\n",
       "Accident_Number               0\n",
       "Event_Date                    0\n",
       "Location                      0\n",
       "Country                       0\n",
       "Latitude                  54468\n",
       "Longitude                 54477\n",
       "Airport_Code              38593\n",
       "Airport_Name              36053\n",
       "Injury_Severity             983\n",
       "Aircraft_damage            3177\n",
       "Aircraft_Category             0\n",
       "Registration_Number        1704\n",
       "Make                          0\n",
       "Model                         0\n",
       "Amateur_Built                 0\n",
       "Number_of_Engines             0\n",
       "Engine_Type                7027\n",
       "FAR_Description           56855\n",
       "Schedule                  76283\n",
       "Purpose_of_flight          6151\n",
       "Air_carrier               72204\n",
       "Total_Fatal_Injuries          0\n",
       "Total_Serious_Injuries        0\n",
       "Total_Minor_Injuries          0\n",
       "Total_Uninjured               0\n",
       "Weather_Condition             0\n",
       "Broad_phase_of_flight     27115\n",
       "Report_Status              6349\n",
       "Publication_Date          13769\n",
       "Event_Year                    0\n",
       "dtype: int64"
      ]
     },
     "execution_count": 86,
     "metadata": {},
     "output_type": "execute_result"
    }
   ],
   "source": [
    "#fill the remaining null values with 'Unknown'\n",
    "aviation_df1['Model'] = aviation_df1['Model'].fillna('Unknown')\n",
    "\n",
    "#check for the missing values in the df\n",
    "aviation_df1.isna().sum()"
   ]
  },
  {
   "cell_type": "code",
   "execution_count": 87,
   "metadata": {},
   "outputs": [
    {
     "data": {
      "text/plain": [
       "7027"
      ]
     },
     "execution_count": 87,
     "metadata": {},
     "output_type": "execute_result"
    }
   ],
   "source": [
    "#checking number of null values for type of engine\n",
    "aviation_df1['Engine_Type'].isna().sum()"
   ]
  },
  {
   "cell_type": "markdown",
   "metadata": {},
   "source": [
    "##### Observation\n",
    "\n",
    "We can impute the null values using the relationship between the Aircraft Model and the type of engine."
   ]
  },
  {
   "cell_type": "code",
   "execution_count": 88,
   "metadata": {},
   "outputs": [
    {
     "name": "stdout",
     "output_type": "stream",
     "text": [
      "The remaining null values in Type of Engine are: 1085\n"
     ]
    }
   ],
   "source": [
    "#Generate the mapping\n",
    "model_engine_map = (\n",
    "    aviation_df1[aviation_df1['Engine_Type'].notna()]\n",
    "    .groupby('Model')['Engine_Type']\n",
    "    .agg(lambda x: x.value_counts().idxmax())\n",
    "    .to_dict()\n",
    ")\n",
    "\n",
    "#define a function for imputing the engine type\n",
    "def impute_engine_type(df):\n",
    "    if pd.notna(df['Engine_Type']):\n",
    "        return df['Engine_Type']\n",
    "    return model_engine_map.get(df['Model'])\n",
    "\n",
    "#Apply the imputation function\n",
    "aviation_df1['Engine_Type'] = aviation_df1.apply(impute_engine_type, axis=1)\n",
    "\n",
    "#check the null values in the Engine Type variable\n",
    "print('The remaining null values in Type of Engine are:', aviation_df1['Engine_Type'].isna().sum())"
   ]
  },
  {
   "cell_type": "code",
   "execution_count": 89,
   "metadata": {},
   "outputs": [
    {
     "name": "stdout",
     "output_type": "stream",
     "text": [
      "The remaining null values in Type of Engine are: 0\n"
     ]
    }
   ],
   "source": [
    "#imputing using the make,number of engines and aircraft category\n",
    "make_engine_map = (\n",
    "    aviation_df1[aviation_df1['Engine_Type'].notna()]\n",
    "    .groupby(['Make', 'Number_of_Engines'])['Engine_Type']\n",
    "    .agg(lambda x: x.value_counts().idxmax())\n",
    "    .to_dict()\n",
    ")\n",
    "\n",
    "cat_engine_map = (\n",
    "    aviation_df1[aviation_df1['Engine_Type'].notna()]\n",
    "    .groupby('Aircraft_Category')['Engine_Type']\n",
    "    .agg(lambda x: x.value_counts().idxmax())\n",
    "    .to_dict()\n",
    ")\n",
    "\n",
    "#define a function for imputing the engine type\n",
    "def infer_type_engine(df):\n",
    "    if pd.notna(df['Engine_Type']):\n",
    "        return df['Engine_Type']\n",
    "    \n",
    "    make_key = (df['Make'], df['Number_of_Engines'])\n",
    "    if make_key in make_engine_map:\n",
    "        return make_engine_map[make_key]\n",
    "    \n",
    "    category = df['Aircraft_Category']\n",
    "    if category in cat_engine_map:\n",
    "        return cat_engine_map[category]\n",
    "    \n",
    "#Apply the imputation function\n",
    "aviation_df1['Engine_Type'] = aviation_df1.apply(infer_type_engine, axis=1)\n",
    "\n",
    "#check the null values in the Engine Type variable\n",
    "print('The remaining null values in Type of Engine are:', aviation_df1['Engine_Type'].isna().sum())"
   ]
  },
  {
   "cell_type": "code",
   "execution_count": 90,
   "metadata": {},
   "outputs": [
    {
     "data": {
      "text/plain": [
       "Event_Id                      0\n",
       "Investigation_Type            0\n",
       "Accident_Number               0\n",
       "Event_Date                    0\n",
       "Location                      0\n",
       "Country                       0\n",
       "Latitude                  54468\n",
       "Longitude                 54477\n",
       "Airport_Code              38593\n",
       "Airport_Name              36053\n",
       "Injury_Severity             983\n",
       "Aircraft_damage            3177\n",
       "Aircraft_Category             0\n",
       "Registration_Number        1704\n",
       "Make                          0\n",
       "Model                         0\n",
       "Amateur_Built                 0\n",
       "Number_of_Engines             0\n",
       "Engine_Type                   0\n",
       "FAR_Description           56855\n",
       "Schedule                  76283\n",
       "Purpose_of_flight          6151\n",
       "Air_carrier               72204\n",
       "Total_Fatal_Injuries          0\n",
       "Total_Serious_Injuries        0\n",
       "Total_Minor_Injuries          0\n",
       "Total_Uninjured               0\n",
       "Weather_Condition             0\n",
       "Broad_phase_of_flight     27115\n",
       "Report_Status              6349\n",
       "Publication_Date          13769\n",
       "Event_Year                    0\n",
       "dtype: int64"
      ]
     },
     "execution_count": 90,
     "metadata": {},
     "output_type": "execute_result"
    }
   ],
   "source": [
    "aviation_df1.isna().sum()"
   ]
  },
  {
   "cell_type": "code",
   "execution_count": 91,
   "metadata": {},
   "outputs": [
    {
     "data": {
      "text/plain": [
       "983"
      ]
     },
     "execution_count": 91,
     "metadata": {},
     "output_type": "execute_result"
    }
   ],
   "source": [
    "#checking null values of Injury Severity\n",
    "aviation_df1['Injury_Severity'].isna().sum()"
   ]
  },
  {
   "cell_type": "code",
   "execution_count": 92,
   "metadata": {},
   "outputs": [
    {
     "data": {
      "text/plain": [
       "Fatal          85142\n",
       "Incident        2216\n",
       "Minor            218\n",
       "Serious          173\n",
       "Unavailable       96\n",
       "Name: Injury_Severity, dtype: int64"
      ]
     },
     "execution_count": 92,
     "metadata": {},
     "output_type": "execute_result"
    }
   ],
   "source": [
    "aviation_df1['Injury_Severity'].value_counts()"
   ]
  },
  {
   "cell_type": "markdown",
   "metadata": {},
   "source": [
    "##### Observation\n",
    "\n",
    "Given this is a key variable in our analysis and given that our analysis is meant to support investment and operational decisions for the Company, it would be best to introduce an \"Unknown\" or \"Missing\" Variable so as to preserve data integrity."
   ]
  },
  {
   "cell_type": "code",
   "execution_count": 93,
   "metadata": {},
   "outputs": [
    {
     "data": {
      "text/plain": [
       "0"
      ]
     },
     "execution_count": 93,
     "metadata": {},
     "output_type": "execute_result"
    }
   ],
   "source": [
    "#fill the missing values with unknown\n",
    "aviation_df1['Injury_Severity'].fillna('Unknown', inplace=True)\n",
    "\n",
    "#check the null values in the Injury Severity variable\n",
    "aviation_df1['Injury_Severity'].isna().sum()"
   ]
  },
  {
   "cell_type": "code",
   "execution_count": 94,
   "metadata": {},
   "outputs": [
    {
     "data": {
      "text/plain": [
       "3177"
      ]
     },
     "execution_count": 94,
     "metadata": {},
     "output_type": "execute_result"
    }
   ],
   "source": [
    "#checking null values of Aircraft Damage\n",
    "aviation_df1['Aircraft_damage'].isna().sum()"
   ]
  },
  {
   "cell_type": "code",
   "execution_count": 95,
   "metadata": {
    "scrolled": true
   },
   "outputs": [
    {
     "data": {
      "text/plain": [
       "Substantial    64125\n",
       "Destroyed      18612\n",
       "Minor           2795\n",
       "Unknown          119\n",
       "Name: Aircraft_damage, dtype: int64"
      ]
     },
     "execution_count": 95,
     "metadata": {},
     "output_type": "execute_result"
    }
   ],
   "source": [
    "#checking value_counts\n",
    "aviation_df1['Aircraft_damage'].value_counts()"
   ]
  },
  {
   "cell_type": "markdown",
   "metadata": {},
   "source": [
    "##### Observation\n",
    "\n",
    "Given this is a key variable in our analysis and given that our analysis is meant to support investment and operational decisions for the Company based on safety performance, it would be best to introduce an \"Unknown\" Variable so as to preserve data integrity."
   ]
  },
  {
   "cell_type": "code",
   "execution_count": 96,
   "metadata": {},
   "outputs": [
    {
     "data": {
      "text/plain": [
       "Substantial    64125\n",
       "Destroyed      18612\n",
       "Unknown         3296\n",
       "Minor           2795\n",
       "Name: Aircraft_damage, dtype: int64"
      ]
     },
     "execution_count": 96,
     "metadata": {},
     "output_type": "execute_result"
    }
   ],
   "source": [
    "aviation_df1['Aircraft_damage'].fillna('Unknown', inplace=True)\n",
    "\n",
    "#checking value_counts\n",
    "aviation_df1['Aircraft_damage'].value_counts()"
   ]
  },
  {
   "cell_type": "code",
   "execution_count": 97,
   "metadata": {},
   "outputs": [
    {
     "data": {
      "text/plain": [
       "Event_Id                      0\n",
       "Investigation_Type            0\n",
       "Accident_Number               0\n",
       "Event_Date                    0\n",
       "Location                      0\n",
       "Country                       0\n",
       "Latitude                  54468\n",
       "Longitude                 54477\n",
       "Airport_Code              38593\n",
       "Airport_Name              36053\n",
       "Injury_Severity               0\n",
       "Aircraft_damage               0\n",
       "Aircraft_Category             0\n",
       "Registration_Number        1704\n",
       "Make                          0\n",
       "Model                         0\n",
       "Amateur_Built                 0\n",
       "Number_of_Engines             0\n",
       "Engine_Type                   0\n",
       "FAR_Description           56855\n",
       "Schedule                  76283\n",
       "Purpose_of_flight          6151\n",
       "Air_carrier               72204\n",
       "Total_Fatal_Injuries          0\n",
       "Total_Serious_Injuries        0\n",
       "Total_Minor_Injuries          0\n",
       "Total_Uninjured               0\n",
       "Weather_Condition             0\n",
       "Broad_phase_of_flight     27115\n",
       "Report_Status              6349\n",
       "Publication_Date          13769\n",
       "Event_Year                    0\n",
       "dtype: int64"
      ]
     },
     "execution_count": 97,
     "metadata": {},
     "output_type": "execute_result"
    }
   ],
   "source": [
    "aviation_df1.isna().sum()"
   ]
  },
  {
   "cell_type": "code",
   "execution_count": 98,
   "metadata": {},
   "outputs": [
    {
     "data": {
      "text/plain": [
       "1704"
      ]
     },
     "execution_count": 98,
     "metadata": {},
     "output_type": "execute_result"
    }
   ],
   "source": [
    "aviation_df1['Registration_Number'].isna().sum()"
   ]
  },
  {
   "cell_type": "code",
   "execution_count": 99,
   "metadata": {},
   "outputs": [
    {
     "data": {
      "text/plain": [
       "UNREG      130\n",
       "UNKNOWN      9\n",
       "USAF         9\n",
       "N20752       8\n",
       "N4101E       6\n",
       "          ... \n",
       "N714ZE       1\n",
       "N1433J       1\n",
       "N1507R       1\n",
       "N7635U       1\n",
       "N67210       1\n",
       "Name: Registration_Number, Length: 79071, dtype: int64"
      ]
     },
     "execution_count": 99,
     "metadata": {},
     "output_type": "execute_result"
    }
   ],
   "source": [
    "aviation_df1['Registration_Number'].value_counts()"
   ]
  },
  {
   "cell_type": "code",
   "execution_count": 100,
   "metadata": {},
   "outputs": [
    {
     "data": {
      "text/plain": [
       "6151"
      ]
     },
     "execution_count": 100,
     "metadata": {},
     "output_type": "execute_result"
    }
   ],
   "source": [
    "aviation_df1['Purpose_of_flight'].isna().sum()"
   ]
  },
  {
   "cell_type": "code",
   "execution_count": 101,
   "metadata": {},
   "outputs": [
    {
     "data": {
      "text/plain": [
       "Personal                     49436\n",
       "Instructional                10601\n",
       "Unknown                       6806\n",
       "Aerial Application            4712\n",
       "Business                      4018\n",
       "Positioning                   1646\n",
       "Other Work Use                1264\n",
       "Ferry                          812\n",
       "Aerial Observation             794\n",
       "Public Aircraft                720\n",
       "Executive/Corporate            553\n",
       "Flight Test                    404\n",
       "Skydiving                      182\n",
       "Air Race/Show                  158\n",
       "External Load                  123\n",
       "Public Aircraft - Federal      105\n",
       "Banner Tow                     101\n",
       "Public Aircraft - Local         74\n",
       "Public Aircraft - State         64\n",
       "Glider Tow                      53\n",
       "Firefighting                    40\n",
       "Air Drop                        11\n",
       "Name: Purpose_of_flight, dtype: int64"
      ]
     },
     "execution_count": 101,
     "metadata": {},
     "output_type": "execute_result"
    }
   ],
   "source": [
    "aviation_df1['Purpose_of_flight'].value_counts()"
   ]
  },
  {
   "cell_type": "code",
   "execution_count": 102,
   "metadata": {},
   "outputs": [
    {
     "data": {
      "text/plain": [
       "27115"
      ]
     },
     "execution_count": 102,
     "metadata": {},
     "output_type": "execute_result"
    }
   ],
   "source": [
    "aviation_df1['Broad_phase_of_flight'].isna().sum()"
   ]
  },
  {
   "cell_type": "code",
   "execution_count": 103,
   "metadata": {},
   "outputs": [
    {
     "data": {
      "text/plain": [
       "Landing        15427\n",
       "Takeoff        12490\n",
       "Cruise         10267\n",
       "Maneuvering     8143\n",
       "Approach        6543\n",
       "Climb           2034\n",
       "Taxi            1958\n",
       "Descent         1886\n",
       "Go-around       1353\n",
       "Standing         945\n",
       "Unknown          548\n",
       "Other            119\n",
       "Name: Broad_phase_of_flight, dtype: int64"
      ]
     },
     "execution_count": 103,
     "metadata": {},
     "output_type": "execute_result"
    }
   ],
   "source": [
    "aviation_df1['Broad_phase_of_flight'].value_counts()"
   ]
  },
  {
   "cell_type": "markdown",
   "metadata": {},
   "source": [
    "##### Observation\n",
    "\n",
    "Due to the nature of the data, we will leave the null values in the Injury Severity, Registration Numbers, Purpose of Flight and Broad Phase of Flight for now."
   ]
  },
  {
   "cell_type": "markdown",
   "metadata": {},
   "source": [
    "#### Assumption for dropping columns\n",
    "\n",
    "For any columns which are not key for our analysis with the percentage of null values exceeding 50%, they shall be dropped from the dataframe. This is because we introduce a high percentage of bias and noise in our analysis when we impute these null values in the variables with a placeholder or the mode of the variable if we lack any domain knowledge on how to impute them. Dropping the rows will also reduce the accuracy of our analysis. "
   ]
  },
  {
   "cell_type": "code",
   "execution_count": 104,
   "metadata": {},
   "outputs": [
    {
     "data": {
      "text/plain": [
       "Event_Id                      0\n",
       "Investigation_Type            0\n",
       "Accident_Number               0\n",
       "Event_Date                    0\n",
       "Location                      0\n",
       "Country                       0\n",
       "Latitude                  54468\n",
       "Longitude                 54477\n",
       "Airport_Code              38593\n",
       "Airport_Name              36053\n",
       "Injury_Severity               0\n",
       "Aircraft_damage               0\n",
       "Aircraft_Category             0\n",
       "Registration_Number        1704\n",
       "Make                          0\n",
       "Model                         0\n",
       "Amateur_Built                 0\n",
       "Number_of_Engines             0\n",
       "Engine_Type                   0\n",
       "FAR_Description           56855\n",
       "Schedule                  76283\n",
       "Purpose_of_flight          6151\n",
       "Air_carrier               72204\n",
       "Total_Fatal_Injuries          0\n",
       "Total_Serious_Injuries        0\n",
       "Total_Minor_Injuries          0\n",
       "Total_Uninjured               0\n",
       "Weather_Condition             0\n",
       "Broad_phase_of_flight     27115\n",
       "Report_Status              6349\n",
       "Publication_Date          13769\n",
       "Event_Year                    0\n",
       "dtype: int64"
      ]
     },
     "execution_count": 104,
     "metadata": {},
     "output_type": "execute_result"
    }
   ],
   "source": [
    "# Count the number of missing values in each column\n",
    "aviation_df1.isna().sum()\n"
   ]
  },
  {
   "cell_type": "code",
   "execution_count": 105,
   "metadata": {},
   "outputs": [
    {
     "data": {
      "text/plain": [
       "44414.0"
      ]
     },
     "execution_count": 105,
     "metadata": {},
     "output_type": "execute_result"
    }
   ],
   "source": [
    "# Find the fifty percent threshold\n",
    "threshold = len(aviation_df1) * 0.5\n",
    "threshold"
   ]
  },
  {
   "cell_type": "code",
   "execution_count": 106,
   "metadata": {},
   "outputs": [
    {
     "data": {
      "text/plain": [
       "Index(['Latitude', 'Longitude', 'FAR_Description', 'Schedule', 'Air_carrier'], dtype='object')"
      ]
     },
     "execution_count": 106,
     "metadata": {},
     "output_type": "execute_result"
    }
   ],
   "source": [
    "# Create a filter\n",
    "cols_to_drop = aviation_df1.columns[aviation_df1.isna().sum() >= threshold]\n",
    "cols_to_drop "
   ]
  },
  {
   "cell_type": "code",
   "execution_count": 107,
   "metadata": {},
   "outputs": [
    {
     "data": {
      "text/plain": [
       "Event_Id                      0\n",
       "Investigation_Type            0\n",
       "Accident_Number               0\n",
       "Event_Date                    0\n",
       "Location                      0\n",
       "Country                       0\n",
       "Airport_Code              38593\n",
       "Airport_Name              36053\n",
       "Injury_Severity               0\n",
       "Aircraft_damage               0\n",
       "Aircraft_Category             0\n",
       "Registration_Number        1704\n",
       "Make                          0\n",
       "Model                         0\n",
       "Amateur_Built                 0\n",
       "Number_of_Engines             0\n",
       "Engine_Type                   0\n",
       "Purpose_of_flight          6151\n",
       "Total_Fatal_Injuries          0\n",
       "Total_Serious_Injuries        0\n",
       "Total_Minor_Injuries          0\n",
       "Total_Uninjured               0\n",
       "Weather_Condition             0\n",
       "Broad_phase_of_flight     27115\n",
       "Report_Status              6349\n",
       "Publication_Date          13769\n",
       "Event_Year                    0\n",
       "dtype: int64"
      ]
     },
     "execution_count": 107,
     "metadata": {},
     "output_type": "execute_result"
    }
   ],
   "source": [
    "# Drop columns with values above the threshold and saving it to a new df\n",
    "aviation_df2 = aviation_df1.drop(columns=cols_to_drop)\n",
    "\n",
    "aviation_df2.isna().sum()"
   ]
  },
  {
   "cell_type": "markdown",
   "metadata": {},
   "source": [
    "##### Observation\n",
    "\n",
    "We also note that we will not utilise the Report Status, Airport Code, Airport Name and Publication Date in our analysis hence we can drop these columns too."
   ]
  },
  {
   "cell_type": "code",
   "execution_count": 108,
   "metadata": {},
   "outputs": [
    {
     "data": {
      "text/plain": [
       "Event_Id                      0\n",
       "Investigation_Type            0\n",
       "Accident_Number               0\n",
       "Event_Date                    0\n",
       "Location                      0\n",
       "Country                       0\n",
       "Injury_Severity               0\n",
       "Aircraft_damage               0\n",
       "Aircraft_Category             0\n",
       "Registration_Number        1704\n",
       "Make                          0\n",
       "Model                         0\n",
       "Amateur_Built                 0\n",
       "Number_of_Engines             0\n",
       "Engine_Type                   0\n",
       "Purpose_of_flight          6151\n",
       "Total_Fatal_Injuries          0\n",
       "Total_Serious_Injuries        0\n",
       "Total_Minor_Injuries          0\n",
       "Total_Uninjured               0\n",
       "Weather_Condition             0\n",
       "Broad_phase_of_flight     27115\n",
       "Event_Year                    0\n",
       "dtype: int64"
      ]
     },
     "execution_count": 108,
     "metadata": {},
     "output_type": "execute_result"
    }
   ],
   "source": [
    "# Drop columns which we will not use in our analysis\n",
    "aviation_df2.drop(columns=['Report_Status', 'Airport_Code', 'Airport_Name', 'Publication_Date'], inplace=True)\n",
    "\n",
    "aviation_df2.isna().sum()"
   ]
  },
  {
   "cell_type": "markdown",
   "metadata": {},
   "source": [
    "#### 3.1.5 Checking for duplicates"
   ]
  },
  {
   "cell_type": "code",
   "execution_count": 109,
   "metadata": {},
   "outputs": [
    {
     "data": {
      "text/plain": [
       "0"
      ]
     },
     "execution_count": 109,
     "metadata": {},
     "output_type": "execute_result"
    }
   ],
   "source": [
    "aviation_df2.duplicated().sum()"
   ]
  },
  {
   "cell_type": "markdown",
   "metadata": {},
   "source": [
    "##### Observation\n",
    "\n",
    "We note that there are no duplicated rows hence we can proceed to check on outliers."
   ]
  },
  {
   "cell_type": "markdown",
   "metadata": {},
   "source": [
    "#### 3.1.7 Checking for outliers\n",
    "\n",
    "It is key to check for outliers in the numerical columns. However, it is key to note that the aviation domain naturally includes rare but high fatality incidents. It is therefore important to distinguish between:\n",
    "- Valid outliers (e.g commercial airline crash with many fatalities)\n",
    "- Potential data entry errors (e.g unrealistic values)\n",
    "\n",
    "We shall retain valid outliers to preserve the integrity of the historical record while statistical summaries will be supported with median values to reduce distortion."
   ]
  },
  {
   "cell_type": "code",
   "execution_count": 110,
   "metadata": {},
   "outputs": [
    {
     "data": {
      "text/html": [
       "<div>\n",
       "<style scoped>\n",
       "    .dataframe tbody tr th:only-of-type {\n",
       "        vertical-align: middle;\n",
       "    }\n",
       "\n",
       "    .dataframe tbody tr th {\n",
       "        vertical-align: top;\n",
       "    }\n",
       "\n",
       "    .dataframe thead th {\n",
       "        text-align: right;\n",
       "    }\n",
       "</style>\n",
       "<table border=\"1\" class=\"dataframe\">\n",
       "  <thead>\n",
       "    <tr style=\"text-align: right;\">\n",
       "      <th></th>\n",
       "      <th>count</th>\n",
       "      <th>mean</th>\n",
       "      <th>std</th>\n",
       "      <th>min</th>\n",
       "      <th>25%</th>\n",
       "      <th>50%</th>\n",
       "      <th>75%</th>\n",
       "      <th>max</th>\n",
       "    </tr>\n",
       "  </thead>\n",
       "  <tbody>\n",
       "    <tr>\n",
       "      <th>Number_of_Engines</th>\n",
       "      <td>88828.0</td>\n",
       "      <td>1.136635</td>\n",
       "      <td>0.432669</td>\n",
       "      <td>0.0</td>\n",
       "      <td>1.0</td>\n",
       "      <td>1.0</td>\n",
       "      <td>1.0</td>\n",
       "      <td>8.0</td>\n",
       "    </tr>\n",
       "    <tr>\n",
       "      <th>Total_Fatal_Injuries</th>\n",
       "      <td>88828.0</td>\n",
       "      <td>0.564495</td>\n",
       "      <td>5.127821</td>\n",
       "      <td>0.0</td>\n",
       "      <td>0.0</td>\n",
       "      <td>0.0</td>\n",
       "      <td>0.0</td>\n",
       "      <td>349.0</td>\n",
       "    </tr>\n",
       "    <tr>\n",
       "      <th>Total_Serious_Injuries</th>\n",
       "      <td>88828.0</td>\n",
       "      <td>0.240386</td>\n",
       "      <td>1.434605</td>\n",
       "      <td>0.0</td>\n",
       "      <td>0.0</td>\n",
       "      <td>0.0</td>\n",
       "      <td>0.0</td>\n",
       "      <td>161.0</td>\n",
       "    </tr>\n",
       "    <tr>\n",
       "      <th>Total_Minor_Injuries</th>\n",
       "      <td>88828.0</td>\n",
       "      <td>0.309216</td>\n",
       "      <td>2.084289</td>\n",
       "      <td>0.0</td>\n",
       "      <td>0.0</td>\n",
       "      <td>0.0</td>\n",
       "      <td>0.0</td>\n",
       "      <td>380.0</td>\n",
       "    </tr>\n",
       "    <tr>\n",
       "      <th>Total_Uninjured</th>\n",
       "      <td>88828.0</td>\n",
       "      <td>5.032118</td>\n",
       "      <td>26.984481</td>\n",
       "      <td>0.0</td>\n",
       "      <td>0.0</td>\n",
       "      <td>1.0</td>\n",
       "      <td>2.0</td>\n",
       "      <td>699.0</td>\n",
       "    </tr>\n",
       "    <tr>\n",
       "      <th>Event_Year</th>\n",
       "      <td>88828.0</td>\n",
       "      <td>1999.201885</td>\n",
       "      <td>11.888610</td>\n",
       "      <td>1948.0</td>\n",
       "      <td>1989.0</td>\n",
       "      <td>1998.0</td>\n",
       "      <td>2009.0</td>\n",
       "      <td>2022.0</td>\n",
       "    </tr>\n",
       "  </tbody>\n",
       "</table>\n",
       "</div>"
      ],
      "text/plain": [
       "                          count         mean        std     min     25%  \\\n",
       "Number_of_Engines       88828.0     1.136635   0.432669     0.0     1.0   \n",
       "Total_Fatal_Injuries    88828.0     0.564495   5.127821     0.0     0.0   \n",
       "Total_Serious_Injuries  88828.0     0.240386   1.434605     0.0     0.0   \n",
       "Total_Minor_Injuries    88828.0     0.309216   2.084289     0.0     0.0   \n",
       "Total_Uninjured         88828.0     5.032118  26.984481     0.0     0.0   \n",
       "Event_Year              88828.0  1999.201885  11.888610  1948.0  1989.0   \n",
       "\n",
       "                           50%     75%     max  \n",
       "Number_of_Engines          1.0     1.0     8.0  \n",
       "Total_Fatal_Injuries       0.0     0.0   349.0  \n",
       "Total_Serious_Injuries     0.0     0.0   161.0  \n",
       "Total_Minor_Injuries       0.0     0.0   380.0  \n",
       "Total_Uninjured            1.0     2.0   699.0  \n",
       "Event_Year              1998.0  2009.0  2022.0  "
      ]
     },
     "execution_count": 110,
     "metadata": {},
     "output_type": "execute_result"
    }
   ],
   "source": [
    "#checking the statistical summary of the dataframe\n",
    "aviation_df2.describe().T"
   ]
  },
  {
   "cell_type": "markdown",
   "metadata": {},
   "source": [
    "##### Observation\n",
    "\n",
    "From this statistical summary we note that the maximum values are feasible values. However, we note the entry of 699 for total uninjured which may be a potential data entry error given that a commercial aircraft like the Airbus A380 has a typical seating of 525 passengers. Based on this, we can check on this row and use domain knowledge to correct it."
   ]
  },
  {
   "cell_type": "code",
   "execution_count": 111,
   "metadata": {},
   "outputs": [
    {
     "data": {
      "text/html": [
       "<div>\n",
       "<style scoped>\n",
       "    .dataframe tbody tr th:only-of-type {\n",
       "        vertical-align: middle;\n",
       "    }\n",
       "\n",
       "    .dataframe tbody tr th {\n",
       "        vertical-align: top;\n",
       "    }\n",
       "\n",
       "    .dataframe thead th {\n",
       "        text-align: right;\n",
       "    }\n",
       "</style>\n",
       "<table border=\"1\" class=\"dataframe\">\n",
       "  <thead>\n",
       "    <tr style=\"text-align: right;\">\n",
       "      <th></th>\n",
       "      <th>Event_Id</th>\n",
       "      <th>Investigation_Type</th>\n",
       "      <th>Accident_Number</th>\n",
       "      <th>Event_Date</th>\n",
       "      <th>Location</th>\n",
       "      <th>Country</th>\n",
       "      <th>Injury_Severity</th>\n",
       "      <th>Aircraft_damage</th>\n",
       "      <th>Aircraft_Category</th>\n",
       "      <th>Registration_Number</th>\n",
       "      <th>...</th>\n",
       "      <th>Number_of_Engines</th>\n",
       "      <th>Engine_Type</th>\n",
       "      <th>Purpose_of_flight</th>\n",
       "      <th>Total_Fatal_Injuries</th>\n",
       "      <th>Total_Serious_Injuries</th>\n",
       "      <th>Total_Minor_Injuries</th>\n",
       "      <th>Total_Uninjured</th>\n",
       "      <th>Weather_Condition</th>\n",
       "      <th>Broad_phase_of_flight</th>\n",
       "      <th>Event_Year</th>\n",
       "    </tr>\n",
       "  </thead>\n",
       "  <tbody>\n",
       "    <tr>\n",
       "      <th>46277</th>\n",
       "      <td>20001212X19017</td>\n",
       "      <td>Accident</td>\n",
       "      <td>LAX99FA218B</td>\n",
       "      <td>1999-06-06</td>\n",
       "      <td>LOS ANGELES, CA</td>\n",
       "      <td>United States</td>\n",
       "      <td>Fatal</td>\n",
       "      <td>Substantial</td>\n",
       "      <td>Airplane</td>\n",
       "      <td>F-GTOM</td>\n",
       "      <td>...</td>\n",
       "      <td>4.0</td>\n",
       "      <td>Turbo Fan</td>\n",
       "      <td>Unknown</td>\n",
       "      <td>0.0</td>\n",
       "      <td>0.0</td>\n",
       "      <td>0.0</td>\n",
       "      <td>699.0</td>\n",
       "      <td>VMC</td>\n",
       "      <td>Standing</td>\n",
       "      <td>1999</td>\n",
       "    </tr>\n",
       "    <tr>\n",
       "      <th>46286</th>\n",
       "      <td>20001212X19017</td>\n",
       "      <td>Accident</td>\n",
       "      <td>LAX99FA218A</td>\n",
       "      <td>1999-06-06</td>\n",
       "      <td>LOS ANGELES, CA</td>\n",
       "      <td>United States</td>\n",
       "      <td>Fatal</td>\n",
       "      <td>Minor</td>\n",
       "      <td>Airplane</td>\n",
       "      <td>N751PR</td>\n",
       "      <td>...</td>\n",
       "      <td>4.0</td>\n",
       "      <td>Turbo Fan</td>\n",
       "      <td>Unknown</td>\n",
       "      <td>0.0</td>\n",
       "      <td>0.0</td>\n",
       "      <td>0.0</td>\n",
       "      <td>699.0</td>\n",
       "      <td>VMC</td>\n",
       "      <td>Taxi</td>\n",
       "      <td>1999</td>\n",
       "    </tr>\n",
       "  </tbody>\n",
       "</table>\n",
       "<p>2 rows × 23 columns</p>\n",
       "</div>"
      ],
      "text/plain": [
       "             Event_Id Investigation_Type Accident_Number Event_Date  \\\n",
       "46277  20001212X19017           Accident     LAX99FA218B 1999-06-06   \n",
       "46286  20001212X19017           Accident     LAX99FA218A 1999-06-06   \n",
       "\n",
       "              Location        Country Injury_Severity Aircraft_damage  \\\n",
       "46277  LOS ANGELES, CA  United States           Fatal     Substantial   \n",
       "46286  LOS ANGELES, CA  United States           Fatal           Minor   \n",
       "\n",
       "      Aircraft_Category Registration_Number  ... Number_of_Engines  \\\n",
       "46277          Airplane              F-GTOM  ...               4.0   \n",
       "46286          Airplane              N751PR  ...               4.0   \n",
       "\n",
       "      Engine_Type Purpose_of_flight  Total_Fatal_Injuries  \\\n",
       "46277   Turbo Fan           Unknown                   0.0   \n",
       "46286   Turbo Fan           Unknown                   0.0   \n",
       "\n",
       "      Total_Serious_Injuries Total_Minor_Injuries  Total_Uninjured  \\\n",
       "46277                    0.0                  0.0            699.0   \n",
       "46286                    0.0                  0.0            699.0   \n",
       "\n",
       "       Weather_Condition  Broad_phase_of_flight  Event_Year  \n",
       "46277                VMC               Standing        1999  \n",
       "46286                VMC                   Taxi        1999  \n",
       "\n",
       "[2 rows x 23 columns]"
      ]
     },
     "execution_count": 111,
     "metadata": {},
     "output_type": "execute_result"
    }
   ],
   "source": [
    "selected_row = aviation_df2[aviation_df2['Total_Uninjured'] == 699.0]\n",
    "selected_row"
   ]
  },
  {
   "cell_type": "markdown",
   "metadata": {},
   "source": [
    "##### Observation\n",
    "\n",
    "While checking on accident records for the accident drawn from this website, https://asn.flightsafety.org/wikibase/423041between, we note that the F-GTOM had 274 uninjured passengers and N751PR had 425 uninjured passengers. In view of this, we can correct this in our dataframe."
   ]
  },
  {
   "cell_type": "code",
   "execution_count": 112,
   "metadata": {
    "scrolled": false
   },
   "outputs": [
    {
     "data": {
      "text/html": [
       "<div>\n",
       "<style scoped>\n",
       "    .dataframe tbody tr th:only-of-type {\n",
       "        vertical-align: middle;\n",
       "    }\n",
       "\n",
       "    .dataframe tbody tr th {\n",
       "        vertical-align: top;\n",
       "    }\n",
       "\n",
       "    .dataframe thead th {\n",
       "        text-align: right;\n",
       "    }\n",
       "</style>\n",
       "<table border=\"1\" class=\"dataframe\">\n",
       "  <thead>\n",
       "    <tr style=\"text-align: right;\">\n",
       "      <th></th>\n",
       "      <th>count</th>\n",
       "      <th>mean</th>\n",
       "      <th>std</th>\n",
       "      <th>min</th>\n",
       "      <th>25%</th>\n",
       "      <th>50%</th>\n",
       "      <th>75%</th>\n",
       "      <th>max</th>\n",
       "    </tr>\n",
       "  </thead>\n",
       "  <tbody>\n",
       "    <tr>\n",
       "      <th>Number_of_Engines</th>\n",
       "      <td>88828.0</td>\n",
       "      <td>1.136635</td>\n",
       "      <td>0.432669</td>\n",
       "      <td>0.0</td>\n",
       "      <td>1.0</td>\n",
       "      <td>1.0</td>\n",
       "      <td>1.0</td>\n",
       "      <td>8.0</td>\n",
       "    </tr>\n",
       "    <tr>\n",
       "      <th>Total_Fatal_Injuries</th>\n",
       "      <td>88828.0</td>\n",
       "      <td>0.564495</td>\n",
       "      <td>5.127821</td>\n",
       "      <td>0.0</td>\n",
       "      <td>0.0</td>\n",
       "      <td>0.0</td>\n",
       "      <td>0.0</td>\n",
       "      <td>349.0</td>\n",
       "    </tr>\n",
       "    <tr>\n",
       "      <th>Total_Serious_Injuries</th>\n",
       "      <td>88828.0</td>\n",
       "      <td>0.240386</td>\n",
       "      <td>1.434605</td>\n",
       "      <td>0.0</td>\n",
       "      <td>0.0</td>\n",
       "      <td>0.0</td>\n",
       "      <td>0.0</td>\n",
       "      <td>161.0</td>\n",
       "    </tr>\n",
       "    <tr>\n",
       "      <th>Total_Minor_Injuries</th>\n",
       "      <td>88828.0</td>\n",
       "      <td>0.309216</td>\n",
       "      <td>2.084289</td>\n",
       "      <td>0.0</td>\n",
       "      <td>0.0</td>\n",
       "      <td>0.0</td>\n",
       "      <td>0.0</td>\n",
       "      <td>380.0</td>\n",
       "    </tr>\n",
       "    <tr>\n",
       "      <th>Total_Uninjured</th>\n",
       "      <td>88828.0</td>\n",
       "      <td>5.024249</td>\n",
       "      <td>26.835030</td>\n",
       "      <td>0.0</td>\n",
       "      <td>0.0</td>\n",
       "      <td>1.0</td>\n",
       "      <td>2.0</td>\n",
       "      <td>588.0</td>\n",
       "    </tr>\n",
       "    <tr>\n",
       "      <th>Event_Year</th>\n",
       "      <td>88828.0</td>\n",
       "      <td>1999.201885</td>\n",
       "      <td>11.888610</td>\n",
       "      <td>1948.0</td>\n",
       "      <td>1989.0</td>\n",
       "      <td>1998.0</td>\n",
       "      <td>2009.0</td>\n",
       "      <td>2022.0</td>\n",
       "    </tr>\n",
       "  </tbody>\n",
       "</table>\n",
       "</div>"
      ],
      "text/plain": [
       "                          count         mean        std     min     25%  \\\n",
       "Number_of_Engines       88828.0     1.136635   0.432669     0.0     1.0   \n",
       "Total_Fatal_Injuries    88828.0     0.564495   5.127821     0.0     0.0   \n",
       "Total_Serious_Injuries  88828.0     0.240386   1.434605     0.0     0.0   \n",
       "Total_Minor_Injuries    88828.0     0.309216   2.084289     0.0     0.0   \n",
       "Total_Uninjured         88828.0     5.024249  26.835030     0.0     0.0   \n",
       "Event_Year              88828.0  1999.201885  11.888610  1948.0  1989.0   \n",
       "\n",
       "                           50%     75%     max  \n",
       "Number_of_Engines          1.0     1.0     8.0  \n",
       "Total_Fatal_Injuries       0.0     0.0   349.0  \n",
       "Total_Serious_Injuries     0.0     0.0   161.0  \n",
       "Total_Minor_Injuries       0.0     0.0   380.0  \n",
       "Total_Uninjured            1.0     2.0   588.0  \n",
       "Event_Year              1998.0  2009.0  2022.0  "
      ]
     },
     "execution_count": 112,
     "metadata": {},
     "output_type": "execute_result"
    }
   ],
   "source": [
    "#correcting the values\n",
    "aviation_df2.loc[46277,'Total_Uninjured']= 274\n",
    "aviation_df2.loc[46286,'Total_Uninjured'] = 425\n",
    "\n",
    "#checking the statistical summary of the dataframe\n",
    "aviation_df2.describe().T"
   ]
  },
  {
   "cell_type": "markdown",
   "metadata": {},
   "source": [
    "##### Observation\n",
    "We note the maximum value of 588 for total uninjured which may be a potential data entry error given that a commercial aircraft like the Airbus A380 has a typical seating of 525 passengers. Based on this, we can check on this row and use domain knowledge to correct it."
   ]
  },
  {
   "cell_type": "code",
   "execution_count": 113,
   "metadata": {
    "scrolled": true
   },
   "outputs": [
    {
     "data": {
      "text/html": [
       "<div>\n",
       "<style scoped>\n",
       "    .dataframe tbody tr th:only-of-type {\n",
       "        vertical-align: middle;\n",
       "    }\n",
       "\n",
       "    .dataframe tbody tr th {\n",
       "        vertical-align: top;\n",
       "    }\n",
       "\n",
       "    .dataframe thead th {\n",
       "        text-align: right;\n",
       "    }\n",
       "</style>\n",
       "<table border=\"1\" class=\"dataframe\">\n",
       "  <thead>\n",
       "    <tr style=\"text-align: right;\">\n",
       "      <th></th>\n",
       "      <th>Event_Id</th>\n",
       "      <th>Investigation_Type</th>\n",
       "      <th>Accident_Number</th>\n",
       "      <th>Event_Date</th>\n",
       "      <th>Location</th>\n",
       "      <th>Country</th>\n",
       "      <th>Injury_Severity</th>\n",
       "      <th>Aircraft_damage</th>\n",
       "      <th>Aircraft_Category</th>\n",
       "      <th>Registration_Number</th>\n",
       "      <th>...</th>\n",
       "      <th>Number_of_Engines</th>\n",
       "      <th>Engine_Type</th>\n",
       "      <th>Purpose_of_flight</th>\n",
       "      <th>Total_Fatal_Injuries</th>\n",
       "      <th>Total_Serious_Injuries</th>\n",
       "      <th>Total_Minor_Injuries</th>\n",
       "      <th>Total_Uninjured</th>\n",
       "      <th>Weather_Condition</th>\n",
       "      <th>Broad_phase_of_flight</th>\n",
       "      <th>Event_Year</th>\n",
       "    </tr>\n",
       "  </thead>\n",
       "  <tbody>\n",
       "    <tr>\n",
       "      <th>4143</th>\n",
       "      <td>20001214X42478</td>\n",
       "      <td>Incident</td>\n",
       "      <td>LAX83IA149B</td>\n",
       "      <td>1983-03-18</td>\n",
       "      <td>LOS ANGELES, CA</td>\n",
       "      <td>United States</td>\n",
       "      <td>Incident</td>\n",
       "      <td>Minor</td>\n",
       "      <td>Airplane</td>\n",
       "      <td>N323EA</td>\n",
       "      <td>...</td>\n",
       "      <td>3.0</td>\n",
       "      <td>Turbo Fan</td>\n",
       "      <td>Unknown</td>\n",
       "      <td>0.0</td>\n",
       "      <td>0.0</td>\n",
       "      <td>0.0</td>\n",
       "      <td>588.0</td>\n",
       "      <td>VMC</td>\n",
       "      <td>Standing</td>\n",
       "      <td>1983</td>\n",
       "    </tr>\n",
       "    <tr>\n",
       "      <th>4144</th>\n",
       "      <td>20001214X42478</td>\n",
       "      <td>Incident</td>\n",
       "      <td>LAX83IA149A</td>\n",
       "      <td>1983-03-18</td>\n",
       "      <td>LOS ANGELES, CA</td>\n",
       "      <td>United States</td>\n",
       "      <td>Incident</td>\n",
       "      <td>Minor</td>\n",
       "      <td>Airplane</td>\n",
       "      <td>9VSQQ</td>\n",
       "      <td>...</td>\n",
       "      <td>4.0</td>\n",
       "      <td>Turbo Fan</td>\n",
       "      <td>NaN</td>\n",
       "      <td>0.0</td>\n",
       "      <td>0.0</td>\n",
       "      <td>0.0</td>\n",
       "      <td>588.0</td>\n",
       "      <td>VMC</td>\n",
       "      <td>Taxi</td>\n",
       "      <td>1983</td>\n",
       "    </tr>\n",
       "  </tbody>\n",
       "</table>\n",
       "<p>2 rows × 23 columns</p>\n",
       "</div>"
      ],
      "text/plain": [
       "            Event_Id Investigation_Type Accident_Number Event_Date  \\\n",
       "4143  20001214X42478           Incident     LAX83IA149B 1983-03-18   \n",
       "4144  20001214X42478           Incident     LAX83IA149A 1983-03-18   \n",
       "\n",
       "             Location        Country Injury_Severity Aircraft_damage  \\\n",
       "4143  LOS ANGELES, CA  United States        Incident           Minor   \n",
       "4144  LOS ANGELES, CA  United States        Incident           Minor   \n",
       "\n",
       "     Aircraft_Category Registration_Number  ... Number_of_Engines Engine_Type  \\\n",
       "4143          Airplane              N323EA  ...               3.0   Turbo Fan   \n",
       "4144          Airplane               9VSQQ  ...               4.0   Turbo Fan   \n",
       "\n",
       "     Purpose_of_flight  Total_Fatal_Injuries Total_Serious_Injuries  \\\n",
       "4143           Unknown                   0.0                    0.0   \n",
       "4144               NaN                   0.0                    0.0   \n",
       "\n",
       "     Total_Minor_Injuries  Total_Uninjured  Weather_Condition  \\\n",
       "4143                  0.0            588.0                VMC   \n",
       "4144                  0.0            588.0                VMC   \n",
       "\n",
       "      Broad_phase_of_flight  Event_Year  \n",
       "4143               Standing        1983  \n",
       "4144                   Taxi        1983  \n",
       "\n",
       "[2 rows x 23 columns]"
      ]
     },
     "execution_count": 113,
     "metadata": {},
     "output_type": "execute_result"
    }
   ],
   "source": [
    "select_row= aviation_df2[aviation_df2['Total_Uninjured'] == 588.0]\n",
    "select_row"
   ]
  },
  {
   "cell_type": "markdown",
   "metadata": {},
   "source": [
    "##### Observation\n",
    "\n",
    "While checking on accident records for the accident drawn from the NTSB report, we note that the N323EA had 213 uninjured passengers and 9VSQQ had 375 uninjured passengers. In view of this, we can correct this in our dataframe."
   ]
  },
  {
   "cell_type": "code",
   "execution_count": 114,
   "metadata": {
    "scrolled": true
   },
   "outputs": [
    {
     "data": {
      "text/html": [
       "<div>\n",
       "<style scoped>\n",
       "    .dataframe tbody tr th:only-of-type {\n",
       "        vertical-align: middle;\n",
       "    }\n",
       "\n",
       "    .dataframe tbody tr th {\n",
       "        vertical-align: top;\n",
       "    }\n",
       "\n",
       "    .dataframe thead th {\n",
       "        text-align: right;\n",
       "    }\n",
       "</style>\n",
       "<table border=\"1\" class=\"dataframe\">\n",
       "  <thead>\n",
       "    <tr style=\"text-align: right;\">\n",
       "      <th></th>\n",
       "      <th>count</th>\n",
       "      <th>mean</th>\n",
       "      <th>std</th>\n",
       "      <th>min</th>\n",
       "      <th>25%</th>\n",
       "      <th>50%</th>\n",
       "      <th>75%</th>\n",
       "      <th>max</th>\n",
       "    </tr>\n",
       "  </thead>\n",
       "  <tbody>\n",
       "    <tr>\n",
       "      <th>Number_of_Engines</th>\n",
       "      <td>88828.0</td>\n",
       "      <td>1.136635</td>\n",
       "      <td>0.432669</td>\n",
       "      <td>0.0</td>\n",
       "      <td>1.0</td>\n",
       "      <td>1.0</td>\n",
       "      <td>1.0</td>\n",
       "      <td>8.0</td>\n",
       "    </tr>\n",
       "    <tr>\n",
       "      <th>Total_Fatal_Injuries</th>\n",
       "      <td>88828.0</td>\n",
       "      <td>0.564495</td>\n",
       "      <td>5.127821</td>\n",
       "      <td>0.0</td>\n",
       "      <td>0.0</td>\n",
       "      <td>0.0</td>\n",
       "      <td>0.0</td>\n",
       "      <td>349.0</td>\n",
       "    </tr>\n",
       "    <tr>\n",
       "      <th>Total_Serious_Injuries</th>\n",
       "      <td>88828.0</td>\n",
       "      <td>0.240386</td>\n",
       "      <td>1.434605</td>\n",
       "      <td>0.0</td>\n",
       "      <td>0.0</td>\n",
       "      <td>0.0</td>\n",
       "      <td>0.0</td>\n",
       "      <td>161.0</td>\n",
       "    </tr>\n",
       "    <tr>\n",
       "      <th>Total_Minor_Injuries</th>\n",
       "      <td>88828.0</td>\n",
       "      <td>0.309216</td>\n",
       "      <td>2.084289</td>\n",
       "      <td>0.0</td>\n",
       "      <td>0.0</td>\n",
       "      <td>0.0</td>\n",
       "      <td>0.0</td>\n",
       "      <td>380.0</td>\n",
       "    </tr>\n",
       "    <tr>\n",
       "      <th>Total_Uninjured</th>\n",
       "      <td>88828.0</td>\n",
       "      <td>5.017630</td>\n",
       "      <td>26.730030</td>\n",
       "      <td>0.0</td>\n",
       "      <td>0.0</td>\n",
       "      <td>1.0</td>\n",
       "      <td>2.0</td>\n",
       "      <td>576.0</td>\n",
       "    </tr>\n",
       "    <tr>\n",
       "      <th>Event_Year</th>\n",
       "      <td>88828.0</td>\n",
       "      <td>1999.201885</td>\n",
       "      <td>11.888610</td>\n",
       "      <td>1948.0</td>\n",
       "      <td>1989.0</td>\n",
       "      <td>1998.0</td>\n",
       "      <td>2009.0</td>\n",
       "      <td>2022.0</td>\n",
       "    </tr>\n",
       "  </tbody>\n",
       "</table>\n",
       "</div>"
      ],
      "text/plain": [
       "                          count         mean        std     min     25%  \\\n",
       "Number_of_Engines       88828.0     1.136635   0.432669     0.0     1.0   \n",
       "Total_Fatal_Injuries    88828.0     0.564495   5.127821     0.0     0.0   \n",
       "Total_Serious_Injuries  88828.0     0.240386   1.434605     0.0     0.0   \n",
       "Total_Minor_Injuries    88828.0     0.309216   2.084289     0.0     0.0   \n",
       "Total_Uninjured         88828.0     5.017630  26.730030     0.0     0.0   \n",
       "Event_Year              88828.0  1999.201885  11.888610  1948.0  1989.0   \n",
       "\n",
       "                           50%     75%     max  \n",
       "Number_of_Engines          1.0     1.0     8.0  \n",
       "Total_Fatal_Injuries       0.0     0.0   349.0  \n",
       "Total_Serious_Injuries     0.0     0.0   161.0  \n",
       "Total_Minor_Injuries       0.0     0.0   380.0  \n",
       "Total_Uninjured            1.0     2.0   576.0  \n",
       "Event_Year              1998.0  2009.0  2022.0  "
      ]
     },
     "execution_count": 114,
     "metadata": {},
     "output_type": "execute_result"
    }
   ],
   "source": [
    "#correcting the values\n",
    "aviation_df2.loc[4143,'Total_Uninjured']= 213\n",
    "aviation_df2.loc[4144,'Total_Uninjured'] = 375\n",
    "\n",
    "#checking the statistical summary of the dataframe\n",
    "aviation_df2.describe().T"
   ]
  },
  {
   "cell_type": "markdown",
   "metadata": {},
   "source": [
    "##### Observation\n",
    "We note the maximum value of 576 for total uninjured which may be a potential data entry error given that a commercial aircraft like the Airbus A380 has a typical seating of 525 passengers. Based on this, we can check on this row and use domain knowledge to correct it."
   ]
  },
  {
   "cell_type": "code",
   "execution_count": 115,
   "metadata": {},
   "outputs": [
    {
     "data": {
      "text/html": [
       "<div>\n",
       "<style scoped>\n",
       "    .dataframe tbody tr th:only-of-type {\n",
       "        vertical-align: middle;\n",
       "    }\n",
       "\n",
       "    .dataframe tbody tr th {\n",
       "        vertical-align: top;\n",
       "    }\n",
       "\n",
       "    .dataframe thead th {\n",
       "        text-align: right;\n",
       "    }\n",
       "</style>\n",
       "<table border=\"1\" class=\"dataframe\">\n",
       "  <thead>\n",
       "    <tr style=\"text-align: right;\">\n",
       "      <th></th>\n",
       "      <th>Event_Id</th>\n",
       "      <th>Investigation_Type</th>\n",
       "      <th>Accident_Number</th>\n",
       "      <th>Event_Date</th>\n",
       "      <th>Location</th>\n",
       "      <th>Country</th>\n",
       "      <th>Injury_Severity</th>\n",
       "      <th>Aircraft_damage</th>\n",
       "      <th>Aircraft_Category</th>\n",
       "      <th>Registration_Number</th>\n",
       "      <th>...</th>\n",
       "      <th>Number_of_Engines</th>\n",
       "      <th>Engine_Type</th>\n",
       "      <th>Purpose_of_flight</th>\n",
       "      <th>Total_Fatal_Injuries</th>\n",
       "      <th>Total_Serious_Injuries</th>\n",
       "      <th>Total_Minor_Injuries</th>\n",
       "      <th>Total_Uninjured</th>\n",
       "      <th>Weather_Condition</th>\n",
       "      <th>Broad_phase_of_flight</th>\n",
       "      <th>Event_Year</th>\n",
       "    </tr>\n",
       "  </thead>\n",
       "  <tbody>\n",
       "    <tr>\n",
       "      <th>69771</th>\n",
       "      <td>20110412X23201</td>\n",
       "      <td>Accident</td>\n",
       "      <td>DCA11LA045</td>\n",
       "      <td>2011-04-12</td>\n",
       "      <td>JAMAICA, NY</td>\n",
       "      <td>United States</td>\n",
       "      <td>Fatal</td>\n",
       "      <td>Substantial</td>\n",
       "      <td>Airplane</td>\n",
       "      <td>F-HPJD</td>\n",
       "      <td>...</td>\n",
       "      <td>4.0</td>\n",
       "      <td>Turbo Fan</td>\n",
       "      <td>NaN</td>\n",
       "      <td>0.0</td>\n",
       "      <td>0.0</td>\n",
       "      <td>0.0</td>\n",
       "      <td>576.0</td>\n",
       "      <td>VMC</td>\n",
       "      <td>NaN</td>\n",
       "      <td>2011</td>\n",
       "    </tr>\n",
       "  </tbody>\n",
       "</table>\n",
       "<p>1 rows × 23 columns</p>\n",
       "</div>"
      ],
      "text/plain": [
       "             Event_Id Investigation_Type Accident_Number Event_Date  \\\n",
       "69771  20110412X23201           Accident      DCA11LA045 2011-04-12   \n",
       "\n",
       "          Location        Country Injury_Severity Aircraft_damage  \\\n",
       "69771  JAMAICA, NY  United States           Fatal     Substantial   \n",
       "\n",
       "      Aircraft_Category Registration_Number  ... Number_of_Engines  \\\n",
       "69771          Airplane              F-HPJD  ...               4.0   \n",
       "\n",
       "      Engine_Type Purpose_of_flight  Total_Fatal_Injuries  \\\n",
       "69771   Turbo Fan               NaN                   0.0   \n",
       "\n",
       "      Total_Serious_Injuries Total_Minor_Injuries  Total_Uninjured  \\\n",
       "69771                    0.0                  0.0            576.0   \n",
       "\n",
       "       Weather_Condition  Broad_phase_of_flight  Event_Year  \n",
       "69771                VMC                    NaN        2011  \n",
       "\n",
       "[1 rows x 23 columns]"
      ]
     },
     "execution_count": 115,
     "metadata": {},
     "output_type": "execute_result"
    }
   ],
   "source": [
    "check_row= aviation_df2[aviation_df2['Total_Uninjured'] == 576.0]\n",
    "check_row"
   ]
  },
  {
   "cell_type": "markdown",
   "metadata": {},
   "source": [
    "##### Observation\n",
    "\n",
    "While checking on accident records for the accident drawn from the NTSB report, we note that the F-HPJD had 510 uninjured passengers. In view of this, we can correct this in our dataframe."
   ]
  },
  {
   "cell_type": "code",
   "execution_count": 116,
   "metadata": {
    "scrolled": true
   },
   "outputs": [
    {
     "data": {
      "text/html": [
       "<div>\n",
       "<style scoped>\n",
       "    .dataframe tbody tr th:only-of-type {\n",
       "        vertical-align: middle;\n",
       "    }\n",
       "\n",
       "    .dataframe tbody tr th {\n",
       "        vertical-align: top;\n",
       "    }\n",
       "\n",
       "    .dataframe thead th {\n",
       "        text-align: right;\n",
       "    }\n",
       "</style>\n",
       "<table border=\"1\" class=\"dataframe\">\n",
       "  <thead>\n",
       "    <tr style=\"text-align: right;\">\n",
       "      <th></th>\n",
       "      <th>count</th>\n",
       "      <th>mean</th>\n",
       "      <th>std</th>\n",
       "      <th>min</th>\n",
       "      <th>25%</th>\n",
       "      <th>50%</th>\n",
       "      <th>75%</th>\n",
       "      <th>max</th>\n",
       "    </tr>\n",
       "  </thead>\n",
       "  <tbody>\n",
       "    <tr>\n",
       "      <th>Number_of_Engines</th>\n",
       "      <td>88828.0</td>\n",
       "      <td>1.136635</td>\n",
       "      <td>0.432669</td>\n",
       "      <td>0.0</td>\n",
       "      <td>1.0</td>\n",
       "      <td>1.0</td>\n",
       "      <td>1.0</td>\n",
       "      <td>8.0</td>\n",
       "    </tr>\n",
       "    <tr>\n",
       "      <th>Total_Fatal_Injuries</th>\n",
       "      <td>88828.0</td>\n",
       "      <td>0.564495</td>\n",
       "      <td>5.127821</td>\n",
       "      <td>0.0</td>\n",
       "      <td>0.0</td>\n",
       "      <td>0.0</td>\n",
       "      <td>0.0</td>\n",
       "      <td>349.0</td>\n",
       "    </tr>\n",
       "    <tr>\n",
       "      <th>Total_Serious_Injuries</th>\n",
       "      <td>88828.0</td>\n",
       "      <td>0.240386</td>\n",
       "      <td>1.434605</td>\n",
       "      <td>0.0</td>\n",
       "      <td>0.0</td>\n",
       "      <td>0.0</td>\n",
       "      <td>0.0</td>\n",
       "      <td>161.0</td>\n",
       "    </tr>\n",
       "    <tr>\n",
       "      <th>Total_Minor_Injuries</th>\n",
       "      <td>88828.0</td>\n",
       "      <td>0.309216</td>\n",
       "      <td>2.084289</td>\n",
       "      <td>0.0</td>\n",
       "      <td>0.0</td>\n",
       "      <td>0.0</td>\n",
       "      <td>0.0</td>\n",
       "      <td>380.0</td>\n",
       "    </tr>\n",
       "    <tr>\n",
       "      <th>Total_Uninjured</th>\n",
       "      <td>88828.0</td>\n",
       "      <td>5.016887</td>\n",
       "      <td>26.715072</td>\n",
       "      <td>0.0</td>\n",
       "      <td>0.0</td>\n",
       "      <td>1.0</td>\n",
       "      <td>2.0</td>\n",
       "      <td>573.0</td>\n",
       "    </tr>\n",
       "    <tr>\n",
       "      <th>Event_Year</th>\n",
       "      <td>88828.0</td>\n",
       "      <td>1999.201885</td>\n",
       "      <td>11.888610</td>\n",
       "      <td>1948.0</td>\n",
       "      <td>1989.0</td>\n",
       "      <td>1998.0</td>\n",
       "      <td>2009.0</td>\n",
       "      <td>2022.0</td>\n",
       "    </tr>\n",
       "  </tbody>\n",
       "</table>\n",
       "</div>"
      ],
      "text/plain": [
       "                          count         mean        std     min     25%  \\\n",
       "Number_of_Engines       88828.0     1.136635   0.432669     0.0     1.0   \n",
       "Total_Fatal_Injuries    88828.0     0.564495   5.127821     0.0     0.0   \n",
       "Total_Serious_Injuries  88828.0     0.240386   1.434605     0.0     0.0   \n",
       "Total_Minor_Injuries    88828.0     0.309216   2.084289     0.0     0.0   \n",
       "Total_Uninjured         88828.0     5.016887  26.715072     0.0     0.0   \n",
       "Event_Year              88828.0  1999.201885  11.888610  1948.0  1989.0   \n",
       "\n",
       "                           50%     75%     max  \n",
       "Number_of_Engines          1.0     1.0     8.0  \n",
       "Total_Fatal_Injuries       0.0     0.0   349.0  \n",
       "Total_Serious_Injuries     0.0     0.0   161.0  \n",
       "Total_Minor_Injuries       0.0     0.0   380.0  \n",
       "Total_Uninjured            1.0     2.0   573.0  \n",
       "Event_Year              1998.0  2009.0  2022.0  "
      ]
     },
     "execution_count": 116,
     "metadata": {},
     "output_type": "execute_result"
    }
   ],
   "source": [
    "#correcting the values\n",
    "aviation_df2.loc[69771,'Total_Uninjured']= 510\n",
    "aviation_df2.loc[69771,'Broad_phase_of_flight'] = 'Taxi'\n",
    "\n",
    "#checking the statistical summary of the dataframe\n",
    "aviation_df2.describe().T"
   ]
  },
  {
   "cell_type": "markdown",
   "metadata": {},
   "source": [
    "##### Observation\n",
    "We note the maximum value of 573 for total uninjured which may be a potential data entry error given that a commercial aircraft like the Airbus A380 has a typical seating of 525 passengers. Based on this, we can check on this row and use domain knowledge to correct it."
   ]
  },
  {
   "cell_type": "code",
   "execution_count": 117,
   "metadata": {},
   "outputs": [
    {
     "data": {
      "text/html": [
       "<div>\n",
       "<style scoped>\n",
       "    .dataframe tbody tr th:only-of-type {\n",
       "        vertical-align: middle;\n",
       "    }\n",
       "\n",
       "    .dataframe tbody tr th {\n",
       "        vertical-align: top;\n",
       "    }\n",
       "\n",
       "    .dataframe thead th {\n",
       "        text-align: right;\n",
       "    }\n",
       "</style>\n",
       "<table border=\"1\" class=\"dataframe\">\n",
       "  <thead>\n",
       "    <tr style=\"text-align: right;\">\n",
       "      <th></th>\n",
       "      <th>Event_Id</th>\n",
       "      <th>Investigation_Type</th>\n",
       "      <th>Accident_Number</th>\n",
       "      <th>Event_Date</th>\n",
       "      <th>Location</th>\n",
       "      <th>Country</th>\n",
       "      <th>Injury_Severity</th>\n",
       "      <th>Aircraft_damage</th>\n",
       "      <th>Aircraft_Category</th>\n",
       "      <th>Registration_Number</th>\n",
       "      <th>...</th>\n",
       "      <th>Number_of_Engines</th>\n",
       "      <th>Engine_Type</th>\n",
       "      <th>Purpose_of_flight</th>\n",
       "      <th>Total_Fatal_Injuries</th>\n",
       "      <th>Total_Serious_Injuries</th>\n",
       "      <th>Total_Minor_Injuries</th>\n",
       "      <th>Total_Uninjured</th>\n",
       "      <th>Weather_Condition</th>\n",
       "      <th>Broad_phase_of_flight</th>\n",
       "      <th>Event_Year</th>\n",
       "    </tr>\n",
       "  </thead>\n",
       "  <tbody>\n",
       "    <tr>\n",
       "      <th>41766</th>\n",
       "      <td>20001208X07896</td>\n",
       "      <td>Accident</td>\n",
       "      <td>DCA97WA047A</td>\n",
       "      <td>1997-05-14</td>\n",
       "      <td>LONDON, UNITED KINGDOM</td>\n",
       "      <td>United Kingdom</td>\n",
       "      <td>Fatal</td>\n",
       "      <td>Minor</td>\n",
       "      <td>Airplane</td>\n",
       "      <td>NaN</td>\n",
       "      <td>...</td>\n",
       "      <td>4.0</td>\n",
       "      <td>Turbo Fan</td>\n",
       "      <td>Unknown</td>\n",
       "      <td>0.0</td>\n",
       "      <td>0.0</td>\n",
       "      <td>0.0</td>\n",
       "      <td>573.0</td>\n",
       "      <td>VMC</td>\n",
       "      <td>NaN</td>\n",
       "      <td>1997</td>\n",
       "    </tr>\n",
       "    <tr>\n",
       "      <th>41767</th>\n",
       "      <td>20001208X07896</td>\n",
       "      <td>Accident</td>\n",
       "      <td>DCA97WA047B</td>\n",
       "      <td>1997-05-14</td>\n",
       "      <td>LONDON, UNITED KINGDOM</td>\n",
       "      <td>United Kingdom</td>\n",
       "      <td>Fatal</td>\n",
       "      <td>Substantial</td>\n",
       "      <td>Airplane</td>\n",
       "      <td>N770UA</td>\n",
       "      <td>...</td>\n",
       "      <td>2.0</td>\n",
       "      <td>Turbo Fan</td>\n",
       "      <td>Unknown</td>\n",
       "      <td>0.0</td>\n",
       "      <td>0.0</td>\n",
       "      <td>0.0</td>\n",
       "      <td>573.0</td>\n",
       "      <td>VMC</td>\n",
       "      <td>NaN</td>\n",
       "      <td>1997</td>\n",
       "    </tr>\n",
       "  </tbody>\n",
       "</table>\n",
       "<p>2 rows × 23 columns</p>\n",
       "</div>"
      ],
      "text/plain": [
       "             Event_Id Investigation_Type Accident_Number Event_Date  \\\n",
       "41766  20001208X07896           Accident     DCA97WA047A 1997-05-14   \n",
       "41767  20001208X07896           Accident     DCA97WA047B 1997-05-14   \n",
       "\n",
       "                     Location         Country Injury_Severity Aircraft_damage  \\\n",
       "41766  LONDON, UNITED KINGDOM  United Kingdom           Fatal           Minor   \n",
       "41767  LONDON, UNITED KINGDOM  United Kingdom           Fatal     Substantial   \n",
       "\n",
       "      Aircraft_Category Registration_Number  ... Number_of_Engines  \\\n",
       "41766          Airplane                 NaN  ...               4.0   \n",
       "41767          Airplane              N770UA  ...               2.0   \n",
       "\n",
       "      Engine_Type Purpose_of_flight  Total_Fatal_Injuries  \\\n",
       "41766   Turbo Fan           Unknown                   0.0   \n",
       "41767   Turbo Fan           Unknown                   0.0   \n",
       "\n",
       "      Total_Serious_Injuries Total_Minor_Injuries  Total_Uninjured  \\\n",
       "41766                    0.0                  0.0            573.0   \n",
       "41767                    0.0                  0.0            573.0   \n",
       "\n",
       "       Weather_Condition  Broad_phase_of_flight  Event_Year  \n",
       "41766                VMC                    NaN        1997  \n",
       "41767                VMC                    NaN        1997  \n",
       "\n",
       "[2 rows x 23 columns]"
      ]
     },
     "execution_count": 117,
     "metadata": {},
     "output_type": "execute_result"
    }
   ],
   "source": [
    "check2_row= aviation_df2[aviation_df2['Total_Uninjured'] == 573.0]\n",
    "check2_row"
   ]
  },
  {
   "cell_type": "code",
   "execution_count": 118,
   "metadata": {},
   "outputs": [
    {
     "data": {
      "text/html": [
       "<div>\n",
       "<style scoped>\n",
       "    .dataframe tbody tr th:only-of-type {\n",
       "        vertical-align: middle;\n",
       "    }\n",
       "\n",
       "    .dataframe tbody tr th {\n",
       "        vertical-align: top;\n",
       "    }\n",
       "\n",
       "    .dataframe thead th {\n",
       "        text-align: right;\n",
       "    }\n",
       "</style>\n",
       "<table border=\"1\" class=\"dataframe\">\n",
       "  <thead>\n",
       "    <tr style=\"text-align: right;\">\n",
       "      <th></th>\n",
       "      <th>count</th>\n",
       "      <th>mean</th>\n",
       "      <th>std</th>\n",
       "      <th>min</th>\n",
       "      <th>25%</th>\n",
       "      <th>50%</th>\n",
       "      <th>75%</th>\n",
       "      <th>max</th>\n",
       "    </tr>\n",
       "  </thead>\n",
       "  <tbody>\n",
       "    <tr>\n",
       "      <th>Number_of_Engines</th>\n",
       "      <td>88828.0</td>\n",
       "      <td>1.136635</td>\n",
       "      <td>0.432669</td>\n",
       "      <td>0.0</td>\n",
       "      <td>1.0</td>\n",
       "      <td>1.0</td>\n",
       "      <td>1.0</td>\n",
       "      <td>8.0</td>\n",
       "    </tr>\n",
       "    <tr>\n",
       "      <th>Total_Fatal_Injuries</th>\n",
       "      <td>88828.0</td>\n",
       "      <td>0.564495</td>\n",
       "      <td>5.127821</td>\n",
       "      <td>0.0</td>\n",
       "      <td>0.0</td>\n",
       "      <td>0.0</td>\n",
       "      <td>0.0</td>\n",
       "      <td>349.0</td>\n",
       "    </tr>\n",
       "    <tr>\n",
       "      <th>Total_Serious_Injuries</th>\n",
       "      <td>88828.0</td>\n",
       "      <td>0.240386</td>\n",
       "      <td>1.434605</td>\n",
       "      <td>0.0</td>\n",
       "      <td>0.0</td>\n",
       "      <td>0.0</td>\n",
       "      <td>0.0</td>\n",
       "      <td>161.0</td>\n",
       "    </tr>\n",
       "    <tr>\n",
       "      <th>Total_Minor_Injuries</th>\n",
       "      <td>88828.0</td>\n",
       "      <td>0.309216</td>\n",
       "      <td>2.084289</td>\n",
       "      <td>0.0</td>\n",
       "      <td>0.0</td>\n",
       "      <td>0.0</td>\n",
       "      <td>0.0</td>\n",
       "      <td>380.0</td>\n",
       "    </tr>\n",
       "    <tr>\n",
       "      <th>Total_Uninjured</th>\n",
       "      <td>88828.0</td>\n",
       "      <td>5.010436</td>\n",
       "      <td>26.612328</td>\n",
       "      <td>0.0</td>\n",
       "      <td>0.0</td>\n",
       "      <td>1.0</td>\n",
       "      <td>2.0</td>\n",
       "      <td>558.0</td>\n",
       "    </tr>\n",
       "    <tr>\n",
       "      <th>Event_Year</th>\n",
       "      <td>88828.0</td>\n",
       "      <td>1999.201885</td>\n",
       "      <td>11.888610</td>\n",
       "      <td>1948.0</td>\n",
       "      <td>1989.0</td>\n",
       "      <td>1998.0</td>\n",
       "      <td>2009.0</td>\n",
       "      <td>2022.0</td>\n",
       "    </tr>\n",
       "  </tbody>\n",
       "</table>\n",
       "</div>"
      ],
      "text/plain": [
       "                          count         mean        std     min     25%  \\\n",
       "Number_of_Engines       88828.0     1.136635   0.432669     0.0     1.0   \n",
       "Total_Fatal_Injuries    88828.0     0.564495   5.127821     0.0     0.0   \n",
       "Total_Serious_Injuries  88828.0     0.240386   1.434605     0.0     0.0   \n",
       "Total_Minor_Injuries    88828.0     0.309216   2.084289     0.0     0.0   \n",
       "Total_Uninjured         88828.0     5.010436  26.612328     0.0     0.0   \n",
       "Event_Year              88828.0  1999.201885  11.888610  1948.0  1989.0   \n",
       "\n",
       "                           50%     75%     max  \n",
       "Number_of_Engines          1.0     1.0     8.0  \n",
       "Total_Fatal_Injuries       0.0     0.0   349.0  \n",
       "Total_Serious_Injuries     0.0     0.0   161.0  \n",
       "Total_Minor_Injuries       0.0     0.0   380.0  \n",
       "Total_Uninjured            1.0     2.0   558.0  \n",
       "Event_Year              1998.0  2009.0  2022.0  "
      ]
     },
     "execution_count": 118,
     "metadata": {},
     "output_type": "execute_result"
    }
   ],
   "source": [
    "#correcting the values\n",
    "aviation_df2.loc[41766,'Total_Uninjured'] = 292\n",
    "aviation_df2.loc[41766,'Registration_Number'] = 'C-GAGM'\n",
    "aviation_df2.loc[41767,'Total_Uninjured']= 281\n",
    "aviation_df2.loc[41767,'Broad_phase_of_flight'] = 'Taxi'\n",
    "\n",
    "#checking the statistical summary of the dataframe\n",
    "aviation_df2.describe().T"
   ]
  },
  {
   "cell_type": "code",
   "execution_count": 119,
   "metadata": {},
   "outputs": [
    {
     "data": {
      "text/html": [
       "<div>\n",
       "<style scoped>\n",
       "    .dataframe tbody tr th:only-of-type {\n",
       "        vertical-align: middle;\n",
       "    }\n",
       "\n",
       "    .dataframe tbody tr th {\n",
       "        vertical-align: top;\n",
       "    }\n",
       "\n",
       "    .dataframe thead th {\n",
       "        text-align: right;\n",
       "    }\n",
       "</style>\n",
       "<table border=\"1\" class=\"dataframe\">\n",
       "  <thead>\n",
       "    <tr style=\"text-align: right;\">\n",
       "      <th></th>\n",
       "      <th>Event_Id</th>\n",
       "      <th>Investigation_Type</th>\n",
       "      <th>Accident_Number</th>\n",
       "      <th>Event_Date</th>\n",
       "      <th>Location</th>\n",
       "      <th>Country</th>\n",
       "      <th>Injury_Severity</th>\n",
       "      <th>Aircraft_damage</th>\n",
       "      <th>Aircraft_Category</th>\n",
       "      <th>Registration_Number</th>\n",
       "      <th>...</th>\n",
       "      <th>Number_of_Engines</th>\n",
       "      <th>Engine_Type</th>\n",
       "      <th>Purpose_of_flight</th>\n",
       "      <th>Total_Fatal_Injuries</th>\n",
       "      <th>Total_Serious_Injuries</th>\n",
       "      <th>Total_Minor_Injuries</th>\n",
       "      <th>Total_Uninjured</th>\n",
       "      <th>Weather_Condition</th>\n",
       "      <th>Broad_phase_of_flight</th>\n",
       "      <th>Event_Year</th>\n",
       "    </tr>\n",
       "  </thead>\n",
       "  <tbody>\n",
       "    <tr>\n",
       "      <th>57386</th>\n",
       "      <td>20040908X01362</td>\n",
       "      <td>Accident</td>\n",
       "      <td>DCA04WA078</td>\n",
       "      <td>2004-08-31</td>\n",
       "      <td>HANAMAKI, JAPAN</td>\n",
       "      <td>Japan</td>\n",
       "      <td>Fatal</td>\n",
       "      <td>Unknown</td>\n",
       "      <td>Airplane</td>\n",
       "      <td>NaN</td>\n",
       "      <td>...</td>\n",
       "      <td>1.0</td>\n",
       "      <td>Turbo Fan</td>\n",
       "      <td>NaN</td>\n",
       "      <td>0.0</td>\n",
       "      <td>1.0</td>\n",
       "      <td>1.0</td>\n",
       "      <td>558.0</td>\n",
       "      <td>Unknown</td>\n",
       "      <td>NaN</td>\n",
       "      <td>2004</td>\n",
       "    </tr>\n",
       "  </tbody>\n",
       "</table>\n",
       "<p>1 rows × 23 columns</p>\n",
       "</div>"
      ],
      "text/plain": [
       "             Event_Id Investigation_Type Accident_Number Event_Date  \\\n",
       "57386  20040908X01362           Accident      DCA04WA078 2004-08-31   \n",
       "\n",
       "              Location Country Injury_Severity Aircraft_damage  \\\n",
       "57386  HANAMAKI, JAPAN   Japan           Fatal         Unknown   \n",
       "\n",
       "      Aircraft_Category Registration_Number  ... Number_of_Engines  \\\n",
       "57386          Airplane                 NaN  ...               1.0   \n",
       "\n",
       "      Engine_Type Purpose_of_flight  Total_Fatal_Injuries  \\\n",
       "57386   Turbo Fan               NaN                   0.0   \n",
       "\n",
       "      Total_Serious_Injuries Total_Minor_Injuries  Total_Uninjured  \\\n",
       "57386                    1.0                  1.0            558.0   \n",
       "\n",
       "       Weather_Condition  Broad_phase_of_flight  Event_Year  \n",
       "57386            Unknown                    NaN        2004  \n",
       "\n",
       "[1 rows x 23 columns]"
      ]
     },
     "execution_count": 119,
     "metadata": {},
     "output_type": "execute_result"
    }
   ],
   "source": [
    "check3_row= aviation_df2[aviation_df2['Total_Uninjured'] == 558.0]\n",
    "check3_row"
   ]
  },
  {
   "cell_type": "markdown",
   "metadata": {},
   "source": [
    "##### Observation\n",
    "\n",
    "Since we lack a unique identifier, we can drop this row."
   ]
  },
  {
   "cell_type": "code",
   "execution_count": 120,
   "metadata": {
    "scrolled": true
   },
   "outputs": [
    {
     "data": {
      "text/html": [
       "<div>\n",
       "<style scoped>\n",
       "    .dataframe tbody tr th:only-of-type {\n",
       "        vertical-align: middle;\n",
       "    }\n",
       "\n",
       "    .dataframe tbody tr th {\n",
       "        vertical-align: top;\n",
       "    }\n",
       "\n",
       "    .dataframe thead th {\n",
       "        text-align: right;\n",
       "    }\n",
       "</style>\n",
       "<table border=\"1\" class=\"dataframe\">\n",
       "  <thead>\n",
       "    <tr style=\"text-align: right;\">\n",
       "      <th></th>\n",
       "      <th>count</th>\n",
       "      <th>mean</th>\n",
       "      <th>std</th>\n",
       "      <th>min</th>\n",
       "      <th>25%</th>\n",
       "      <th>50%</th>\n",
       "      <th>75%</th>\n",
       "      <th>max</th>\n",
       "    </tr>\n",
       "  </thead>\n",
       "  <tbody>\n",
       "    <tr>\n",
       "      <th>Number_of_Engines</th>\n",
       "      <td>88827.0</td>\n",
       "      <td>1.136636</td>\n",
       "      <td>0.432672</td>\n",
       "      <td>0.0</td>\n",
       "      <td>1.0</td>\n",
       "      <td>1.0</td>\n",
       "      <td>1.0</td>\n",
       "      <td>8.0</td>\n",
       "    </tr>\n",
       "    <tr>\n",
       "      <th>Total_Fatal_Injuries</th>\n",
       "      <td>88827.0</td>\n",
       "      <td>0.564502</td>\n",
       "      <td>5.127849</td>\n",
       "      <td>0.0</td>\n",
       "      <td>0.0</td>\n",
       "      <td>0.0</td>\n",
       "      <td>0.0</td>\n",
       "      <td>349.0</td>\n",
       "    </tr>\n",
       "    <tr>\n",
       "      <th>Total_Serious_Injuries</th>\n",
       "      <td>88827.0</td>\n",
       "      <td>0.240377</td>\n",
       "      <td>1.434611</td>\n",
       "      <td>0.0</td>\n",
       "      <td>0.0</td>\n",
       "      <td>0.0</td>\n",
       "      <td>0.0</td>\n",
       "      <td>161.0</td>\n",
       "    </tr>\n",
       "    <tr>\n",
       "      <th>Total_Minor_Injuries</th>\n",
       "      <td>88827.0</td>\n",
       "      <td>0.309208</td>\n",
       "      <td>2.084300</td>\n",
       "      <td>0.0</td>\n",
       "      <td>0.0</td>\n",
       "      <td>0.0</td>\n",
       "      <td>0.0</td>\n",
       "      <td>380.0</td>\n",
       "    </tr>\n",
       "    <tr>\n",
       "      <th>Total_Uninjured</th>\n",
       "      <td>88827.0</td>\n",
       "      <td>5.004210</td>\n",
       "      <td>26.547717</td>\n",
       "      <td>0.0</td>\n",
       "      <td>0.0</td>\n",
       "      <td>1.0</td>\n",
       "      <td>2.0</td>\n",
       "      <td>528.0</td>\n",
       "    </tr>\n",
       "    <tr>\n",
       "      <th>Event_Year</th>\n",
       "      <td>88827.0</td>\n",
       "      <td>1999.201831</td>\n",
       "      <td>11.888666</td>\n",
       "      <td>1948.0</td>\n",
       "      <td>1989.0</td>\n",
       "      <td>1998.0</td>\n",
       "      <td>2009.0</td>\n",
       "      <td>2022.0</td>\n",
       "    </tr>\n",
       "  </tbody>\n",
       "</table>\n",
       "</div>"
      ],
      "text/plain": [
       "                          count         mean        std     min     25%  \\\n",
       "Number_of_Engines       88827.0     1.136636   0.432672     0.0     1.0   \n",
       "Total_Fatal_Injuries    88827.0     0.564502   5.127849     0.0     0.0   \n",
       "Total_Serious_Injuries  88827.0     0.240377   1.434611     0.0     0.0   \n",
       "Total_Minor_Injuries    88827.0     0.309208   2.084300     0.0     0.0   \n",
       "Total_Uninjured         88827.0     5.004210  26.547717     0.0     0.0   \n",
       "Event_Year              88827.0  1999.201831  11.888666  1948.0  1989.0   \n",
       "\n",
       "                           50%     75%     max  \n",
       "Number_of_Engines          1.0     1.0     8.0  \n",
       "Total_Fatal_Injuries       0.0     0.0   349.0  \n",
       "Total_Serious_Injuries     0.0     0.0   161.0  \n",
       "Total_Minor_Injuries       0.0     0.0   380.0  \n",
       "Total_Uninjured            1.0     2.0   528.0  \n",
       "Event_Year              1998.0  2009.0  2022.0  "
      ]
     },
     "execution_count": 120,
     "metadata": {},
     "output_type": "execute_result"
    }
   ],
   "source": [
    "aviation_df2.drop(index=[57386],inplace=True)\n",
    "\n",
    "#checking the statistical summary of the dataframe\n",
    "aviation_df2.describe().T"
   ]
  },
  {
   "cell_type": "code",
   "execution_count": 121,
   "metadata": {},
   "outputs": [
    {
     "data": {
      "text/html": [
       "<div>\n",
       "<style scoped>\n",
       "    .dataframe tbody tr th:only-of-type {\n",
       "        vertical-align: middle;\n",
       "    }\n",
       "\n",
       "    .dataframe tbody tr th {\n",
       "        vertical-align: top;\n",
       "    }\n",
       "\n",
       "    .dataframe thead th {\n",
       "        text-align: right;\n",
       "    }\n",
       "</style>\n",
       "<table border=\"1\" class=\"dataframe\">\n",
       "  <thead>\n",
       "    <tr style=\"text-align: right;\">\n",
       "      <th></th>\n",
       "      <th>Event_Id</th>\n",
       "      <th>Investigation_Type</th>\n",
       "      <th>Accident_Number</th>\n",
       "      <th>Event_Date</th>\n",
       "      <th>Location</th>\n",
       "      <th>Country</th>\n",
       "      <th>Injury_Severity</th>\n",
       "      <th>Aircraft_damage</th>\n",
       "      <th>Aircraft_Category</th>\n",
       "      <th>Registration_Number</th>\n",
       "      <th>...</th>\n",
       "      <th>Number_of_Engines</th>\n",
       "      <th>Engine_Type</th>\n",
       "      <th>Purpose_of_flight</th>\n",
       "      <th>Total_Fatal_Injuries</th>\n",
       "      <th>Total_Serious_Injuries</th>\n",
       "      <th>Total_Minor_Injuries</th>\n",
       "      <th>Total_Uninjured</th>\n",
       "      <th>Weather_Condition</th>\n",
       "      <th>Broad_phase_of_flight</th>\n",
       "      <th>Event_Year</th>\n",
       "    </tr>\n",
       "  </thead>\n",
       "  <tbody>\n",
       "    <tr>\n",
       "      <th>18358</th>\n",
       "      <td>20001213X31904</td>\n",
       "      <td>Incident</td>\n",
       "      <td>NYC87IA227B</td>\n",
       "      <td>1987-08-09</td>\n",
       "      <td>NEW YORK, NY</td>\n",
       "      <td>United States</td>\n",
       "      <td>Incident</td>\n",
       "      <td>Unknown</td>\n",
       "      <td>Airplane</td>\n",
       "      <td>N558PE</td>\n",
       "      <td>...</td>\n",
       "      <td>3.0</td>\n",
       "      <td>Turbo Fan</td>\n",
       "      <td>Unknown</td>\n",
       "      <td>0.0</td>\n",
       "      <td>0.0</td>\n",
       "      <td>0.0</td>\n",
       "      <td>528.0</td>\n",
       "      <td>VMC</td>\n",
       "      <td>Approach</td>\n",
       "      <td>1987</td>\n",
       "    </tr>\n",
       "    <tr>\n",
       "      <th>18359</th>\n",
       "      <td>20001213X31904</td>\n",
       "      <td>Incident</td>\n",
       "      <td>NYC87IA227A</td>\n",
       "      <td>1987-08-09</td>\n",
       "      <td>NEW YORK, NY</td>\n",
       "      <td>United States</td>\n",
       "      <td>Incident</td>\n",
       "      <td>Unknown</td>\n",
       "      <td>Airplane</td>\n",
       "      <td>N93109</td>\n",
       "      <td>...</td>\n",
       "      <td>4.0</td>\n",
       "      <td>Turbo Fan</td>\n",
       "      <td>Unknown</td>\n",
       "      <td>0.0</td>\n",
       "      <td>0.0</td>\n",
       "      <td>0.0</td>\n",
       "      <td>528.0</td>\n",
       "      <td>VMC</td>\n",
       "      <td>Approach</td>\n",
       "      <td>1987</td>\n",
       "    </tr>\n",
       "  </tbody>\n",
       "</table>\n",
       "<p>2 rows × 23 columns</p>\n",
       "</div>"
      ],
      "text/plain": [
       "             Event_Id Investigation_Type Accident_Number Event_Date  \\\n",
       "18358  20001213X31904           Incident     NYC87IA227B 1987-08-09   \n",
       "18359  20001213X31904           Incident     NYC87IA227A 1987-08-09   \n",
       "\n",
       "           Location        Country Injury_Severity Aircraft_damage  \\\n",
       "18358  NEW YORK, NY  United States        Incident         Unknown   \n",
       "18359  NEW YORK, NY  United States        Incident         Unknown   \n",
       "\n",
       "      Aircraft_Category Registration_Number  ... Number_of_Engines  \\\n",
       "18358          Airplane              N558PE  ...               3.0   \n",
       "18359          Airplane              N93109  ...               4.0   \n",
       "\n",
       "      Engine_Type Purpose_of_flight  Total_Fatal_Injuries  \\\n",
       "18358   Turbo Fan           Unknown                   0.0   \n",
       "18359   Turbo Fan           Unknown                   0.0   \n",
       "\n",
       "      Total_Serious_Injuries Total_Minor_Injuries  Total_Uninjured  \\\n",
       "18358                    0.0                  0.0            528.0   \n",
       "18359                    0.0                  0.0            528.0   \n",
       "\n",
       "       Weather_Condition  Broad_phase_of_flight  Event_Year  \n",
       "18358                VMC               Approach        1987  \n",
       "18359                VMC               Approach        1987  \n",
       "\n",
       "[2 rows x 23 columns]"
      ]
     },
     "execution_count": 121,
     "metadata": {},
     "output_type": "execute_result"
    }
   ],
   "source": [
    "check4_row= aviation_df2[aviation_df2['Total_Uninjured'] == 528.0]\n",
    "check4_row"
   ]
  },
  {
   "cell_type": "markdown",
   "metadata": {},
   "source": [
    "##### Observation\n",
    "\n",
    "Using domain knowledge, we note that there were no planes that had a passenger capacity of 528 in 1987 hence this information may be incorrect because the Airbus 380 was launched in 2007. We also note that the airplane registration numbers are not found in the NTSB website. Given it is an outlier that would skew our analysis, we therefore drop these rows."
   ]
  },
  {
   "cell_type": "code",
   "execution_count": 122,
   "metadata": {
    "scrolled": true
   },
   "outputs": [
    {
     "data": {
      "text/html": [
       "<div>\n",
       "<style scoped>\n",
       "    .dataframe tbody tr th:only-of-type {\n",
       "        vertical-align: middle;\n",
       "    }\n",
       "\n",
       "    .dataframe tbody tr th {\n",
       "        vertical-align: top;\n",
       "    }\n",
       "\n",
       "    .dataframe thead th {\n",
       "        text-align: right;\n",
       "    }\n",
       "</style>\n",
       "<table border=\"1\" class=\"dataframe\">\n",
       "  <thead>\n",
       "    <tr style=\"text-align: right;\">\n",
       "      <th></th>\n",
       "      <th>count</th>\n",
       "      <th>mean</th>\n",
       "      <th>std</th>\n",
       "      <th>min</th>\n",
       "      <th>25%</th>\n",
       "      <th>50%</th>\n",
       "      <th>75%</th>\n",
       "      <th>max</th>\n",
       "    </tr>\n",
       "  </thead>\n",
       "  <tbody>\n",
       "    <tr>\n",
       "      <th>Number_of_Engines</th>\n",
       "      <td>88825.0</td>\n",
       "      <td>1.136583</td>\n",
       "      <td>0.432525</td>\n",
       "      <td>0.0</td>\n",
       "      <td>1.0</td>\n",
       "      <td>1.0</td>\n",
       "      <td>1.0</td>\n",
       "      <td>8.0</td>\n",
       "    </tr>\n",
       "    <tr>\n",
       "      <th>Total_Fatal_Injuries</th>\n",
       "      <td>88825.0</td>\n",
       "      <td>0.564514</td>\n",
       "      <td>5.127906</td>\n",
       "      <td>0.0</td>\n",
       "      <td>0.0</td>\n",
       "      <td>0.0</td>\n",
       "      <td>0.0</td>\n",
       "      <td>349.0</td>\n",
       "    </tr>\n",
       "    <tr>\n",
       "      <th>Total_Serious_Injuries</th>\n",
       "      <td>88825.0</td>\n",
       "      <td>0.240383</td>\n",
       "      <td>1.434626</td>\n",
       "      <td>0.0</td>\n",
       "      <td>0.0</td>\n",
       "      <td>0.0</td>\n",
       "      <td>0.0</td>\n",
       "      <td>161.0</td>\n",
       "    </tr>\n",
       "    <tr>\n",
       "      <th>Total_Minor_Injuries</th>\n",
       "      <td>88825.0</td>\n",
       "      <td>0.309215</td>\n",
       "      <td>2.084323</td>\n",
       "      <td>0.0</td>\n",
       "      <td>0.0</td>\n",
       "      <td>0.0</td>\n",
       "      <td>0.0</td>\n",
       "      <td>380.0</td>\n",
       "    </tr>\n",
       "    <tr>\n",
       "      <th>Total_Uninjured</th>\n",
       "      <td>88825.0</td>\n",
       "      <td>4.992435</td>\n",
       "      <td>26.431765</td>\n",
       "      <td>0.0</td>\n",
       "      <td>0.0</td>\n",
       "      <td>1.0</td>\n",
       "      <td>2.0</td>\n",
       "      <td>521.0</td>\n",
       "    </tr>\n",
       "    <tr>\n",
       "      <th>Event_Year</th>\n",
       "      <td>88825.0</td>\n",
       "      <td>1999.202105</td>\n",
       "      <td>11.888658</td>\n",
       "      <td>1948.0</td>\n",
       "      <td>1989.0</td>\n",
       "      <td>1998.0</td>\n",
       "      <td>2009.0</td>\n",
       "      <td>2022.0</td>\n",
       "    </tr>\n",
       "  </tbody>\n",
       "</table>\n",
       "</div>"
      ],
      "text/plain": [
       "                          count         mean        std     min     25%  \\\n",
       "Number_of_Engines       88825.0     1.136583   0.432525     0.0     1.0   \n",
       "Total_Fatal_Injuries    88825.0     0.564514   5.127906     0.0     0.0   \n",
       "Total_Serious_Injuries  88825.0     0.240383   1.434626     0.0     0.0   \n",
       "Total_Minor_Injuries    88825.0     0.309215   2.084323     0.0     0.0   \n",
       "Total_Uninjured         88825.0     4.992435  26.431765     0.0     0.0   \n",
       "Event_Year              88825.0  1999.202105  11.888658  1948.0  1989.0   \n",
       "\n",
       "                           50%     75%     max  \n",
       "Number_of_Engines          1.0     1.0     8.0  \n",
       "Total_Fatal_Injuries       0.0     0.0   349.0  \n",
       "Total_Serious_Injuries     0.0     0.0   161.0  \n",
       "Total_Minor_Injuries       0.0     0.0   380.0  \n",
       "Total_Uninjured            1.0     2.0   521.0  \n",
       "Event_Year              1998.0  2009.0  2022.0  "
      ]
     },
     "execution_count": 122,
     "metadata": {},
     "output_type": "execute_result"
    }
   ],
   "source": [
    "aviation_df2.drop(index=[18358,18359],inplace=True)\n",
    "\n",
    "#checking the statistical summary of the dataframe\n",
    "aviation_df2.describe().T"
   ]
  },
  {
   "cell_type": "code",
   "execution_count": 123,
   "metadata": {
    "scrolled": false
   },
   "outputs": [
    {
     "data": {
      "text/html": [
       "<div>\n",
       "<style scoped>\n",
       "    .dataframe tbody tr th:only-of-type {\n",
       "        vertical-align: middle;\n",
       "    }\n",
       "\n",
       "    .dataframe tbody tr th {\n",
       "        vertical-align: top;\n",
       "    }\n",
       "\n",
       "    .dataframe thead th {\n",
       "        text-align: right;\n",
       "    }\n",
       "</style>\n",
       "<table border=\"1\" class=\"dataframe\">\n",
       "  <thead>\n",
       "    <tr style=\"text-align: right;\">\n",
       "      <th></th>\n",
       "      <th>Event_Id</th>\n",
       "      <th>Investigation_Type</th>\n",
       "      <th>Accident_Number</th>\n",
       "      <th>Event_Date</th>\n",
       "      <th>Location</th>\n",
       "      <th>Country</th>\n",
       "      <th>Injury_Severity</th>\n",
       "      <th>Aircraft_damage</th>\n",
       "      <th>Aircraft_Category</th>\n",
       "      <th>Registration_Number</th>\n",
       "      <th>...</th>\n",
       "      <th>Number_of_Engines</th>\n",
       "      <th>Engine_Type</th>\n",
       "      <th>Purpose_of_flight</th>\n",
       "      <th>Total_Fatal_Injuries</th>\n",
       "      <th>Total_Serious_Injuries</th>\n",
       "      <th>Total_Minor_Injuries</th>\n",
       "      <th>Total_Uninjured</th>\n",
       "      <th>Weather_Condition</th>\n",
       "      <th>Broad_phase_of_flight</th>\n",
       "      <th>Event_Year</th>\n",
       "    </tr>\n",
       "  </thead>\n",
       "  <tbody>\n",
       "    <tr>\n",
       "      <th>80650</th>\n",
       "      <td>20170930X94216</td>\n",
       "      <td>Accident</td>\n",
       "      <td>ENG17RA039</td>\n",
       "      <td>2017-09-30</td>\n",
       "      <td>GOOSE BAY, CANADA</td>\n",
       "      <td>Canada</td>\n",
       "      <td>Fatal</td>\n",
       "      <td>Minor</td>\n",
       "      <td>Airplane</td>\n",
       "      <td>F-HPJE</td>\n",
       "      <td>...</td>\n",
       "      <td>1.0</td>\n",
       "      <td>Turbo Fan</td>\n",
       "      <td>NaN</td>\n",
       "      <td>0.0</td>\n",
       "      <td>0.0</td>\n",
       "      <td>0.0</td>\n",
       "      <td>521.0</td>\n",
       "      <td>Unknown</td>\n",
       "      <td>NaN</td>\n",
       "      <td>2017</td>\n",
       "    </tr>\n",
       "  </tbody>\n",
       "</table>\n",
       "<p>1 rows × 23 columns</p>\n",
       "</div>"
      ],
      "text/plain": [
       "             Event_Id Investigation_Type Accident_Number Event_Date  \\\n",
       "80650  20170930X94216           Accident      ENG17RA039 2017-09-30   \n",
       "\n",
       "                Location Country Injury_Severity Aircraft_damage  \\\n",
       "80650  GOOSE BAY, CANADA  Canada           Fatal           Minor   \n",
       "\n",
       "      Aircraft_Category Registration_Number  ... Number_of_Engines  \\\n",
       "80650          Airplane              F-HPJE  ...               1.0   \n",
       "\n",
       "      Engine_Type Purpose_of_flight  Total_Fatal_Injuries  \\\n",
       "80650   Turbo Fan               NaN                   0.0   \n",
       "\n",
       "      Total_Serious_Injuries Total_Minor_Injuries  Total_Uninjured  \\\n",
       "80650                    0.0                  0.0            521.0   \n",
       "\n",
       "       Weather_Condition  Broad_phase_of_flight  Event_Year  \n",
       "80650            Unknown                    NaN        2017  \n",
       "\n",
       "[1 rows x 23 columns]"
      ]
     },
     "execution_count": 123,
     "metadata": {},
     "output_type": "execute_result"
    }
   ],
   "source": [
    "check5_row= aviation_df2[aviation_df2['Total_Uninjured'] == 521.0]\n",
    "check5_row"
   ]
  },
  {
   "cell_type": "markdown",
   "metadata": {},
   "source": [
    "##### Observation\n",
    "\n",
    "The aircraft information from this website https://avherald.com/h?article=4af15205 corresponds with the information in our dataframe hence we can confirm that we have removed outliers in the total_uninjured column."
   ]
  },
  {
   "cell_type": "code",
   "execution_count": 124,
   "metadata": {
    "scrolled": true
   },
   "outputs": [
    {
     "data": {
      "text/html": [
       "<div>\n",
       "<style scoped>\n",
       "    .dataframe tbody tr th:only-of-type {\n",
       "        vertical-align: middle;\n",
       "    }\n",
       "\n",
       "    .dataframe tbody tr th {\n",
       "        vertical-align: top;\n",
       "    }\n",
       "\n",
       "    .dataframe thead th {\n",
       "        text-align: right;\n",
       "    }\n",
       "</style>\n",
       "<table border=\"1\" class=\"dataframe\">\n",
       "  <thead>\n",
       "    <tr style=\"text-align: right;\">\n",
       "      <th></th>\n",
       "      <th>Event_Id</th>\n",
       "      <th>Investigation_Type</th>\n",
       "      <th>Accident_Number</th>\n",
       "      <th>Event_Date</th>\n",
       "      <th>Location</th>\n",
       "      <th>Country</th>\n",
       "      <th>Injury_Severity</th>\n",
       "      <th>Aircraft_damage</th>\n",
       "      <th>Aircraft_Category</th>\n",
       "      <th>Registration_Number</th>\n",
       "      <th>...</th>\n",
       "      <th>Number_of_Engines</th>\n",
       "      <th>Engine_Type</th>\n",
       "      <th>Purpose_of_flight</th>\n",
       "      <th>Total_Fatal_Injuries</th>\n",
       "      <th>Total_Serious_Injuries</th>\n",
       "      <th>Total_Minor_Injuries</th>\n",
       "      <th>Total_Uninjured</th>\n",
       "      <th>Weather_Condition</th>\n",
       "      <th>Broad_phase_of_flight</th>\n",
       "      <th>Event_Year</th>\n",
       "    </tr>\n",
       "  </thead>\n",
       "  <tbody>\n",
       "    <tr>\n",
       "      <th>40874</th>\n",
       "      <td>20020124X00116</td>\n",
       "      <td>Accident</td>\n",
       "      <td>DCA97WA007B</td>\n",
       "      <td>1996-11-12</td>\n",
       "      <td>NEW DELHI, INDIA</td>\n",
       "      <td>India</td>\n",
       "      <td>Fatal</td>\n",
       "      <td>Unknown</td>\n",
       "      <td>Unknown</td>\n",
       "      <td>NaN</td>\n",
       "      <td>...</td>\n",
       "      <td>1.0</td>\n",
       "      <td>Unknown</td>\n",
       "      <td>NaN</td>\n",
       "      <td>349.0</td>\n",
       "      <td>0.0</td>\n",
       "      <td>0.0</td>\n",
       "      <td>1.0</td>\n",
       "      <td>Unknown</td>\n",
       "      <td>NaN</td>\n",
       "      <td>1996</td>\n",
       "    </tr>\n",
       "    <tr>\n",
       "      <th>40875</th>\n",
       "      <td>20020124X00116</td>\n",
       "      <td>Accident</td>\n",
       "      <td>DCA97WA007A</td>\n",
       "      <td>1996-11-12</td>\n",
       "      <td>NEW DELHI, INDIA</td>\n",
       "      <td>India</td>\n",
       "      <td>Fatal</td>\n",
       "      <td>Unknown</td>\n",
       "      <td>Airplane</td>\n",
       "      <td>NaN</td>\n",
       "      <td>...</td>\n",
       "      <td>1.0</td>\n",
       "      <td>Turbo Fan</td>\n",
       "      <td>NaN</td>\n",
       "      <td>349.0</td>\n",
       "      <td>0.0</td>\n",
       "      <td>0.0</td>\n",
       "      <td>1.0</td>\n",
       "      <td>Unknown</td>\n",
       "      <td>NaN</td>\n",
       "      <td>1996</td>\n",
       "    </tr>\n",
       "  </tbody>\n",
       "</table>\n",
       "<p>2 rows × 23 columns</p>\n",
       "</div>"
      ],
      "text/plain": [
       "             Event_Id Investigation_Type Accident_Number Event_Date  \\\n",
       "40874  20020124X00116           Accident     DCA97WA007B 1996-11-12   \n",
       "40875  20020124X00116           Accident     DCA97WA007A 1996-11-12   \n",
       "\n",
       "               Location Country Injury_Severity Aircraft_damage  \\\n",
       "40874  NEW DELHI, INDIA   India           Fatal         Unknown   \n",
       "40875  NEW DELHI, INDIA   India           Fatal         Unknown   \n",
       "\n",
       "      Aircraft_Category Registration_Number  ... Number_of_Engines  \\\n",
       "40874           Unknown                 NaN  ...               1.0   \n",
       "40875          Airplane                 NaN  ...               1.0   \n",
       "\n",
       "      Engine_Type Purpose_of_flight  Total_Fatal_Injuries  \\\n",
       "40874     Unknown               NaN                 349.0   \n",
       "40875   Turbo Fan               NaN                 349.0   \n",
       "\n",
       "      Total_Serious_Injuries Total_Minor_Injuries  Total_Uninjured  \\\n",
       "40874                    0.0                  0.0              1.0   \n",
       "40875                    0.0                  0.0              1.0   \n",
       "\n",
       "       Weather_Condition  Broad_phase_of_flight  Event_Year  \n",
       "40874            Unknown                    NaN        1996  \n",
       "40875            Unknown                    NaN        1996  \n",
       "\n",
       "[2 rows x 23 columns]"
      ]
     },
     "execution_count": 124,
     "metadata": {},
     "output_type": "execute_result"
    }
   ],
   "source": [
    "check5_row= aviation_df2[aviation_df2['Total_Fatal_Injuries'] == 349.0]\n",
    "check5_row"
   ]
  },
  {
   "cell_type": "code",
   "execution_count": 125,
   "metadata": {
    "scrolled": true
   },
   "outputs": [
    {
     "data": {
      "text/html": [
       "<div>\n",
       "<style scoped>\n",
       "    .dataframe tbody tr th:only-of-type {\n",
       "        vertical-align: middle;\n",
       "    }\n",
       "\n",
       "    .dataframe tbody tr th {\n",
       "        vertical-align: top;\n",
       "    }\n",
       "\n",
       "    .dataframe thead th {\n",
       "        text-align: right;\n",
       "    }\n",
       "</style>\n",
       "<table border=\"1\" class=\"dataframe\">\n",
       "  <thead>\n",
       "    <tr style=\"text-align: right;\">\n",
       "      <th></th>\n",
       "      <th>count</th>\n",
       "      <th>mean</th>\n",
       "      <th>std</th>\n",
       "      <th>min</th>\n",
       "      <th>25%</th>\n",
       "      <th>50%</th>\n",
       "      <th>75%</th>\n",
       "      <th>max</th>\n",
       "    </tr>\n",
       "  </thead>\n",
       "  <tbody>\n",
       "    <tr>\n",
       "      <th>Number_of_Engines</th>\n",
       "      <td>88825.0</td>\n",
       "      <td>1.136651</td>\n",
       "      <td>0.432737</td>\n",
       "      <td>0.0</td>\n",
       "      <td>1.0</td>\n",
       "      <td>1.0</td>\n",
       "      <td>1.0</td>\n",
       "      <td>8.0</td>\n",
       "    </tr>\n",
       "    <tr>\n",
       "      <th>Total_Fatal_Injuries</th>\n",
       "      <td>88825.0</td>\n",
       "      <td>0.560585</td>\n",
       "      <td>4.966755</td>\n",
       "      <td>0.0</td>\n",
       "      <td>0.0</td>\n",
       "      <td>0.0</td>\n",
       "      <td>0.0</td>\n",
       "      <td>312.0</td>\n",
       "    </tr>\n",
       "    <tr>\n",
       "      <th>Total_Serious_Injuries</th>\n",
       "      <td>88825.0</td>\n",
       "      <td>0.240383</td>\n",
       "      <td>1.434626</td>\n",
       "      <td>0.0</td>\n",
       "      <td>0.0</td>\n",
       "      <td>0.0</td>\n",
       "      <td>0.0</td>\n",
       "      <td>161.0</td>\n",
       "    </tr>\n",
       "    <tr>\n",
       "      <th>Total_Minor_Injuries</th>\n",
       "      <td>88825.0</td>\n",
       "      <td>0.309215</td>\n",
       "      <td>2.084323</td>\n",
       "      <td>0.0</td>\n",
       "      <td>0.0</td>\n",
       "      <td>0.0</td>\n",
       "      <td>0.0</td>\n",
       "      <td>380.0</td>\n",
       "    </tr>\n",
       "    <tr>\n",
       "      <th>Total_Uninjured</th>\n",
       "      <td>88825.0</td>\n",
       "      <td>4.992435</td>\n",
       "      <td>26.431765</td>\n",
       "      <td>0.0</td>\n",
       "      <td>0.0</td>\n",
       "      <td>1.0</td>\n",
       "      <td>2.0</td>\n",
       "      <td>521.0</td>\n",
       "    </tr>\n",
       "    <tr>\n",
       "      <th>Event_Year</th>\n",
       "      <td>88825.0</td>\n",
       "      <td>1999.202105</td>\n",
       "      <td>11.888658</td>\n",
       "      <td>1948.0</td>\n",
       "      <td>1989.0</td>\n",
       "      <td>1998.0</td>\n",
       "      <td>2009.0</td>\n",
       "      <td>2022.0</td>\n",
       "    </tr>\n",
       "  </tbody>\n",
       "</table>\n",
       "</div>"
      ],
      "text/plain": [
       "                          count         mean        std     min     25%  \\\n",
       "Number_of_Engines       88825.0     1.136651   0.432737     0.0     1.0   \n",
       "Total_Fatal_Injuries    88825.0     0.560585   4.966755     0.0     0.0   \n",
       "Total_Serious_Injuries  88825.0     0.240383   1.434626     0.0     0.0   \n",
       "Total_Minor_Injuries    88825.0     0.309215   2.084323     0.0     0.0   \n",
       "Total_Uninjured         88825.0     4.992435  26.431765     0.0     0.0   \n",
       "Event_Year              88825.0  1999.202105  11.888658  1948.0  1989.0   \n",
       "\n",
       "                           50%     75%     max  \n",
       "Number_of_Engines          1.0     1.0     8.0  \n",
       "Total_Fatal_Injuries       0.0     0.0   312.0  \n",
       "Total_Serious_Injuries     0.0     0.0   161.0  \n",
       "Total_Minor_Injuries       0.0     0.0   380.0  \n",
       "Total_Uninjured            1.0     2.0   521.0  \n",
       "Event_Year              1998.0  2009.0  2022.0  "
      ]
     },
     "execution_count": 125,
     "metadata": {},
     "output_type": "execute_result"
    }
   ],
   "source": [
    "#correcting the values\n",
    "aviation_df2.loc[40874,'Total_Fatal_Injuries'] = 37\n",
    "aviation_df2.loc[40874,'Registration_Number'] = 'UN-76435'\n",
    "aviation_df2.loc[40874,'Weather_Condition']='IMC'\n",
    "aviation_df2.loc[40874,'Broad_phase_of_flight'] = 'Cruise'\n",
    "aviation_df2.loc[40874,'Aircraft_Category'] = 'Airplane'\n",
    "aviation_df2.loc[40874,'Aircraft_damage'] = 'Destroyed'\n",
    "aviation_df2.loc[40874,'Number_of_Engines'] = 4\n",
    "aviation_df2.loc[40874,'Engine_Type'] = 'Turbo Fan'\n",
    "aviation_df2.loc[40875,'Make'] = 'ILYUSHIN'\n",
    "aviation_df2.loc[40875,'Model'] = 'II-76'\n",
    "\n",
    "\n",
    "aviation_df2.loc[40875,'Total_Fatal_Injuries']= 312\n",
    "aviation_df2.loc[40875,'Registration_Number'] = 'HZ-AIH'\n",
    "aviation_df2.loc[40875,'Broad_phase_of_flight'] = 'Cruise'\n",
    "aviation_df2.loc[40875,'Weather_Condition']='IMC'\n",
    "aviation_df2.loc[40875,'Aircraft_damage'] = 'Destroyed'\n",
    "aviation_df2.loc[40875,'Number_of_Engines'] = 4\n",
    "aviation_df2.loc[40875,'Make'] = 'BOEING'\n",
    "aviation_df2.loc[40875,'Model'] = '747-100'\n",
    "\n",
    "#checking the statistical summary of the dataframe\n",
    "aviation_df2.describe().T"
   ]
  },
  {
   "cell_type": "markdown",
   "metadata": {},
   "source": [
    "#### Observation\n",
    "The information provided is accurate hence this is a valid outlier for the Total Fatal Injuries."
   ]
  },
  {
   "cell_type": "code",
   "execution_count": 126,
   "metadata": {
    "scrolled": true
   },
   "outputs": [
    {
     "data": {
      "text/html": [
       "<div>\n",
       "<style scoped>\n",
       "    .dataframe tbody tr th:only-of-type {\n",
       "        vertical-align: middle;\n",
       "    }\n",
       "\n",
       "    .dataframe tbody tr th {\n",
       "        vertical-align: top;\n",
       "    }\n",
       "\n",
       "    .dataframe thead th {\n",
       "        text-align: right;\n",
       "    }\n",
       "</style>\n",
       "<table border=\"1\" class=\"dataframe\">\n",
       "  <thead>\n",
       "    <tr style=\"text-align: right;\">\n",
       "      <th></th>\n",
       "      <th>Event_Id</th>\n",
       "      <th>Investigation_Type</th>\n",
       "      <th>Accident_Number</th>\n",
       "      <th>Event_Date</th>\n",
       "      <th>Location</th>\n",
       "      <th>Country</th>\n",
       "      <th>Injury_Severity</th>\n",
       "      <th>Aircraft_damage</th>\n",
       "      <th>Aircraft_Category</th>\n",
       "      <th>Registration_Number</th>\n",
       "      <th>...</th>\n",
       "      <th>Number_of_Engines</th>\n",
       "      <th>Engine_Type</th>\n",
       "      <th>Purpose_of_flight</th>\n",
       "      <th>Total_Fatal_Injuries</th>\n",
       "      <th>Total_Serious_Injuries</th>\n",
       "      <th>Total_Minor_Injuries</th>\n",
       "      <th>Total_Uninjured</th>\n",
       "      <th>Weather_Condition</th>\n",
       "      <th>Broad_phase_of_flight</th>\n",
       "      <th>Event_Year</th>\n",
       "    </tr>\n",
       "  </thead>\n",
       "  <tbody>\n",
       "    <tr>\n",
       "      <th>48920</th>\n",
       "      <td>20001212X21426</td>\n",
       "      <td>Incident</td>\n",
       "      <td>DCA00WA074</td>\n",
       "      <td>2000-07-23</td>\n",
       "      <td>MONTREAL, CANADA</td>\n",
       "      <td>Canada</td>\n",
       "      <td>Incident</td>\n",
       "      <td>Minor</td>\n",
       "      <td>Airplane</td>\n",
       "      <td>NaN</td>\n",
       "      <td>...</td>\n",
       "      <td>1.0</td>\n",
       "      <td>Unknown</td>\n",
       "      <td>Unknown</td>\n",
       "      <td>0.0</td>\n",
       "      <td>0.0</td>\n",
       "      <td>380.0</td>\n",
       "      <td>1.0</td>\n",
       "      <td>IMC</td>\n",
       "      <td>NaN</td>\n",
       "      <td>2000</td>\n",
       "    </tr>\n",
       "  </tbody>\n",
       "</table>\n",
       "<p>1 rows × 23 columns</p>\n",
       "</div>"
      ],
      "text/plain": [
       "             Event_Id Investigation_Type Accident_Number Event_Date  \\\n",
       "48920  20001212X21426           Incident      DCA00WA074 2000-07-23   \n",
       "\n",
       "               Location Country Injury_Severity Aircraft_damage  \\\n",
       "48920  MONTREAL, CANADA  Canada        Incident           Minor   \n",
       "\n",
       "      Aircraft_Category Registration_Number  ... Number_of_Engines  \\\n",
       "48920          Airplane                 NaN  ...               1.0   \n",
       "\n",
       "      Engine_Type Purpose_of_flight  Total_Fatal_Injuries  \\\n",
       "48920     Unknown           Unknown                   0.0   \n",
       "\n",
       "      Total_Serious_Injuries Total_Minor_Injuries  Total_Uninjured  \\\n",
       "48920                    0.0                380.0              1.0   \n",
       "\n",
       "       Weather_Condition  Broad_phase_of_flight  Event_Year  \n",
       "48920                IMC                    NaN        2000  \n",
       "\n",
       "[1 rows x 23 columns]"
      ]
     },
     "execution_count": 126,
     "metadata": {},
     "output_type": "execute_result"
    }
   ],
   "source": [
    "check6_row= aviation_df2[aviation_df2['Total_Minor_Injuries'] == 380.0]\n",
    "check6_row"
   ]
  },
  {
   "cell_type": "code",
   "execution_count": 127,
   "metadata": {
    "scrolled": false
   },
   "outputs": [
    {
     "data": {
      "text/html": [
       "<div>\n",
       "<style scoped>\n",
       "    .dataframe tbody tr th:only-of-type {\n",
       "        vertical-align: middle;\n",
       "    }\n",
       "\n",
       "    .dataframe tbody tr th {\n",
       "        vertical-align: top;\n",
       "    }\n",
       "\n",
       "    .dataframe thead th {\n",
       "        text-align: right;\n",
       "    }\n",
       "</style>\n",
       "<table border=\"1\" class=\"dataframe\">\n",
       "  <thead>\n",
       "    <tr style=\"text-align: right;\">\n",
       "      <th></th>\n",
       "      <th>count</th>\n",
       "      <th>mean</th>\n",
       "      <th>std</th>\n",
       "      <th>min</th>\n",
       "      <th>25%</th>\n",
       "      <th>50%</th>\n",
       "      <th>75%</th>\n",
       "      <th>max</th>\n",
       "    </tr>\n",
       "  </thead>\n",
       "  <tbody>\n",
       "    <tr>\n",
       "      <th>Number_of_Engines</th>\n",
       "      <td>88825.0</td>\n",
       "      <td>1.136684</td>\n",
       "      <td>0.432844</td>\n",
       "      <td>0.0</td>\n",
       "      <td>1.0</td>\n",
       "      <td>1.0</td>\n",
       "      <td>1.0</td>\n",
       "      <td>8.0</td>\n",
       "    </tr>\n",
       "    <tr>\n",
       "      <th>Total_Fatal_Injuries</th>\n",
       "      <td>88825.0</td>\n",
       "      <td>0.560585</td>\n",
       "      <td>4.966755</td>\n",
       "      <td>0.0</td>\n",
       "      <td>0.0</td>\n",
       "      <td>0.0</td>\n",
       "      <td>0.0</td>\n",
       "      <td>312.0</td>\n",
       "    </tr>\n",
       "    <tr>\n",
       "      <th>Total_Serious_Injuries</th>\n",
       "      <td>88825.0</td>\n",
       "      <td>0.240383</td>\n",
       "      <td>1.434626</td>\n",
       "      <td>0.0</td>\n",
       "      <td>0.0</td>\n",
       "      <td>0.0</td>\n",
       "      <td>0.0</td>\n",
       "      <td>161.0</td>\n",
       "    </tr>\n",
       "    <tr>\n",
       "      <th>Total_Minor_Injuries</th>\n",
       "      <td>88825.0</td>\n",
       "      <td>0.304937</td>\n",
       "      <td>1.649649</td>\n",
       "      <td>0.0</td>\n",
       "      <td>0.0</td>\n",
       "      <td>0.0</td>\n",
       "      <td>0.0</td>\n",
       "      <td>200.0</td>\n",
       "    </tr>\n",
       "    <tr>\n",
       "      <th>Total_Uninjured</th>\n",
       "      <td>88825.0</td>\n",
       "      <td>4.996701</td>\n",
       "      <td>26.461694</td>\n",
       "      <td>0.0</td>\n",
       "      <td>0.0</td>\n",
       "      <td>1.0</td>\n",
       "      <td>2.0</td>\n",
       "      <td>521.0</td>\n",
       "    </tr>\n",
       "    <tr>\n",
       "      <th>Event_Year</th>\n",
       "      <td>88825.0</td>\n",
       "      <td>1999.202105</td>\n",
       "      <td>11.888658</td>\n",
       "      <td>1948.0</td>\n",
       "      <td>1989.0</td>\n",
       "      <td>1998.0</td>\n",
       "      <td>2009.0</td>\n",
       "      <td>2022.0</td>\n",
       "    </tr>\n",
       "  </tbody>\n",
       "</table>\n",
       "</div>"
      ],
      "text/plain": [
       "                          count         mean        std     min     25%  \\\n",
       "Number_of_Engines       88825.0     1.136684   0.432844     0.0     1.0   \n",
       "Total_Fatal_Injuries    88825.0     0.560585   4.966755     0.0     0.0   \n",
       "Total_Serious_Injuries  88825.0     0.240383   1.434626     0.0     0.0   \n",
       "Total_Minor_Injuries    88825.0     0.304937   1.649649     0.0     0.0   \n",
       "Total_Uninjured         88825.0     4.996701  26.461694     0.0     0.0   \n",
       "Event_Year              88825.0  1999.202105  11.888658  1948.0  1989.0   \n",
       "\n",
       "                           50%     75%     max  \n",
       "Number_of_Engines          1.0     1.0     8.0  \n",
       "Total_Fatal_Injuries       0.0     0.0   312.0  \n",
       "Total_Serious_Injuries     0.0     0.0   161.0  \n",
       "Total_Minor_Injuries       0.0     0.0   200.0  \n",
       "Total_Uninjured            1.0     2.0   521.0  \n",
       "Event_Year              1998.0  2009.0  2022.0  "
      ]
     },
     "execution_count": 127,
     "metadata": {},
     "output_type": "execute_result"
    }
   ],
   "source": [
    "aviation_df2.loc[48920,'Total_Minor_Injuries'] = 0\n",
    "aviation_df2.loc[48920,'Total_Uninjured'] = 380\n",
    "aviation_df2.loc[48920,'Broad_phase_of_flight'] = 'Landing'\n",
    "aviation_df2.loc[48920,'Registration_Number'] = 'CN-RME'\n",
    "aviation_df2.loc[48920,'Number_of_Engines'] = 4\n",
    "aviation_df2.loc[48920,'Engine_Type'] = 'Turbo Fan'\n",
    "aviation_df2.loc[48920,'Make'] = 'BOEING'\n",
    "aviation_df2.loc[48920,'Model'] = '747-200'\n",
    "\n",
    "#checking the statistical summary of the dataframe\n",
    "aviation_df2.describe().T"
   ]
  },
  {
   "cell_type": "code",
   "execution_count": 128,
   "metadata": {},
   "outputs": [],
   "source": [
    "aviation_df2.loc[(aviation_df2['Make'] == 'BOEING') & (aviation_df2['Model'].str.startswith('747')),'Number_of_Engines'] = 4\n",
    "aviation_df2.loc[(aviation_df2['Make'] == 'AIRBUS') & (aviation_df2['Model'].str.startswith('A380,A340')),'Number_of_Engines'] = 4"
   ]
  },
  {
   "cell_type": "code",
   "execution_count": 129,
   "metadata": {},
   "outputs": [
    {
     "data": {
      "text/html": [
       "<div>\n",
       "<style scoped>\n",
       "    .dataframe tbody tr th:only-of-type {\n",
       "        vertical-align: middle;\n",
       "    }\n",
       "\n",
       "    .dataframe tbody tr th {\n",
       "        vertical-align: top;\n",
       "    }\n",
       "\n",
       "    .dataframe thead th {\n",
       "        text-align: right;\n",
       "    }\n",
       "</style>\n",
       "<table border=\"1\" class=\"dataframe\">\n",
       "  <thead>\n",
       "    <tr style=\"text-align: right;\">\n",
       "      <th></th>\n",
       "      <th>Event_Id</th>\n",
       "      <th>Investigation_Type</th>\n",
       "      <th>Accident_Number</th>\n",
       "      <th>Event_Date</th>\n",
       "      <th>Location</th>\n",
       "      <th>Country</th>\n",
       "      <th>Injury_Severity</th>\n",
       "      <th>Aircraft_damage</th>\n",
       "      <th>Aircraft_Category</th>\n",
       "      <th>Registration_Number</th>\n",
       "      <th>...</th>\n",
       "      <th>Number_of_Engines</th>\n",
       "      <th>Engine_Type</th>\n",
       "      <th>Purpose_of_flight</th>\n",
       "      <th>Total_Fatal_Injuries</th>\n",
       "      <th>Total_Serious_Injuries</th>\n",
       "      <th>Total_Minor_Injuries</th>\n",
       "      <th>Total_Uninjured</th>\n",
       "      <th>Weather_Condition</th>\n",
       "      <th>Broad_phase_of_flight</th>\n",
       "      <th>Event_Year</th>\n",
       "    </tr>\n",
       "  </thead>\n",
       "  <tbody>\n",
       "    <tr>\n",
       "      <th>46937</th>\n",
       "      <td>20001212X19469</td>\n",
       "      <td>Accident</td>\n",
       "      <td>DCA99RA073</td>\n",
       "      <td>1999-08-23</td>\n",
       "      <td>HONG KONG, CHINA</td>\n",
       "      <td>China</td>\n",
       "      <td>Fatal</td>\n",
       "      <td>Destroyed</td>\n",
       "      <td>Airplane</td>\n",
       "      <td>NaN</td>\n",
       "      <td>...</td>\n",
       "      <td>1.0</td>\n",
       "      <td>Unknown</td>\n",
       "      <td>Unknown</td>\n",
       "      <td>0.0</td>\n",
       "      <td>0.0</td>\n",
       "      <td>200.0</td>\n",
       "      <td>117.0</td>\n",
       "      <td>Unknown</td>\n",
       "      <td>NaN</td>\n",
       "      <td>1999</td>\n",
       "    </tr>\n",
       "  </tbody>\n",
       "</table>\n",
       "<p>1 rows × 23 columns</p>\n",
       "</div>"
      ],
      "text/plain": [
       "             Event_Id Investigation_Type Accident_Number Event_Date  \\\n",
       "46937  20001212X19469           Accident      DCA99RA073 1999-08-23   \n",
       "\n",
       "               Location Country Injury_Severity Aircraft_damage  \\\n",
       "46937  HONG KONG, CHINA   China           Fatal       Destroyed   \n",
       "\n",
       "      Aircraft_Category Registration_Number  ... Number_of_Engines  \\\n",
       "46937          Airplane                 NaN  ...               1.0   \n",
       "\n",
       "      Engine_Type Purpose_of_flight  Total_Fatal_Injuries  \\\n",
       "46937     Unknown           Unknown                   0.0   \n",
       "\n",
       "      Total_Serious_Injuries Total_Minor_Injuries  Total_Uninjured  \\\n",
       "46937                    0.0                200.0            117.0   \n",
       "\n",
       "       Weather_Condition  Broad_phase_of_flight  Event_Year  \n",
       "46937            Unknown                    NaN        1999  \n",
       "\n",
       "[1 rows x 23 columns]"
      ]
     },
     "execution_count": 129,
     "metadata": {},
     "output_type": "execute_result"
    }
   ],
   "source": [
    "check7_row= aviation_df2[aviation_df2['Total_Minor_Injuries'] == 200.0]\n",
    "check7_row"
   ]
  },
  {
   "cell_type": "markdown",
   "metadata": {},
   "source": [
    "##### Observation\n",
    "\n",
    "From domain knowledge, we can update some of these fields.\n"
   ]
  },
  {
   "cell_type": "code",
   "execution_count": 130,
   "metadata": {
    "scrolled": true
   },
   "outputs": [
    {
     "data": {
      "text/html": [
       "<div>\n",
       "<style scoped>\n",
       "    .dataframe tbody tr th:only-of-type {\n",
       "        vertical-align: middle;\n",
       "    }\n",
       "\n",
       "    .dataframe tbody tr th {\n",
       "        vertical-align: top;\n",
       "    }\n",
       "\n",
       "    .dataframe thead th {\n",
       "        text-align: right;\n",
       "    }\n",
       "</style>\n",
       "<table border=\"1\" class=\"dataframe\">\n",
       "  <thead>\n",
       "    <tr style=\"text-align: right;\">\n",
       "      <th></th>\n",
       "      <th>count</th>\n",
       "      <th>mean</th>\n",
       "      <th>std</th>\n",
       "      <th>min</th>\n",
       "      <th>25%</th>\n",
       "      <th>50%</th>\n",
       "      <th>75%</th>\n",
       "      <th>max</th>\n",
       "    </tr>\n",
       "  </thead>\n",
       "  <tbody>\n",
       "    <tr>\n",
       "      <th>Number_of_Engines</th>\n",
       "      <td>88825.0</td>\n",
       "      <td>1.140287</td>\n",
       "      <td>0.443702</td>\n",
       "      <td>0.0</td>\n",
       "      <td>1.0</td>\n",
       "      <td>1.0</td>\n",
       "      <td>1.0</td>\n",
       "      <td>8.0</td>\n",
       "    </tr>\n",
       "    <tr>\n",
       "      <th>Total_Fatal_Injuries</th>\n",
       "      <td>88825.0</td>\n",
       "      <td>0.560619</td>\n",
       "      <td>4.966761</td>\n",
       "      <td>0.0</td>\n",
       "      <td>0.0</td>\n",
       "      <td>0.0</td>\n",
       "      <td>0.0</td>\n",
       "      <td>312.0</td>\n",
       "    </tr>\n",
       "    <tr>\n",
       "      <th>Total_Serious_Injuries</th>\n",
       "      <td>88825.0</td>\n",
       "      <td>0.240946</td>\n",
       "      <td>1.444309</td>\n",
       "      <td>0.0</td>\n",
       "      <td>0.0</td>\n",
       "      <td>0.0</td>\n",
       "      <td>0.0</td>\n",
       "      <td>161.0</td>\n",
       "    </tr>\n",
       "    <tr>\n",
       "      <th>Total_Minor_Injuries</th>\n",
       "      <td>88825.0</td>\n",
       "      <td>0.304408</td>\n",
       "      <td>1.592130</td>\n",
       "      <td>0.0</td>\n",
       "      <td>0.0</td>\n",
       "      <td>0.0</td>\n",
       "      <td>0.0</td>\n",
       "      <td>171.0</td>\n",
       "    </tr>\n",
       "    <tr>\n",
       "      <th>Total_Uninjured</th>\n",
       "      <td>88825.0</td>\n",
       "      <td>4.996611</td>\n",
       "      <td>26.461327</td>\n",
       "      <td>0.0</td>\n",
       "      <td>0.0</td>\n",
       "      <td>1.0</td>\n",
       "      <td>2.0</td>\n",
       "      <td>521.0</td>\n",
       "    </tr>\n",
       "    <tr>\n",
       "      <th>Event_Year</th>\n",
       "      <td>88825.0</td>\n",
       "      <td>1999.202105</td>\n",
       "      <td>11.888658</td>\n",
       "      <td>1948.0</td>\n",
       "      <td>1989.0</td>\n",
       "      <td>1998.0</td>\n",
       "      <td>2009.0</td>\n",
       "      <td>2022.0</td>\n",
       "    </tr>\n",
       "  </tbody>\n",
       "</table>\n",
       "</div>"
      ],
      "text/plain": [
       "                          count         mean        std     min     25%  \\\n",
       "Number_of_Engines       88825.0     1.140287   0.443702     0.0     1.0   \n",
       "Total_Fatal_Injuries    88825.0     0.560619   4.966761     0.0     0.0   \n",
       "Total_Serious_Injuries  88825.0     0.240946   1.444309     0.0     0.0   \n",
       "Total_Minor_Injuries    88825.0     0.304408   1.592130     0.0     0.0   \n",
       "Total_Uninjured         88825.0     4.996611  26.461327     0.0     0.0   \n",
       "Event_Year              88825.0  1999.202105  11.888658  1948.0  1989.0   \n",
       "\n",
       "                           50%     75%     max  \n",
       "Number_of_Engines          1.0     1.0     8.0  \n",
       "Total_Fatal_Injuries       0.0     0.0   312.0  \n",
       "Total_Serious_Injuries     0.0     0.0   161.0  \n",
       "Total_Minor_Injuries       0.0     0.0   171.0  \n",
       "Total_Uninjured            1.0     2.0   521.0  \n",
       "Event_Year              1998.0  2009.0  2022.0  "
      ]
     },
     "execution_count": 130,
     "metadata": {},
     "output_type": "execute_result"
    }
   ],
   "source": [
    "#filling in unknown variables from the NTSB Report\n",
    "aviation_df2.loc[46937,'Total_Fatal_Injuries'] = 3\n",
    "aviation_df2.loc[46937,'Total_Serious_Injuries'] = 50\n",
    "aviation_df2.loc[46937,'Total_Minor_Injuries'] = 153\n",
    "aviation_df2.loc[46937,'Total_Uninjured'] = 109\n",
    "aviation_df2.loc[46937,'Broad_phase_of_flight'] = 'Landing'\n",
    "aviation_df2.loc[46937,'Registration_Number'] = 'B-150'\n",
    "aviation_df2.loc[46937,'Number_of_Engines'] = 3\n",
    "aviation_df2.loc[46937,'Engine_Type'] = 'Turbo Fan'\n",
    "aviation_df2.loc[46937,'Make'] = 'MCDONNELL DOUGLAS'\n",
    "aviation_df2.loc[46937,'Model'] = 'MD-11'\n",
    "\n",
    "#checking the statistical summary of the dataframe\n",
    "aviation_df2.describe().T"
   ]
  },
  {
   "cell_type": "code",
   "execution_count": 131,
   "metadata": {
    "scrolled": true
   },
   "outputs": [
    {
     "data": {
      "text/html": [
       "<div>\n",
       "<style scoped>\n",
       "    .dataframe tbody tr th:only-of-type {\n",
       "        vertical-align: middle;\n",
       "    }\n",
       "\n",
       "    .dataframe tbody tr th {\n",
       "        vertical-align: top;\n",
       "    }\n",
       "\n",
       "    .dataframe thead th {\n",
       "        text-align: right;\n",
       "    }\n",
       "</style>\n",
       "<table border=\"1\" class=\"dataframe\">\n",
       "  <thead>\n",
       "    <tr style=\"text-align: right;\">\n",
       "      <th></th>\n",
       "      <th>Event_Id</th>\n",
       "      <th>Investigation_Type</th>\n",
       "      <th>Accident_Number</th>\n",
       "      <th>Event_Date</th>\n",
       "      <th>Location</th>\n",
       "      <th>Country</th>\n",
       "      <th>Injury_Severity</th>\n",
       "      <th>Aircraft_damage</th>\n",
       "      <th>Aircraft_Category</th>\n",
       "      <th>Registration_Number</th>\n",
       "      <th>...</th>\n",
       "      <th>Number_of_Engines</th>\n",
       "      <th>Engine_Type</th>\n",
       "      <th>Purpose_of_flight</th>\n",
       "      <th>Total_Fatal_Injuries</th>\n",
       "      <th>Total_Serious_Injuries</th>\n",
       "      <th>Total_Minor_Injuries</th>\n",
       "      <th>Total_Uninjured</th>\n",
       "      <th>Weather_Condition</th>\n",
       "      <th>Broad_phase_of_flight</th>\n",
       "      <th>Event_Year</th>\n",
       "    </tr>\n",
       "  </thead>\n",
       "  <tbody>\n",
       "    <tr>\n",
       "      <th>43211</th>\n",
       "      <td>20001208X09291</td>\n",
       "      <td>Accident</td>\n",
       "      <td>DCA98MA015</td>\n",
       "      <td>1997-12-28</td>\n",
       "      <td>PACIFIC OCEAN</td>\n",
       "      <td>Region - Pacific Ocean</td>\n",
       "      <td>Fatal</td>\n",
       "      <td>Minor</td>\n",
       "      <td>Airplane</td>\n",
       "      <td>N4723U</td>\n",
       "      <td>...</td>\n",
       "      <td>4.0</td>\n",
       "      <td>Unknown</td>\n",
       "      <td>Unknown</td>\n",
       "      <td>1.0</td>\n",
       "      <td>18.0</td>\n",
       "      <td>171.0</td>\n",
       "      <td>203.0</td>\n",
       "      <td>VMC</td>\n",
       "      <td>Cruise</td>\n",
       "      <td>1997</td>\n",
       "    </tr>\n",
       "  </tbody>\n",
       "</table>\n",
       "<p>1 rows × 23 columns</p>\n",
       "</div>"
      ],
      "text/plain": [
       "             Event_Id Investigation_Type Accident_Number Event_Date  \\\n",
       "43211  20001208X09291           Accident      DCA98MA015 1997-12-28   \n",
       "\n",
       "            Location                 Country Injury_Severity Aircraft_damage  \\\n",
       "43211  PACIFIC OCEAN  Region - Pacific Ocean           Fatal           Minor   \n",
       "\n",
       "      Aircraft_Category Registration_Number  ... Number_of_Engines  \\\n",
       "43211          Airplane              N4723U  ...               4.0   \n",
       "\n",
       "      Engine_Type Purpose_of_flight  Total_Fatal_Injuries  \\\n",
       "43211     Unknown           Unknown                   1.0   \n",
       "\n",
       "      Total_Serious_Injuries Total_Minor_Injuries  Total_Uninjured  \\\n",
       "43211                   18.0                171.0            203.0   \n",
       "\n",
       "       Weather_Condition  Broad_phase_of_flight  Event_Year  \n",
       "43211                VMC                 Cruise        1997  \n",
       "\n",
       "[1 rows x 23 columns]"
      ]
     },
     "execution_count": 131,
     "metadata": {},
     "output_type": "execute_result"
    }
   ],
   "source": [
    "check8_row= aviation_df2[aviation_df2['Total_Minor_Injuries'] == 171.0]\n",
    "check8_row"
   ]
  },
  {
   "cell_type": "markdown",
   "metadata": {},
   "source": [
    "##### Observation\n",
    "\n",
    "The information provided is accurate hence this is a valid outlier for the Total Minor Injuries."
   ]
  },
  {
   "cell_type": "code",
   "execution_count": 132,
   "metadata": {},
   "outputs": [],
   "source": [
    "#filling in unknown engine type\n",
    "aviation_df2.loc[43211,'Engine_Type'] = 'Turbo Fan'"
   ]
  },
  {
   "cell_type": "code",
   "execution_count": 133,
   "metadata": {
    "scrolled": true
   },
   "outputs": [
    {
     "data": {
      "text/html": [
       "<div>\n",
       "<style scoped>\n",
       "    .dataframe tbody tr th:only-of-type {\n",
       "        vertical-align: middle;\n",
       "    }\n",
       "\n",
       "    .dataframe tbody tr th {\n",
       "        vertical-align: top;\n",
       "    }\n",
       "\n",
       "    .dataframe thead th {\n",
       "        text-align: right;\n",
       "    }\n",
       "</style>\n",
       "<table border=\"1\" class=\"dataframe\">\n",
       "  <thead>\n",
       "    <tr style=\"text-align: right;\">\n",
       "      <th></th>\n",
       "      <th>Event_Id</th>\n",
       "      <th>Investigation_Type</th>\n",
       "      <th>Accident_Number</th>\n",
       "      <th>Event_Date</th>\n",
       "      <th>Location</th>\n",
       "      <th>Country</th>\n",
       "      <th>Injury_Severity</th>\n",
       "      <th>Aircraft_damage</th>\n",
       "      <th>Aircraft_Category</th>\n",
       "      <th>Registration_Number</th>\n",
       "      <th>...</th>\n",
       "      <th>Number_of_Engines</th>\n",
       "      <th>Engine_Type</th>\n",
       "      <th>Purpose_of_flight</th>\n",
       "      <th>Total_Fatal_Injuries</th>\n",
       "      <th>Total_Serious_Injuries</th>\n",
       "      <th>Total_Minor_Injuries</th>\n",
       "      <th>Total_Uninjured</th>\n",
       "      <th>Weather_Condition</th>\n",
       "      <th>Broad_phase_of_flight</th>\n",
       "      <th>Event_Year</th>\n",
       "    </tr>\n",
       "  </thead>\n",
       "  <tbody>\n",
       "    <tr>\n",
       "      <th>84395</th>\n",
       "      <td>20200205X32547</td>\n",
       "      <td>Accident</td>\n",
       "      <td>DCA20RA069</td>\n",
       "      <td>2020-02-05</td>\n",
       "      <td>ISTANBUL, TURKEY</td>\n",
       "      <td>Turkey</td>\n",
       "      <td>Fatal</td>\n",
       "      <td>Substantial</td>\n",
       "      <td>Airplane</td>\n",
       "      <td>TC-IZK</td>\n",
       "      <td>...</td>\n",
       "      <td>1.0</td>\n",
       "      <td>Turbo Fan</td>\n",
       "      <td>NaN</td>\n",
       "      <td>3.0</td>\n",
       "      <td>161.0</td>\n",
       "      <td>19.0</td>\n",
       "      <td>0.0</td>\n",
       "      <td>Unknown</td>\n",
       "      <td>NaN</td>\n",
       "      <td>2020</td>\n",
       "    </tr>\n",
       "  </tbody>\n",
       "</table>\n",
       "<p>1 rows × 23 columns</p>\n",
       "</div>"
      ],
      "text/plain": [
       "             Event_Id Investigation_Type Accident_Number Event_Date  \\\n",
       "84395  20200205X32547           Accident      DCA20RA069 2020-02-05   \n",
       "\n",
       "               Location Country Injury_Severity Aircraft_damage  \\\n",
       "84395  ISTANBUL, TURKEY  Turkey           Fatal     Substantial   \n",
       "\n",
       "      Aircraft_Category Registration_Number  ... Number_of_Engines  \\\n",
       "84395          Airplane              TC-IZK  ...               1.0   \n",
       "\n",
       "      Engine_Type Purpose_of_flight  Total_Fatal_Injuries  \\\n",
       "84395   Turbo Fan               NaN                   3.0   \n",
       "\n",
       "      Total_Serious_Injuries Total_Minor_Injuries  Total_Uninjured  \\\n",
       "84395                  161.0                 19.0              0.0   \n",
       "\n",
       "       Weather_Condition  Broad_phase_of_flight  Event_Year  \n",
       "84395            Unknown                    NaN        2020  \n",
       "\n",
       "[1 rows x 23 columns]"
      ]
     },
     "execution_count": 133,
     "metadata": {},
     "output_type": "execute_result"
    }
   ],
   "source": [
    "check9_row= aviation_df2[aviation_df2['Total_Serious_Injuries'] == 161.0]\n",
    "check9_row"
   ]
  },
  {
   "cell_type": "markdown",
   "metadata": {},
   "source": [
    "##### Observation\n",
    "\n",
    "The information provided is accurate hence this is a valid outlier for the Total Minor Injuries."
   ]
  },
  {
   "cell_type": "code",
   "execution_count": 134,
   "metadata": {
    "scrolled": true
   },
   "outputs": [
    {
     "data": {
      "text/html": [
       "<div>\n",
       "<style scoped>\n",
       "    .dataframe tbody tr th:only-of-type {\n",
       "        vertical-align: middle;\n",
       "    }\n",
       "\n",
       "    .dataframe tbody tr th {\n",
       "        vertical-align: top;\n",
       "    }\n",
       "\n",
       "    .dataframe thead th {\n",
       "        text-align: right;\n",
       "    }\n",
       "</style>\n",
       "<table border=\"1\" class=\"dataframe\">\n",
       "  <thead>\n",
       "    <tr style=\"text-align: right;\">\n",
       "      <th></th>\n",
       "      <th>count</th>\n",
       "      <th>mean</th>\n",
       "      <th>std</th>\n",
       "      <th>min</th>\n",
       "      <th>25%</th>\n",
       "      <th>50%</th>\n",
       "      <th>75%</th>\n",
       "      <th>max</th>\n",
       "    </tr>\n",
       "  </thead>\n",
       "  <tbody>\n",
       "    <tr>\n",
       "      <th>Number_of_Engines</th>\n",
       "      <td>88825.0</td>\n",
       "      <td>1.140287</td>\n",
       "      <td>0.443702</td>\n",
       "      <td>0.0</td>\n",
       "      <td>1.0</td>\n",
       "      <td>1.0</td>\n",
       "      <td>1.0</td>\n",
       "      <td>8.0</td>\n",
       "    </tr>\n",
       "    <tr>\n",
       "      <th>Total_Fatal_Injuries</th>\n",
       "      <td>88825.0</td>\n",
       "      <td>0.560619</td>\n",
       "      <td>4.966761</td>\n",
       "      <td>0.0</td>\n",
       "      <td>0.0</td>\n",
       "      <td>0.0</td>\n",
       "      <td>0.0</td>\n",
       "      <td>312.0</td>\n",
       "    </tr>\n",
       "    <tr>\n",
       "      <th>Total_Serious_Injuries</th>\n",
       "      <td>88825.0</td>\n",
       "      <td>0.240946</td>\n",
       "      <td>1.444309</td>\n",
       "      <td>0.0</td>\n",
       "      <td>0.0</td>\n",
       "      <td>0.0</td>\n",
       "      <td>0.0</td>\n",
       "      <td>161.0</td>\n",
       "    </tr>\n",
       "    <tr>\n",
       "      <th>Total_Minor_Injuries</th>\n",
       "      <td>88825.0</td>\n",
       "      <td>0.304408</td>\n",
       "      <td>1.592130</td>\n",
       "      <td>0.0</td>\n",
       "      <td>0.0</td>\n",
       "      <td>0.0</td>\n",
       "      <td>0.0</td>\n",
       "      <td>171.0</td>\n",
       "    </tr>\n",
       "    <tr>\n",
       "      <th>Total_Uninjured</th>\n",
       "      <td>88825.0</td>\n",
       "      <td>4.996611</td>\n",
       "      <td>26.461327</td>\n",
       "      <td>0.0</td>\n",
       "      <td>0.0</td>\n",
       "      <td>1.0</td>\n",
       "      <td>2.0</td>\n",
       "      <td>521.0</td>\n",
       "    </tr>\n",
       "    <tr>\n",
       "      <th>Event_Year</th>\n",
       "      <td>88825.0</td>\n",
       "      <td>1999.202105</td>\n",
       "      <td>11.888658</td>\n",
       "      <td>1948.0</td>\n",
       "      <td>1989.0</td>\n",
       "      <td>1998.0</td>\n",
       "      <td>2009.0</td>\n",
       "      <td>2022.0</td>\n",
       "    </tr>\n",
       "  </tbody>\n",
       "</table>\n",
       "</div>"
      ],
      "text/plain": [
       "                          count         mean        std     min     25%  \\\n",
       "Number_of_Engines       88825.0     1.140287   0.443702     0.0     1.0   \n",
       "Total_Fatal_Injuries    88825.0     0.560619   4.966761     0.0     0.0   \n",
       "Total_Serious_Injuries  88825.0     0.240946   1.444309     0.0     0.0   \n",
       "Total_Minor_Injuries    88825.0     0.304408   1.592130     0.0     0.0   \n",
       "Total_Uninjured         88825.0     4.996611  26.461327     0.0     0.0   \n",
       "Event_Year              88825.0  1999.202105  11.888658  1948.0  1989.0   \n",
       "\n",
       "                           50%     75%     max  \n",
       "Number_of_Engines          1.0     1.0     8.0  \n",
       "Total_Fatal_Injuries       0.0     0.0   312.0  \n",
       "Total_Serious_Injuries     0.0     0.0   161.0  \n",
       "Total_Minor_Injuries       0.0     0.0   171.0  \n",
       "Total_Uninjured            1.0     2.0   521.0  \n",
       "Event_Year              1998.0  2009.0  2022.0  "
      ]
     },
     "execution_count": 134,
     "metadata": {},
     "output_type": "execute_result"
    }
   ],
   "source": [
    "#filling in unknown broad phase of flight and weather condition\n",
    "aviation_df2.loc[84395,'Broad_phase_of_flight'] = 'Landing'\n",
    "aviation_df2.loc[84395,'Weather_Condition']='IMC'\n",
    "\n",
    "#checking the statistical summary of the dataframe\n",
    "aviation_df2.describe().T"
   ]
  },
  {
   "cell_type": "markdown",
   "metadata": {},
   "source": [
    "#### 3.1.6 Feature Engineering\n",
    "\n",
    "We can create new numerical columns that can aid further in our analysis after completing cleaning of our dataframe."
   ]
  },
  {
   "cell_type": "code",
   "execution_count": 135,
   "metadata": {},
   "outputs": [
    {
     "data": {
      "text/html": [
       "<div>\n",
       "<style scoped>\n",
       "    .dataframe tbody tr th:only-of-type {\n",
       "        vertical-align: middle;\n",
       "    }\n",
       "\n",
       "    .dataframe tbody tr th {\n",
       "        vertical-align: top;\n",
       "    }\n",
       "\n",
       "    .dataframe thead th {\n",
       "        text-align: right;\n",
       "    }\n",
       "</style>\n",
       "<table border=\"1\" class=\"dataframe\">\n",
       "  <thead>\n",
       "    <tr style=\"text-align: right;\">\n",
       "      <th></th>\n",
       "      <th>Event_Id</th>\n",
       "      <th>Investigation_Type</th>\n",
       "      <th>Accident_Number</th>\n",
       "      <th>Event_Date</th>\n",
       "      <th>Location</th>\n",
       "      <th>Country</th>\n",
       "      <th>Injury_Severity</th>\n",
       "      <th>Aircraft_damage</th>\n",
       "      <th>Aircraft_Category</th>\n",
       "      <th>Registration_Number</th>\n",
       "      <th>...</th>\n",
       "      <th>Engine_Type</th>\n",
       "      <th>Purpose_of_flight</th>\n",
       "      <th>Total_Fatal_Injuries</th>\n",
       "      <th>Total_Serious_Injuries</th>\n",
       "      <th>Total_Minor_Injuries</th>\n",
       "      <th>Total_Uninjured</th>\n",
       "      <th>Weather_Condition</th>\n",
       "      <th>Broad_phase_of_flight</th>\n",
       "      <th>Event_Year</th>\n",
       "      <th>Total_Aboard</th>\n",
       "    </tr>\n",
       "  </thead>\n",
       "  <tbody>\n",
       "    <tr>\n",
       "      <th>0</th>\n",
       "      <td>20001218X45444</td>\n",
       "      <td>Accident</td>\n",
       "      <td>SEA87LA080</td>\n",
       "      <td>1948-10-24</td>\n",
       "      <td>MOOSE CREEK, ID</td>\n",
       "      <td>United States</td>\n",
       "      <td>Fatal</td>\n",
       "      <td>Destroyed</td>\n",
       "      <td>Airplane</td>\n",
       "      <td>NC6404</td>\n",
       "      <td>...</td>\n",
       "      <td>Reciprocating</td>\n",
       "      <td>Personal</td>\n",
       "      <td>2.0</td>\n",
       "      <td>0.0</td>\n",
       "      <td>0.0</td>\n",
       "      <td>0.0</td>\n",
       "      <td>Unknown</td>\n",
       "      <td>Cruise</td>\n",
       "      <td>1948</td>\n",
       "      <td>2.0</td>\n",
       "    </tr>\n",
       "    <tr>\n",
       "      <th>1</th>\n",
       "      <td>20001218X45447</td>\n",
       "      <td>Accident</td>\n",
       "      <td>LAX94LA336</td>\n",
       "      <td>1962-07-19</td>\n",
       "      <td>BRIDGEPORT, CA</td>\n",
       "      <td>United States</td>\n",
       "      <td>Fatal</td>\n",
       "      <td>Destroyed</td>\n",
       "      <td>Airplane</td>\n",
       "      <td>N5069P</td>\n",
       "      <td>...</td>\n",
       "      <td>Reciprocating</td>\n",
       "      <td>Personal</td>\n",
       "      <td>4.0</td>\n",
       "      <td>0.0</td>\n",
       "      <td>0.0</td>\n",
       "      <td>0.0</td>\n",
       "      <td>Unknown</td>\n",
       "      <td>Unknown</td>\n",
       "      <td>1962</td>\n",
       "      <td>4.0</td>\n",
       "    </tr>\n",
       "    <tr>\n",
       "      <th>2</th>\n",
       "      <td>20061025X01555</td>\n",
       "      <td>Accident</td>\n",
       "      <td>NYC07LA005</td>\n",
       "      <td>1974-08-30</td>\n",
       "      <td>SALTVILLE, VA</td>\n",
       "      <td>United States</td>\n",
       "      <td>Fatal</td>\n",
       "      <td>Destroyed</td>\n",
       "      <td>Airplane</td>\n",
       "      <td>N5142R</td>\n",
       "      <td>...</td>\n",
       "      <td>Reciprocating</td>\n",
       "      <td>Personal</td>\n",
       "      <td>3.0</td>\n",
       "      <td>0.0</td>\n",
       "      <td>0.0</td>\n",
       "      <td>1.0</td>\n",
       "      <td>IMC</td>\n",
       "      <td>Cruise</td>\n",
       "      <td>1974</td>\n",
       "      <td>4.0</td>\n",
       "    </tr>\n",
       "    <tr>\n",
       "      <th>3</th>\n",
       "      <td>20001218X45448</td>\n",
       "      <td>Accident</td>\n",
       "      <td>LAX96LA321</td>\n",
       "      <td>1977-06-19</td>\n",
       "      <td>EUREKA, CA</td>\n",
       "      <td>United States</td>\n",
       "      <td>Fatal</td>\n",
       "      <td>Destroyed</td>\n",
       "      <td>Airplane</td>\n",
       "      <td>N1168J</td>\n",
       "      <td>...</td>\n",
       "      <td>Reciprocating</td>\n",
       "      <td>Personal</td>\n",
       "      <td>2.0</td>\n",
       "      <td>0.0</td>\n",
       "      <td>0.0</td>\n",
       "      <td>0.0</td>\n",
       "      <td>IMC</td>\n",
       "      <td>Cruise</td>\n",
       "      <td>1977</td>\n",
       "      <td>2.0</td>\n",
       "    </tr>\n",
       "    <tr>\n",
       "      <th>4</th>\n",
       "      <td>20041105X01764</td>\n",
       "      <td>Accident</td>\n",
       "      <td>CHI79FA064</td>\n",
       "      <td>1979-08-02</td>\n",
       "      <td>CANTON, OH</td>\n",
       "      <td>United States</td>\n",
       "      <td>Fatal</td>\n",
       "      <td>Destroyed</td>\n",
       "      <td>Airplane</td>\n",
       "      <td>N15NY</td>\n",
       "      <td>...</td>\n",
       "      <td>Turbo Fan</td>\n",
       "      <td>Personal</td>\n",
       "      <td>1.0</td>\n",
       "      <td>2.0</td>\n",
       "      <td>0.0</td>\n",
       "      <td>0.0</td>\n",
       "      <td>VMC</td>\n",
       "      <td>Approach</td>\n",
       "      <td>1979</td>\n",
       "      <td>3.0</td>\n",
       "    </tr>\n",
       "  </tbody>\n",
       "</table>\n",
       "<p>5 rows × 24 columns</p>\n",
       "</div>"
      ],
      "text/plain": [
       "         Event_Id Investigation_Type Accident_Number Event_Date  \\\n",
       "0  20001218X45444           Accident      SEA87LA080 1948-10-24   \n",
       "1  20001218X45447           Accident      LAX94LA336 1962-07-19   \n",
       "2  20061025X01555           Accident      NYC07LA005 1974-08-30   \n",
       "3  20001218X45448           Accident      LAX96LA321 1977-06-19   \n",
       "4  20041105X01764           Accident      CHI79FA064 1979-08-02   \n",
       "\n",
       "          Location        Country Injury_Severity Aircraft_damage  \\\n",
       "0  MOOSE CREEK, ID  United States           Fatal       Destroyed   \n",
       "1   BRIDGEPORT, CA  United States           Fatal       Destroyed   \n",
       "2    SALTVILLE, VA  United States           Fatal       Destroyed   \n",
       "3       EUREKA, CA  United States           Fatal       Destroyed   \n",
       "4       CANTON, OH  United States           Fatal       Destroyed   \n",
       "\n",
       "  Aircraft_Category Registration_Number  ...    Engine_Type Purpose_of_flight  \\\n",
       "0          Airplane              NC6404  ...  Reciprocating          Personal   \n",
       "1          Airplane              N5069P  ...  Reciprocating          Personal   \n",
       "2          Airplane              N5142R  ...  Reciprocating          Personal   \n",
       "3          Airplane              N1168J  ...  Reciprocating          Personal   \n",
       "4          Airplane               N15NY  ...      Turbo Fan          Personal   \n",
       "\n",
       "  Total_Fatal_Injuries  Total_Serious_Injuries Total_Minor_Injuries  \\\n",
       "0                  2.0                     0.0                  0.0   \n",
       "1                  4.0                     0.0                  0.0   \n",
       "2                  3.0                     0.0                  0.0   \n",
       "3                  2.0                     0.0                  0.0   \n",
       "4                  1.0                     2.0                  0.0   \n",
       "\n",
       "  Total_Uninjured  Weather_Condition  Broad_phase_of_flight  Event_Year  \\\n",
       "0             0.0            Unknown                 Cruise        1948   \n",
       "1             0.0            Unknown                Unknown        1962   \n",
       "2             1.0                IMC                 Cruise        1974   \n",
       "3             0.0                IMC                 Cruise        1977   \n",
       "4             0.0                VMC               Approach        1979   \n",
       "\n",
       "   Total_Aboard  \n",
       "0           2.0  \n",
       "1           4.0  \n",
       "2           4.0  \n",
       "3           2.0  \n",
       "4           3.0  \n",
       "\n",
       "[5 rows x 24 columns]"
      ]
     },
     "execution_count": 135,
     "metadata": {},
     "output_type": "execute_result"
    }
   ],
   "source": [
    "#creating a list of columns to sum\n",
    "cols_to_sum = ['Total_Fatal_Injuries','Total_Serious_Injuries', 'Total_Minor_Injuries', 'Total_Uninjured']\n",
    "\n",
    "#creating a column of total passengers aboard by summing data on injuries\n",
    "aviation_df2['Total_Aboard'] = aviation_df2[cols_to_sum].sum(axis=1)\n",
    "\n",
    "#previewing the first 5 columns\n",
    "aviation_df2.head()"
   ]
  },
  {
   "cell_type": "code",
   "execution_count": 136,
   "metadata": {},
   "outputs": [
    {
     "data": {
      "text/html": [
       "<div>\n",
       "<style scoped>\n",
       "    .dataframe tbody tr th:only-of-type {\n",
       "        vertical-align: middle;\n",
       "    }\n",
       "\n",
       "    .dataframe tbody tr th {\n",
       "        vertical-align: top;\n",
       "    }\n",
       "\n",
       "    .dataframe thead th {\n",
       "        text-align: right;\n",
       "    }\n",
       "</style>\n",
       "<table border=\"1\" class=\"dataframe\">\n",
       "  <thead>\n",
       "    <tr style=\"text-align: right;\">\n",
       "      <th></th>\n",
       "      <th>Event_Id</th>\n",
       "      <th>Investigation_Type</th>\n",
       "      <th>Accident_Number</th>\n",
       "      <th>Event_Date</th>\n",
       "      <th>Location</th>\n",
       "      <th>Country</th>\n",
       "      <th>Injury_Severity</th>\n",
       "      <th>Aircraft_damage</th>\n",
       "      <th>Aircraft_Category</th>\n",
       "      <th>Registration_Number</th>\n",
       "      <th>...</th>\n",
       "      <th>Purpose_of_flight</th>\n",
       "      <th>Total_Fatal_Injuries</th>\n",
       "      <th>Total_Serious_Injuries</th>\n",
       "      <th>Total_Minor_Injuries</th>\n",
       "      <th>Total_Uninjured</th>\n",
       "      <th>Weather_Condition</th>\n",
       "      <th>Broad_phase_of_flight</th>\n",
       "      <th>Event_Year</th>\n",
       "      <th>Total_Aboard</th>\n",
       "      <th>Fatality_Rate</th>\n",
       "    </tr>\n",
       "  </thead>\n",
       "  <tbody>\n",
       "    <tr>\n",
       "      <th>0</th>\n",
       "      <td>20001218X45444</td>\n",
       "      <td>Accident</td>\n",
       "      <td>SEA87LA080</td>\n",
       "      <td>1948-10-24</td>\n",
       "      <td>MOOSE CREEK, ID</td>\n",
       "      <td>United States</td>\n",
       "      <td>Fatal</td>\n",
       "      <td>Destroyed</td>\n",
       "      <td>Airplane</td>\n",
       "      <td>NC6404</td>\n",
       "      <td>...</td>\n",
       "      <td>Personal</td>\n",
       "      <td>2.0</td>\n",
       "      <td>0.0</td>\n",
       "      <td>0.0</td>\n",
       "      <td>0.0</td>\n",
       "      <td>Unknown</td>\n",
       "      <td>Cruise</td>\n",
       "      <td>1948</td>\n",
       "      <td>2.0</td>\n",
       "      <td>1</td>\n",
       "    </tr>\n",
       "    <tr>\n",
       "      <th>1</th>\n",
       "      <td>20001218X45447</td>\n",
       "      <td>Accident</td>\n",
       "      <td>LAX94LA336</td>\n",
       "      <td>1962-07-19</td>\n",
       "      <td>BRIDGEPORT, CA</td>\n",
       "      <td>United States</td>\n",
       "      <td>Fatal</td>\n",
       "      <td>Destroyed</td>\n",
       "      <td>Airplane</td>\n",
       "      <td>N5069P</td>\n",
       "      <td>...</td>\n",
       "      <td>Personal</td>\n",
       "      <td>4.0</td>\n",
       "      <td>0.0</td>\n",
       "      <td>0.0</td>\n",
       "      <td>0.0</td>\n",
       "      <td>Unknown</td>\n",
       "      <td>Unknown</td>\n",
       "      <td>1962</td>\n",
       "      <td>4.0</td>\n",
       "      <td>1</td>\n",
       "    </tr>\n",
       "    <tr>\n",
       "      <th>2</th>\n",
       "      <td>20061025X01555</td>\n",
       "      <td>Accident</td>\n",
       "      <td>NYC07LA005</td>\n",
       "      <td>1974-08-30</td>\n",
       "      <td>SALTVILLE, VA</td>\n",
       "      <td>United States</td>\n",
       "      <td>Fatal</td>\n",
       "      <td>Destroyed</td>\n",
       "      <td>Airplane</td>\n",
       "      <td>N5142R</td>\n",
       "      <td>...</td>\n",
       "      <td>Personal</td>\n",
       "      <td>3.0</td>\n",
       "      <td>0.0</td>\n",
       "      <td>0.0</td>\n",
       "      <td>1.0</td>\n",
       "      <td>IMC</td>\n",
       "      <td>Cruise</td>\n",
       "      <td>1974</td>\n",
       "      <td>4.0</td>\n",
       "      <td>0.75</td>\n",
       "    </tr>\n",
       "    <tr>\n",
       "      <th>3</th>\n",
       "      <td>20001218X45448</td>\n",
       "      <td>Accident</td>\n",
       "      <td>LAX96LA321</td>\n",
       "      <td>1977-06-19</td>\n",
       "      <td>EUREKA, CA</td>\n",
       "      <td>United States</td>\n",
       "      <td>Fatal</td>\n",
       "      <td>Destroyed</td>\n",
       "      <td>Airplane</td>\n",
       "      <td>N1168J</td>\n",
       "      <td>...</td>\n",
       "      <td>Personal</td>\n",
       "      <td>2.0</td>\n",
       "      <td>0.0</td>\n",
       "      <td>0.0</td>\n",
       "      <td>0.0</td>\n",
       "      <td>IMC</td>\n",
       "      <td>Cruise</td>\n",
       "      <td>1977</td>\n",
       "      <td>2.0</td>\n",
       "      <td>1</td>\n",
       "    </tr>\n",
       "    <tr>\n",
       "      <th>4</th>\n",
       "      <td>20041105X01764</td>\n",
       "      <td>Accident</td>\n",
       "      <td>CHI79FA064</td>\n",
       "      <td>1979-08-02</td>\n",
       "      <td>CANTON, OH</td>\n",
       "      <td>United States</td>\n",
       "      <td>Fatal</td>\n",
       "      <td>Destroyed</td>\n",
       "      <td>Airplane</td>\n",
       "      <td>N15NY</td>\n",
       "      <td>...</td>\n",
       "      <td>Personal</td>\n",
       "      <td>1.0</td>\n",
       "      <td>2.0</td>\n",
       "      <td>0.0</td>\n",
       "      <td>0.0</td>\n",
       "      <td>VMC</td>\n",
       "      <td>Approach</td>\n",
       "      <td>1979</td>\n",
       "      <td>3.0</td>\n",
       "      <td>0.333333</td>\n",
       "    </tr>\n",
       "  </tbody>\n",
       "</table>\n",
       "<p>5 rows × 25 columns</p>\n",
       "</div>"
      ],
      "text/plain": [
       "         Event_Id Investigation_Type Accident_Number Event_Date  \\\n",
       "0  20001218X45444           Accident      SEA87LA080 1948-10-24   \n",
       "1  20001218X45447           Accident      LAX94LA336 1962-07-19   \n",
       "2  20061025X01555           Accident      NYC07LA005 1974-08-30   \n",
       "3  20001218X45448           Accident      LAX96LA321 1977-06-19   \n",
       "4  20041105X01764           Accident      CHI79FA064 1979-08-02   \n",
       "\n",
       "          Location        Country Injury_Severity Aircraft_damage  \\\n",
       "0  MOOSE CREEK, ID  United States           Fatal       Destroyed   \n",
       "1   BRIDGEPORT, CA  United States           Fatal       Destroyed   \n",
       "2    SALTVILLE, VA  United States           Fatal       Destroyed   \n",
       "3       EUREKA, CA  United States           Fatal       Destroyed   \n",
       "4       CANTON, OH  United States           Fatal       Destroyed   \n",
       "\n",
       "  Aircraft_Category Registration_Number  ... Purpose_of_flight  \\\n",
       "0          Airplane              NC6404  ...          Personal   \n",
       "1          Airplane              N5069P  ...          Personal   \n",
       "2          Airplane              N5142R  ...          Personal   \n",
       "3          Airplane              N1168J  ...          Personal   \n",
       "4          Airplane               N15NY  ...          Personal   \n",
       "\n",
       "  Total_Fatal_Injuries Total_Serious_Injuries  Total_Minor_Injuries  \\\n",
       "0                  2.0                    0.0                   0.0   \n",
       "1                  4.0                    0.0                   0.0   \n",
       "2                  3.0                    0.0                   0.0   \n",
       "3                  2.0                    0.0                   0.0   \n",
       "4                  1.0                    2.0                   0.0   \n",
       "\n",
       "  Total_Uninjured Weather_Condition  Broad_phase_of_flight  Event_Year  \\\n",
       "0             0.0           Unknown                 Cruise        1948   \n",
       "1             0.0           Unknown                Unknown        1962   \n",
       "2             1.0               IMC                 Cruise        1974   \n",
       "3             0.0               IMC                 Cruise        1977   \n",
       "4             0.0               VMC               Approach        1979   \n",
       "\n",
       "   Total_Aboard  Fatality_Rate  \n",
       "0           2.0              1  \n",
       "1           4.0              1  \n",
       "2           4.0           0.75  \n",
       "3           2.0              1  \n",
       "4           3.0       0.333333  \n",
       "\n",
       "[5 rows x 25 columns]"
      ]
     },
     "execution_count": 136,
     "metadata": {},
     "output_type": "execute_result"
    }
   ],
   "source": [
    "#creating a column of fatality rate which only gets values when Total Aboard is greater than 0\n",
    "aviation_df2['Fatality_Rate'] = aviation_df2. apply(\n",
    "    lambda x: x['Total_Fatal_Injuries'] / x['Total_Aboard'] \n",
    "    if x ['Total_Aboard'] > 0 else 'None',\n",
    "    axis=1\n",
    ")\n",
    "\n",
    "#previewing the first 5 columns\n",
    "aviation_df2.head()"
   ]
  },
  {
   "cell_type": "code",
   "execution_count": 137,
   "metadata": {},
   "outputs": [
    {
     "data": {
      "text/plain": [
       "Event_Id                      0\n",
       "Investigation_Type            0\n",
       "Accident_Number               0\n",
       "Event_Date                    0\n",
       "Location                      0\n",
       "Country                       0\n",
       "Injury_Severity               0\n",
       "Aircraft_damage               0\n",
       "Aircraft_Category             0\n",
       "Registration_Number        1698\n",
       "Make                          0\n",
       "Model                         0\n",
       "Amateur_Built                 0\n",
       "Number_of_Engines             0\n",
       "Engine_Type                   0\n",
       "Purpose_of_flight          6150\n",
       "Total_Fatal_Injuries          0\n",
       "Total_Serious_Injuries        0\n",
       "Total_Minor_Injuries          0\n",
       "Total_Uninjured               0\n",
       "Weather_Condition             0\n",
       "Broad_phase_of_flight     27107\n",
       "Event_Year                    0\n",
       "Total_Aboard                  0\n",
       "Fatality_Rate                 0\n",
       "dtype: int64"
      ]
     },
     "execution_count": 137,
     "metadata": {},
     "output_type": "execute_result"
    }
   ],
   "source": [
    "aviation_df2.isna().sum()"
   ]
  },
  {
   "cell_type": "markdown",
   "metadata": {},
   "source": [
    "#### 3.1.7 Saving the clean dataset"
   ]
  },
  {
   "cell_type": "code",
   "execution_count": 138,
   "metadata": {},
   "outputs": [],
   "source": [
    "aviation_df2.to_csv('Cleaned_Aviation_Data', index=False)"
   ]
  },
  {
   "cell_type": "markdown",
   "metadata": {},
   "source": [
    "### 3.2 Exploratory Data Analysis\n",
    "Exploratory Data Analysis (EDA) is the process of investigating a dataset to discover trends, patterns, anomalies and relationships between variables to support business recommendations.\n",
    "\n",
    "The goal of this Exploratory Data Analysis is to:\n",
    "- Identify trends in aviation accidents over time\n",
    "- Understand which aircraft models and types are most or least risky\n",
    "- Analyse severity patterns and contributing conditions\n",
    "- Support data driven recommendations for safe aircraft investment\n",
    "\n",
    "\n"
   ]
  },
  {
   "cell_type": "code",
   "execution_count": 139,
   "metadata": {},
   "outputs": [
    {
     "data": {
      "text/html": [
       "<div>\n",
       "<style scoped>\n",
       "    .dataframe tbody tr th:only-of-type {\n",
       "        vertical-align: middle;\n",
       "    }\n",
       "\n",
       "    .dataframe tbody tr th {\n",
       "        vertical-align: top;\n",
       "    }\n",
       "\n",
       "    .dataframe thead th {\n",
       "        text-align: right;\n",
       "    }\n",
       "</style>\n",
       "<table border=\"1\" class=\"dataframe\">\n",
       "  <thead>\n",
       "    <tr style=\"text-align: right;\">\n",
       "      <th></th>\n",
       "      <th>Event_Id</th>\n",
       "      <th>Investigation_Type</th>\n",
       "      <th>Accident_Number</th>\n",
       "      <th>Event_Date</th>\n",
       "      <th>Location</th>\n",
       "      <th>Country</th>\n",
       "      <th>Injury_Severity</th>\n",
       "      <th>Aircraft_damage</th>\n",
       "      <th>Aircraft_Category</th>\n",
       "      <th>Registration_Number</th>\n",
       "      <th>...</th>\n",
       "      <th>Purpose_of_flight</th>\n",
       "      <th>Total_Fatal_Injuries</th>\n",
       "      <th>Total_Serious_Injuries</th>\n",
       "      <th>Total_Minor_Injuries</th>\n",
       "      <th>Total_Uninjured</th>\n",
       "      <th>Weather_Condition</th>\n",
       "      <th>Broad_phase_of_flight</th>\n",
       "      <th>Event_Year</th>\n",
       "      <th>Total_Aboard</th>\n",
       "      <th>Fatality_Rate</th>\n",
       "    </tr>\n",
       "  </thead>\n",
       "  <tbody>\n",
       "    <tr>\n",
       "      <th>0</th>\n",
       "      <td>20001218X45444</td>\n",
       "      <td>Accident</td>\n",
       "      <td>SEA87LA080</td>\n",
       "      <td>1948-10-24</td>\n",
       "      <td>MOOSE CREEK, ID</td>\n",
       "      <td>United States</td>\n",
       "      <td>Fatal</td>\n",
       "      <td>Destroyed</td>\n",
       "      <td>Airplane</td>\n",
       "      <td>NC6404</td>\n",
       "      <td>...</td>\n",
       "      <td>Personal</td>\n",
       "      <td>2.0</td>\n",
       "      <td>0.0</td>\n",
       "      <td>0.0</td>\n",
       "      <td>0.0</td>\n",
       "      <td>Unknown</td>\n",
       "      <td>Cruise</td>\n",
       "      <td>1948</td>\n",
       "      <td>2.0</td>\n",
       "      <td>1.0</td>\n",
       "    </tr>\n",
       "    <tr>\n",
       "      <th>1</th>\n",
       "      <td>20001218X45447</td>\n",
       "      <td>Accident</td>\n",
       "      <td>LAX94LA336</td>\n",
       "      <td>1962-07-19</td>\n",
       "      <td>BRIDGEPORT, CA</td>\n",
       "      <td>United States</td>\n",
       "      <td>Fatal</td>\n",
       "      <td>Destroyed</td>\n",
       "      <td>Airplane</td>\n",
       "      <td>N5069P</td>\n",
       "      <td>...</td>\n",
       "      <td>Personal</td>\n",
       "      <td>4.0</td>\n",
       "      <td>0.0</td>\n",
       "      <td>0.0</td>\n",
       "      <td>0.0</td>\n",
       "      <td>Unknown</td>\n",
       "      <td>Unknown</td>\n",
       "      <td>1962</td>\n",
       "      <td>4.0</td>\n",
       "      <td>1.0</td>\n",
       "    </tr>\n",
       "    <tr>\n",
       "      <th>2</th>\n",
       "      <td>20061025X01555</td>\n",
       "      <td>Accident</td>\n",
       "      <td>NYC07LA005</td>\n",
       "      <td>1974-08-30</td>\n",
       "      <td>SALTVILLE, VA</td>\n",
       "      <td>United States</td>\n",
       "      <td>Fatal</td>\n",
       "      <td>Destroyed</td>\n",
       "      <td>Airplane</td>\n",
       "      <td>N5142R</td>\n",
       "      <td>...</td>\n",
       "      <td>Personal</td>\n",
       "      <td>3.0</td>\n",
       "      <td>0.0</td>\n",
       "      <td>0.0</td>\n",
       "      <td>1.0</td>\n",
       "      <td>IMC</td>\n",
       "      <td>Cruise</td>\n",
       "      <td>1974</td>\n",
       "      <td>4.0</td>\n",
       "      <td>0.75</td>\n",
       "    </tr>\n",
       "    <tr>\n",
       "      <th>3</th>\n",
       "      <td>20001218X45448</td>\n",
       "      <td>Accident</td>\n",
       "      <td>LAX96LA321</td>\n",
       "      <td>1977-06-19</td>\n",
       "      <td>EUREKA, CA</td>\n",
       "      <td>United States</td>\n",
       "      <td>Fatal</td>\n",
       "      <td>Destroyed</td>\n",
       "      <td>Airplane</td>\n",
       "      <td>N1168J</td>\n",
       "      <td>...</td>\n",
       "      <td>Personal</td>\n",
       "      <td>2.0</td>\n",
       "      <td>0.0</td>\n",
       "      <td>0.0</td>\n",
       "      <td>0.0</td>\n",
       "      <td>IMC</td>\n",
       "      <td>Cruise</td>\n",
       "      <td>1977</td>\n",
       "      <td>2.0</td>\n",
       "      <td>1.0</td>\n",
       "    </tr>\n",
       "    <tr>\n",
       "      <th>4</th>\n",
       "      <td>20041105X01764</td>\n",
       "      <td>Accident</td>\n",
       "      <td>CHI79FA064</td>\n",
       "      <td>1979-08-02</td>\n",
       "      <td>CANTON, OH</td>\n",
       "      <td>United States</td>\n",
       "      <td>Fatal</td>\n",
       "      <td>Destroyed</td>\n",
       "      <td>Airplane</td>\n",
       "      <td>N15NY</td>\n",
       "      <td>...</td>\n",
       "      <td>Personal</td>\n",
       "      <td>1.0</td>\n",
       "      <td>2.0</td>\n",
       "      <td>0.0</td>\n",
       "      <td>0.0</td>\n",
       "      <td>VMC</td>\n",
       "      <td>Approach</td>\n",
       "      <td>1979</td>\n",
       "      <td>3.0</td>\n",
       "      <td>0.3333333333333333</td>\n",
       "    </tr>\n",
       "  </tbody>\n",
       "</table>\n",
       "<p>5 rows × 25 columns</p>\n",
       "</div>"
      ],
      "text/plain": [
       "         Event_Id Investigation_Type Accident_Number  Event_Date  \\\n",
       "0  20001218X45444           Accident      SEA87LA080  1948-10-24   \n",
       "1  20001218X45447           Accident      LAX94LA336  1962-07-19   \n",
       "2  20061025X01555           Accident      NYC07LA005  1974-08-30   \n",
       "3  20001218X45448           Accident      LAX96LA321  1977-06-19   \n",
       "4  20041105X01764           Accident      CHI79FA064  1979-08-02   \n",
       "\n",
       "          Location        Country Injury_Severity Aircraft_damage  \\\n",
       "0  MOOSE CREEK, ID  United States           Fatal       Destroyed   \n",
       "1   BRIDGEPORT, CA  United States           Fatal       Destroyed   \n",
       "2    SALTVILLE, VA  United States           Fatal       Destroyed   \n",
       "3       EUREKA, CA  United States           Fatal       Destroyed   \n",
       "4       CANTON, OH  United States           Fatal       Destroyed   \n",
       "\n",
       "  Aircraft_Category Registration_Number  ... Purpose_of_flight  \\\n",
       "0          Airplane              NC6404  ...          Personal   \n",
       "1          Airplane              N5069P  ...          Personal   \n",
       "2          Airplane              N5142R  ...          Personal   \n",
       "3          Airplane              N1168J  ...          Personal   \n",
       "4          Airplane               N15NY  ...          Personal   \n",
       "\n",
       "  Total_Fatal_Injuries Total_Serious_Injuries  Total_Minor_Injuries  \\\n",
       "0                  2.0                    0.0                   0.0   \n",
       "1                  4.0                    0.0                   0.0   \n",
       "2                  3.0                    0.0                   0.0   \n",
       "3                  2.0                    0.0                   0.0   \n",
       "4                  1.0                    2.0                   0.0   \n",
       "\n",
       "  Total_Uninjured Weather_Condition  Broad_phase_of_flight  Event_Year  \\\n",
       "0             0.0           Unknown                 Cruise        1948   \n",
       "1             0.0           Unknown                Unknown        1962   \n",
       "2             1.0               IMC                 Cruise        1974   \n",
       "3             0.0               IMC                 Cruise        1977   \n",
       "4             0.0               VMC               Approach        1979   \n",
       "\n",
       "   Total_Aboard       Fatality_Rate  \n",
       "0           2.0                 1.0  \n",
       "1           4.0                 1.0  \n",
       "2           4.0                0.75  \n",
       "3           2.0                 1.0  \n",
       "4           3.0  0.3333333333333333  \n",
       "\n",
       "[5 rows x 25 columns]"
      ]
     },
     "execution_count": 139,
     "metadata": {},
     "output_type": "execute_result"
    }
   ],
   "source": [
    "#import required libraries\n",
    "import pandas as pd\n",
    "import numpy as np\n",
    "import matplotlib.pyplot as plt\n",
    "import seaborn as sns\n",
    "\n",
    "#load the clean dataset and create a dataframe\n",
    "\n",
    "df = pd.read_csv('Cleaned_Aviation_Data')\n",
    "\n",
    "df.head()"
   ]
  },
  {
   "cell_type": "code",
   "execution_count": 140,
   "metadata": {},
   "outputs": [
    {
     "data": {
      "text/plain": [
       "(88825, 25)"
      ]
     },
     "execution_count": 140,
     "metadata": {},
     "output_type": "execute_result"
    }
   ],
   "source": [
    "df.shape"
   ]
  },
  {
   "cell_type": "code",
   "execution_count": 141,
   "metadata": {},
   "outputs": [
    {
     "name": "stdout",
     "output_type": "stream",
     "text": [
      "<class 'pandas.core.frame.DataFrame'>\n",
      "RangeIndex: 88825 entries, 0 to 88824\n",
      "Data columns (total 25 columns):\n",
      " #   Column                  Non-Null Count  Dtype  \n",
      "---  ------                  --------------  -----  \n",
      " 0   Event_Id                88825 non-null  object \n",
      " 1   Investigation_Type      88825 non-null  object \n",
      " 2   Accident_Number         88825 non-null  object \n",
      " 3   Event_Date              88825 non-null  object \n",
      " 4   Location                88825 non-null  object \n",
      " 5   Country                 88825 non-null  object \n",
      " 6   Injury_Severity         88825 non-null  object \n",
      " 7   Aircraft_damage         88825 non-null  object \n",
      " 8   Aircraft_Category       88825 non-null  object \n",
      " 9   Registration_Number     87127 non-null  object \n",
      " 10  Make                    88824 non-null  object \n",
      " 11  Model                   88825 non-null  object \n",
      " 12  Amateur_Built           88825 non-null  object \n",
      " 13  Number_of_Engines       88825 non-null  float64\n",
      " 14  Engine_Type             88825 non-null  object \n",
      " 15  Purpose_of_flight       82675 non-null  object \n",
      " 16  Total_Fatal_Injuries    88825 non-null  float64\n",
      " 17  Total_Serious_Injuries  88825 non-null  float64\n",
      " 18  Total_Minor_Injuries    88825 non-null  float64\n",
      " 19  Total_Uninjured         88825 non-null  float64\n",
      " 20  Weather_Condition       88825 non-null  object \n",
      " 21  Broad_phase_of_flight   61718 non-null  object \n",
      " 22  Event_Year              88825 non-null  int64  \n",
      " 23  Total_Aboard            88825 non-null  float64\n",
      " 24  Fatality_Rate           88825 non-null  object \n",
      "dtypes: float64(6), int64(1), object(18)\n",
      "memory usage: 16.9+ MB\n"
     ]
    }
   ],
   "source": [
    "df.info()"
   ]
  },
  {
   "cell_type": "code",
   "execution_count": 142,
   "metadata": {},
   "outputs": [
    {
     "data": {
      "text/plain": [
       "Event_Id                      0\n",
       "Investigation_Type            0\n",
       "Accident_Number               0\n",
       "Event_Date                    0\n",
       "Location                      0\n",
       "Country                       0\n",
       "Injury_Severity               0\n",
       "Aircraft_damage               0\n",
       "Aircraft_Category             0\n",
       "Registration_Number        1698\n",
       "Make                          1\n",
       "Model                         0\n",
       "Amateur_Built                 0\n",
       "Number_of_Engines             0\n",
       "Engine_Type                   0\n",
       "Purpose_of_flight          6150\n",
       "Total_Fatal_Injuries          0\n",
       "Total_Serious_Injuries        0\n",
       "Total_Minor_Injuries          0\n",
       "Total_Uninjured               0\n",
       "Weather_Condition             0\n",
       "Broad_phase_of_flight     27107\n",
       "Event_Year                    0\n",
       "Total_Aboard                  0\n",
       "Fatality_Rate                 0\n",
       "dtype: int64"
      ]
     },
     "execution_count": 142,
     "metadata": {},
     "output_type": "execute_result"
    }
   ],
   "source": [
    "df.isna().sum()"
   ]
  },
  {
   "cell_type": "markdown",
   "metadata": {},
   "source": [
    "#### 3.2.1 Univariate Analysis\n",
    "\n",
    "Univariate analysis is the process of analysing one variable at a time so as to understand its distribution, frequency and spread. \n",
    "\n",
    "The goal is to explore the shape and characteristics of each important column in our dataset to detect patterns, anomalies or data quality issues.\n",
    "\n",
    "##### 3.2.1.1 Numerical Columns\n",
    "\n",
    "We will explore the shape and characteristics of the following numerical columns:\n",
    "\n",
    "* Total Fatal Injuries\n",
    "* Total Serious Injuries\n",
    "* Total Minor Injuries\n",
    "* Total Uninjured\n",
    "* Total Aboard\n",
    "* Number of Engines\n",
    "* Year"
   ]
  },
  {
   "cell_type": "code",
   "execution_count": 143,
   "metadata": {},
   "outputs": [
    {
     "data": {
      "image/png": "[encoded data removed]",
      "text/plain": [
       "<Figure size 720x576 with 1 Axes>"
      ]
     },
     "metadata": {
      "needs_background": "light"
     },
     "output_type": "display_data"
    }
   ],
   "source": [
    "#plotting histogram of Total Fatal Injuries\n",
    "fig,ax = plt.subplots(figsize=(10,8))\n",
    "sns.histplot(df.Total_Fatal_Injuries, bins=100)\n",
    "plt.xlabel('Total Fatal Injuries', fontsize=12)\n",
    "plt.ylabel('Count', fontsize=12)\n",
    "plt.title('Distribution of Total Fatal Injuries', fontsize=12)\n",
    "plt.show()"
   ]
  },
  {
   "cell_type": "code",
   "execution_count": 144,
   "metadata": {},
   "outputs": [
    {
     "data": {
      "image/png": "[encoded data removed]",
      "text/plain": [
       "<Figure size 720x576 with 1 Axes>"
      ]
     },
     "metadata": {
      "needs_background": "light"
     },
     "output_type": "display_data"
    }
   ],
   "source": [
    "#plotting histogram of Total Serious Injuries\n",
    "fig,ax = plt.subplots(figsize=(10,8))\n",
    "sns.histplot(df.Total_Serious_Injuries, bins=100)\n",
    "plt.xlabel('Total Serious Injuries', fontsize=12)\n",
    "plt.ylabel('Count', fontsize=12)\n",
    "plt.title('Distribution of Total Serious Injuries', fontsize=12)\n",
    "plt.show()"
   ]
  },
  {
   "cell_type": "code",
   "execution_count": 145,
   "metadata": {},
   "outputs": [
    {
     "data": {
      "image/png": "[encoded data removed]",
      "text/plain": [
       "<Figure size 720x576 with 1 Axes>"
      ]
     },
     "metadata": {
      "needs_background": "light"
     },
     "output_type": "display_data"
    }
   ],
   "source": [
    "#plotting histogram of Total Minor Injuries\n",
    "fig,ax = plt.subplots(figsize=(10,8))\n",
    "sns.histplot(df.Total_Minor_Injuries,bins=100)\n",
    "plt.xlabel('Total Minor Injuries', fontsize=12)\n",
    "plt.ylabel('Count', fontsize=12)\n",
    "plt.title('Distribution of Total Minor Injuries', fontsize=12)\n",
    "plt.show()"
   ]
  },
  {
   "cell_type": "code",
   "execution_count": 146,
   "metadata": {},
   "outputs": [
    {
     "data": {
      "image/png": "[encoded data removed]",
      "text/plain": [
       "<Figure size 720x576 with 1 Axes>"
      ]
     },
     "metadata": {
      "needs_background": "light"
     },
     "output_type": "display_data"
    }
   ],
   "source": [
    "#plotting histogram of Total Uninjured\n",
    "fig,ax = plt.subplots(figsize=(10,8))\n",
    "sns.histplot(df.Total_Uninjured, bins=100, kde=True)\n",
    "plt.xlabel('Total Uninjured', fontsize=12)\n",
    "plt.ylabel('Count', fontsize=12)\n",
    "plt.title('Distribution of Total Uninjured', fontsize=12)\n",
    "plt.show()"
   ]
  },
  {
   "cell_type": "code",
   "execution_count": 147,
   "metadata": {},
   "outputs": [
    {
     "data": {
      "image/png": "[encoded data removed]",
      "text/plain": [
       "<Figure size 720x576 with 1 Axes>"
      ]
     },
     "metadata": {
      "needs_background": "light"
     },
     "output_type": "display_data"
    }
   ],
   "source": [
    "#plotting histogram of Total Aboard\n",
    "fig,ax = plt.subplots(figsize=(10,8))\n",
    "sns.histplot(df.Total_Aboard, bins=80, kde=True)\n",
    "plt.xlabel('Total Aboard', fontsize=12)\n",
    "plt.ylabel('Count', fontsize=12)\n",
    "plt.title('Distribution of Total Aboard', fontsize=12)\n",
    "plt.show()"
   ]
  },
  {
   "cell_type": "code",
   "execution_count": 148,
   "metadata": {},
   "outputs": [
    {
     "data": {
      "image/png": "[encoded data removed]",
      "text/plain": [
       "<Figure size 720x576 with 1 Axes>"
      ]
     },
     "metadata": {
      "needs_background": "light"
     },
     "output_type": "display_data"
    }
   ],
   "source": [
    "#plotting histogram of Number of Engines\n",
    "fig,ax = plt.subplots(figsize=(10,8))\n",
    "sns.histplot(df.Number_of_Engines, kde=True, bins=8)\n",
    "plt.xlabel('Number of Engines', fontsize=12)\n",
    "plt.ylabel('Count', fontsize=12)\n",
    "plt.title('Distribution of Number of Engines', fontsize=12)\n",
    "plt.show()"
   ]
  },
  {
   "cell_type": "code",
   "execution_count": 149,
   "metadata": {},
   "outputs": [
    {
     "data": {
      "image/png": "[encoded data removed]",
      "text/plain": [
       "<Figure size 720x576 with 1 Axes>"
      ]
     },
     "metadata": {
      "needs_background": "light"
     },
     "output_type": "display_data"
    }
   ],
   "source": [
    "#plotting histogram of Year\n",
    "fig,ax = plt.subplots(figsize=(10,8))\n",
    "sns.histplot(df.Event_Year, kde=True, bins=100)\n",
    "plt.xlabel('Year', fontsize=12)\n",
    "plt.ylabel('Count', fontsize=12)\n",
    "plt.title('Distribution of Year', fontsize=12)\n",
    "plt.show()"
   ]
  },
  {
   "cell_type": "code",
   "execution_count": 150,
   "metadata": {},
   "outputs": [
    {
     "data": {
      "text/plain": [
       "0.0"
      ]
     },
     "execution_count": 150,
     "metadata": {},
     "output_type": "execute_result"
    }
   ],
   "source": [
    "df['Total_Fatal_Injuries'].mode()[0]"
   ]
  },
  {
   "cell_type": "code",
   "execution_count": 151,
   "metadata": {},
   "outputs": [
    {
     "name": "stdout",
     "output_type": "stream",
     "text": [
      "\n",
      "\n",
      "\n",
      "The mean is categorised as follows: \n",
      "Total_Fatal_Injuries         0.56\n",
      "Total_Serious_Injuries       0.24\n",
      "Total_Minor_Injuries         0.30\n",
      "Total_Uninjured              5.00\n",
      "Total_Aboard                 6.10\n",
      "Number_of_Engines            1.14\n",
      "Event_Year                1999.20\n",
      "dtype: float64\n",
      "\n",
      "\n",
      "\n",
      "The median is categorised as follows:\n",
      "Total_Fatal_Injuries         0.0\n",
      "Total_Serious_Injuries       0.0\n",
      "Total_Minor_Injuries         0.0\n",
      "Total_Uninjured              1.0\n",
      "Total_Aboard                 2.0\n",
      "Number_of_Engines            1.0\n",
      "Event_Year                1998.0\n",
      "dtype: float64\n",
      "\n",
      "\n",
      "\n",
      "The mode is categorised as follows:\n",
      "   Total_Fatal_Injuries  Total_Serious_Injuries  Total_Minor_Injuries  \\\n",
      "0                   0.0                     0.0                   0.0   \n",
      "\n",
      "   Total_Uninjured  Total_Aboard  Number_of_Engines  Event_Year  \n",
      "0              1.0           1.0                1.0        1982  \n",
      "\n",
      "\n",
      "\n",
      "The skew is categorised as follows:\n",
      "Total_Fatal_Injuries      33.875478\n",
      "Total_Serious_Injuries    52.439307\n",
      "Total_Minor_Injuries      44.509122\n",
      "Total_Uninjured            8.967810\n",
      "Total_Aboard               8.673976\n",
      "Number_of_Engines          2.805879\n",
      "Event_Year                 0.266970\n",
      "dtype: float64\n",
      "\n",
      "\n",
      "\n",
      "The kurtosis is categorised as follows:\n",
      "Total_Fatal_Injuries      1392.402780\n",
      "Total_Serious_Injuries    4219.747514\n",
      "Total_Minor_Injuries      3428.556913\n",
      "Total_Uninjured             96.731009\n",
      "Total_Aboard                90.433322\n",
      "Number_of_Engines           13.568246\n",
      "Event_Year                  -1.127942\n",
      "dtype: float64\n"
     ]
    }
   ],
   "source": [
    "#measures of central tendency\n",
    "columns = [['Total_Fatal_Injuries', 'Total_Serious_Injuries', 'Total_Minor_Injuries', 'Total_Uninjured', 'Total_Aboard', 'Number_of_Engines', 'Event_Year']]\n",
    "\n",
    "for column in columns:\n",
    "  print(\"\\n\\n\")\n",
    "  print(\"The mean is categorised as follows: \\n\"+str(round(df[column].mean(), 2)))\n",
    "  print(\"\\n\\n\")\n",
    "  print(\"The median is categorised as follows:\\n\"+str(df[column].median()))\n",
    "  print(\"\\n\\n\")\n",
    "  print(\"The mode is categorised as follows:\\n\" +str(df[column].mode()))\n",
    "  print(\"\\n\\n\")\n",
    "  print(\"The skew is categorised as follows:\\n\" + str(df[column].skew()))\n",
    "  print(\"\\n\\n\")\n",
    "  print(\"The kurtosis is categorised as follows:\\n\" + str(df[column].kurtosis()))              \n"
   ]
  },
  {
   "cell_type": "markdown",
   "metadata": {},
   "source": [
    "##### Summary of Observations for numerical columns\n",
    "\n",
    "1. Majority of the accidents/incidents report zero or low injury distribution.\n",
    "2. Some accidents have very high numbers (these could be inferred to commercial aircrafts) which are valid but rare.\n",
    "3. Most incidents/accidents involve fewer than 10 people aboard which suggests a large portion of private/small aircraft\n",
    "4. The total fatal, serious and minor injuries show strong positive skew which means most accidents result in few or no fatalities, while a small number have very high fatalities.\n",
    "5. These variables also exhibit high kurtosis which indicates the presence of extreme outliers from commercial airline accidents.\n",
    "6. Total passengers aboard also exhibits positive skew suggesting that majority of aircraft involved in accidents are small but a few carry very large numbers of passengers.\n",
    "7. The distributions are not normal which is expected for aviation incident data due to rare but severe nature of fatal accidents.\n",
    "8. The majority of aircraft involved in accidents/incidents have 1 engine followed by a smaller number with 2 engines.\n",
    "9. Multi engine aircraft are rare, which may reflect that most accidents in the dataset involve private or small charter aircraft rather than large commercial jets\n",
    "10. The skewness and kurtosis confirm that the data is right skewed with heavy tails reinforcing the need for median based summaries and careful handling of outliers in analysis.\n",
    "11. The number of recorded incidents increased from the 1970s to the 1990s likely due to better reporting and increased air traffic. \n",
    "12. After the early 2000s, the trend shows a decline in accidents, possibly due to improved safety regulations, technology and training.\n",
    "13. The dataset includes data upto 2023 and the most recent years appear to have fewer incidents. This could be influenced by reporting lag.\n",
    "\n",
    "\n",
    "##### Implication\n",
    "\n",
    "Smaller aircraft with fewer engines dominate the accident data. When selecting aircraft for commercial investment, models with more engines may offer safer performance with higher maintenance costs.\n",
    "\n",
    "The declining trend in accidents over time is a positive signal for aviation safety. Huru Investments Group can factor in improved safety trends when assessing newer aircraft models for investment.\n",
    "\n",
    "These observations set the stage for bivariate analysis where we compare variables to uncover risk factors."
   ]
  },
  {
   "cell_type": "markdown",
   "metadata": {},
   "source": [
    "##### 3.2.1.2 Categorical Columns\n",
    "\n",
    "For the categorical columns we shall plot a count plot which shows the number of times each unique value occurs in a variable. It is often used to visualise the distribution of categorical variables.\n",
    "\n",
    "The categorical columns we shall explore are:\n",
    "* Investigation Type\n",
    "* Country\n",
    "* Make\n",
    "* Model\n",
    "* Injury Severity\n",
    "* Weather Condition\n",
    "* Aircraft Damage\n",
    "* Aircraft Category\n",
    "* Type of Engine\n",
    "* Amateur Built"
   ]
  },
  {
   "cell_type": "code",
   "execution_count": 177,
   "metadata": {},
   "outputs": [
    {
     "data": {
      "image/png": "[encoded data removed]",
      "text/plain": [
       "<Figure size 576x576 with 1 Axes>"
      ]
     },
     "metadata": {},
     "output_type": "display_data"
    }
   ],
   "source": [
    "# plotting the type of investigation carried out for aircraft in our dataset\n",
    "\n",
    "investigation = df['Investigation_Type'].value_counts()\n",
    "\n",
    "plt.figure(figsize=(8,8))\n",
    "plt.pie(investigation, labels=investigation.index, autopct='%1.2f%%', startangle=60, colors=['green', 'orange'], explode=[0.0,0.1])\n",
    "plt.title('Classification of Type of Investigation by Count', fontsize=16)\n",
    "plt.tight_layout()\n",
    "plt.show()"
   ]
  },
  {
   "cell_type": "markdown",
   "metadata": {},
   "source": [
    "##### Summary\n",
    "The dataset contains significantly more records classified as accidents compared to incidents. This confirms that majority of entries involve events with substantial consequences such as injuries, fatalities or major aircraft damage. Incidents which typically involve no serious injuries or damage form a much smaller proportion of the data.\n",
    "\n",
    "The dataset is therefore primarily focused on major events rather than minor or procedural issues."
   ]
  },
  {
   "cell_type": "code",
   "execution_count": 152,
   "metadata": {
    "scrolled": false
   },
   "outputs": [
    {
     "data": {
      "image/png": "[encoded data removed]",
      "text/plain": [
       "<Figure size 720x576 with 1 Axes>"
      ]
     },
     "metadata": {
      "needs_background": "light"
     },
     "output_type": "display_data"
    }
   ],
   "source": [
    "# plotting top 10 countries with aviation accidents/incidents\n",
    "\n",
    "top_10_count = df['Country'].value_counts().head(10)\n",
    "\n",
    "plt.figure(figsize=(10,8))\n",
    "top_10_count.plot(kind='bar')\n",
    "plt.title('Top Ten Countries with Highest Aviation Accidents/Incidents', fontsize=14)\n",
    "plt.xlabel('Country', fontsize=14)\n",
    "plt.ylabel('Count', fontsize=14)\n",
    "plt.xticks(rotation=20)\n",
    "plt.tight_layout()\n",
    "plt.show()"
   ]
  },
  {
   "cell_type": "markdown",
   "metadata": {},
   "source": [
    "##### Summary\n",
    "* The majority of records are from the United States. This is probably due to the detailed reporting by NTSB. \n",
    "* Other countries have significantly fewer records, possibly due to underreporting or limited international coverage of data by the NTSB"
   ]
  },
  {
   "cell_type": "code",
   "execution_count": 159,
   "metadata": {},
   "outputs": [
    {
     "data": {
      "image/png": "[encoded data removed]",
      "text/plain": [
       "<Figure size 720x576 with 1 Axes>"
      ]
     },
     "metadata": {
      "needs_background": "light"
     },
     "output_type": "display_data"
    }
   ],
   "source": [
    "# plotting top 10 Makes of Aircraft with aviation accidents/incidents\n",
    "\n",
    "top_10_Make = df['Make'].value_counts().head(10)\n",
    "\n",
    "plt.figure(figsize=(10,8))\n",
    "top_10_Make.plot(kind='bar')\n",
    "plt.title('Top Ten Aircraft Manufacturers with Highest Aviation Accidents/Incidents', fontsize=16)\n",
    "plt.xlabel('Make', fontsize=14)\n",
    "plt.ylabel('Count', fontsize=14)\n",
    "plt.xticks(rotation=45)\n",
    "plt.tight_layout()\n",
    "plt.show()"
   ]
  },
  {
   "cell_type": "markdown",
   "metadata": {},
   "source": [
    "##### Summary\n",
    "\n",
    "* Cessna and Piper makes of Aircraft dominate the majority of accidents/incidents reflecting the high numbers of small general aviation aircraft.\n",
    "* Large commercial manufacturers like Boeing appear less frequently aligning with their small market share in total aircraft volume and possibility of lower safety risk associated with technology employed in them."
   ]
  },
  {
   "cell_type": "code",
   "execution_count": 182,
   "metadata": {},
   "outputs": [
    {
     "data": {
      "image/png": "[encoded data removed]",
      "text/plain": [
       "<Figure size 720x576 with 1 Axes>"
      ]
     },
     "metadata": {
      "needs_background": "light"
     },
     "output_type": "display_data"
    }
   ],
   "source": [
    "# plotting top 10 Models of Aircraft with aviation accidents/incidents\n",
    "\n",
    "top_10_Model = df['Model'].value_counts().head(10)\n",
    "\n",
    "plt.figure(figsize=(10,8))\n",
    "top_10_Model.plot(kind='bar')\n",
    "plt.title('Top Ten Models of Aircraft with Highest Aviation Accidents/Incidents', fontsize=16)\n",
    "plt.xlabel('Model', fontsize=14)\n",
    "plt.ylabel('Count', fontsize=14)\n",
    "plt.xticks(rotation=45)\n",
    "plt.tight_layout()\n",
    "plt.show()"
   ]
  },
  {
   "cell_type": "markdown",
   "metadata": {},
   "source": [
    "##### Summary\n",
    "\n",
    "The most common aircraft models are the small. single engine types used in general aviation. With majority being of the Cessna Make."
   ]
  },
  {
   "cell_type": "code",
   "execution_count": 186,
   "metadata": {},
   "outputs": [
    {
     "data": {
      "image/png": "[encoded data removed]",
      "text/plain": [
       "<Figure size 720x576 with 1 Axes>"
      ]
     },
     "metadata": {
      "needs_background": "light"
     },
     "output_type": "display_data"
    }
   ],
   "source": [
    "#plotting the Injury Severity Distribution\n",
    "plt.figure(figsize=(10,8))\n",
    "sns.countplot(x='Injury_Severity', data=df)\n",
    "plt.title('Aircraft Accident Injury Severity Distribution', fontsize=16)\n",
    "plt.xlabel('Injury Severity', fontsize=14)\n",
    "plt.ylabel('Count', fontsize=14)\n",
    "plt.xticks(rotation=45)\n",
    "plt.tight_layout()\n",
    "plt.show()"
   ]
  },
  {
   "cell_type": "markdown",
   "metadata": {},
   "source": [
    "##### Summary \n",
    "The majority of accidents in the dataset are classified as fatal followed by smaller proportions of serious and minor events. "
   ]
  },
  {
   "cell_type": "code",
   "execution_count": 185,
   "metadata": {},
   "outputs": [
    {
     "data": {
      "image/png": "[encoded data removed]",
      "text/plain": [
       "<Figure size 576x576 with 1 Axes>"
      ]
     },
     "metadata": {},
     "output_type": "display_data"
    }
   ],
   "source": [
    "# plotting the prevailing weather conditions during the accidents/incidents\n",
    "\n",
    "weather = df['Weather_Condition'].value_counts()\n",
    "\n",
    "plt.figure(figsize=(8,8))\n",
    "plt.pie(weather, labels=weather.index, autopct='%1.2f%%', startangle=60, colors=['purple', 'green', 'orange'])\n",
    "plt.title('Classification of Weather Conditions by Count', fontsize=16)\n",
    "plt.tight_layout()\n",
    "plt.show()"
   ]
  },
  {
   "cell_type": "markdown",
   "metadata": {},
   "source": [
    "##### Summary\n",
    "\n",
    "Most Accidents occure under VMC(Visual Meteorological Conditions. IMC (Instrumental Meteorological Conditions are less common but important to flag for deeper analysis later."
   ]
  },
  {
   "cell_type": "code",
   "execution_count": 190,
   "metadata": {},
   "outputs": [
    {
     "data": {
      "image/png": "[encoded data removed]",
      "text/plain": [
       "<Figure size 720x576 with 1 Axes>"
      ]
     },
     "metadata": {
      "needs_background": "light"
     },
     "output_type": "display_data"
    }
   ],
   "source": [
    "#plotting Aircraft Damage distribution\n",
    "plt.figure(figsize=(10,8))\n",
    "sns.countplot(x='Aircraft_damage', data=df)\n",
    "plt.title('Distribution of Aircraft Damage', fontsize=16)\n",
    "plt.xlabel('Aircraft Damage', fontsize=14)\n",
    "plt.ylabel('Count', fontsize=14)\n",
    "plt.xticks(rotation=45)\n",
    "plt.tight_layout()\n",
    "plt.show()"
   ]
  },
  {
   "cell_type": "markdown",
   "metadata": {},
   "source": [
    "##### Summary\n",
    "\n",
    "Most aircraft involved in accidents in the dataset are seen to be substantially damaged or destroyed. This confirms that the dataset captures mostly serious events."
   ]
  },
  {
   "cell_type": "code",
   "execution_count": 191,
   "metadata": {},
   "outputs": [
    {
     "data": {
      "image/png": "[encoded data removed]",
      "text/plain": [
       "<Figure size 720x576 with 1 Axes>"
      ]
     },
     "metadata": {
      "needs_background": "light"
     },
     "output_type": "display_data"
    }
   ],
   "source": [
    "#plotting top 5 aircraft categories distribution\n",
    "top_5_category = df['Aircraft_Category'].value_counts().head(5)\n",
    "\n",
    "plt.figure(figsize=(10,8))\n",
    "top_5_category.plot(kind='bar')\n",
    "plt.title('Distribution of Top 5 Categories of Aircraft', fontsize=16)\n",
    "plt.xlabel('Aircraft Category', fontsize=14)\n",
    "plt.ylabel('Count', fontsize=14)\n",
    "plt.xticks(rotation=45)\n",
    "plt.tight_layout()\n",
    "plt.show()"
   ]
  },
  {
   "cell_type": "markdown",
   "metadata": {},
   "source": [
    "##### Summary\n",
    "\n",
    "Most accidents involve airplanes, often single engine fixed wing types. Rotorcraft and gliders make up a small percentage."
   ]
  },
  {
   "cell_type": "code",
   "execution_count": 193,
   "metadata": {},
   "outputs": [
    {
     "data": {
      "image/png": "[encoded data removed]",
      "text/plain": [
       "<Figure size 720x576 with 1 Axes>"
      ]
     },
     "metadata": {
      "needs_background": "light"
     },
     "output_type": "display_data"
    }
   ],
   "source": [
    "#plotting Type of Engine distribution\n",
    "plt.figure(figsize=(10,8))\n",
    "sns.countplot(x='Engine_Type', data=df)\n",
    "plt.title('Distribution of Type of Engine', fontsize=16)\n",
    "plt.xlabel('Type of Engine', fontsize=14)\n",
    "plt.ylabel('Count', fontsize=14)\n",
    "plt.xticks(rotation=45)\n",
    "plt.tight_layout()\n",
    "plt.show()"
   ]
  },
  {
   "cell_type": "markdown",
   "metadata": {},
   "source": [
    "##### Summary\n",
    "\n",
    "Most aircraft involved in accidents use reciprocating engines which is consistent with the high number of general aviation aircraft.\n",
    "\n",
    "Turboprop and Turbo Jet are less common but relevant for commercial and military aircraft."
   ]
  },
  {
   "cell_type": "code",
   "execution_count": 197,
   "metadata": {},
   "outputs": [
    {
     "data": {
      "image/png": "[encoded data removed]",
      "text/plain": [
       "<Figure size 576x576 with 1 Axes>"
      ]
     },
     "metadata": {},
     "output_type": "display_data"
    }
   ],
   "source": [
    "# plotting the type of build of aircraft\n",
    "\n",
    "build = df['Amateur_Built'].value_counts()\n",
    "\n",
    "plt.figure(figsize=(8,8))\n",
    "plt.pie(build, labels=build.index, autopct='%1.2f%%', startangle=60, colors=['purple', 'green', 'orange'])\n",
    "plt.title('Classification of Amateur Build of Aircraft by Count', fontsize=16)\n",
    "plt.tight_layout()\n",
    "plt.show()"
   ]
  },
  {
   "cell_type": "markdown",
   "metadata": {},
   "source": [
    "##### Summary\n",
    "A majority of the aircraft involved in accidents/incidents are factory built. A noticeable portion is amateur built which may carry operational risk. This can be further explored in bivariate analysis"
   ]
  },
  {
   "cell_type": "markdown",
   "metadata": {},
   "source": [
    "#### Summary of Univariate Analysis of Categorical Variables\n",
    "- The dataset is heavily skewed toward aircraft accidents with many accidents involving small, single-engine, factory-built aircraft operating in the United States.\n",
    "- Most accidents occurred under good weather (VMC), and damage to aircraft was often substantial or total destruction.\n",
    "- The consequences of fatal accidents are severe and relevant for business risk analysis."
   ]
  },
  {
   "cell_type": "code",
   "execution_count": null,
   "metadata": {},
   "outputs": [],
   "source": []
  }
 ],
 "metadata": {
  "kernelspec": {
   "display_name": "Python (learn-env)",
   "language": "python",
   "name": "learn-env"
  },
  "language_info": {
   "codemirror_mode": {
    "name": "ipython",
    "version": 3
   },
   "file_extension": ".py",
   "mimetype": "text/x-python",
   "name": "python",
   "nbconvert_exporter": "python",
   "pygments_lexer": "ipython3",
   "version": "3.8.5"
  }
 },
 "nbformat": 4,
 "nbformat_minor": 4
}
