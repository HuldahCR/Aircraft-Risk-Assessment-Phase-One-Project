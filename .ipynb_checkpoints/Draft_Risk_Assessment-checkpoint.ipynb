{
 "cells": [
  {
   "cell_type": "markdown",
   "metadata": {},
   "source": [
    "# Aircraft Risk Assessment for Aircraft Investment\n",
    "\n",
    "## 1. Business Understanding\n",
    "### 1.1 Background\n",
    "\n",
    "Huru Capital Investments Group is a Venture Capital firm with a presence in the construction, real estate and logistics sector in the United States of America. Given its strategic goal to diversify its portfolio, the company is exploring expansion into high growth industries such as the aviation sector. This decision is driven by the expected growth in regional and international air transport. \n",
    "\n",
    "The Company intends to purchase and operate airplanes for commercial and private use and hence safety is a critical consideration in selecting the right aircraft.\n",
    "\n",
    "To support this move, Huru Capital Investments Group is leveraging historical aviation accident data from 1962 to 2023 using a [dataset](https://www.kaggle.com/datasets/khsamaha/aviation-accident-database-synopses) from the National Transportation Safety Board to evaluate potential risks associated with various types of aircraft. This analysis will inform executive decision making on which aircraft models offer the best balance between performance and operational safety.\n",
    "\n",
    "### 1.2 Objectives\n",
    "\n",
    "The overall objective of this project is to identify the types of aircraft with the lowest historical risk profile based on accident frequency, severity and related factors. These insights will guide Huru Capital's aviation investment strategy by pinpointing safe and reliable aircraft for acquisition.\n",
    "\n",
    "The specific objectives are:\n",
    "* To analyse accident frequency and the severity by the type of aircraft\n",
    "* To identify trends  and patterns related to aviation accidents and incidents over time and geographical location\n",
    "* To recommend the top three types of aircraft for investment based on safety performance\n",
    "\n",
    "### 1.3 Problem Statement\n",
    "\n",
    "Huru Capital Investments Group is interested in entering the aviation industry without any internal expertise on the potential risks of aircraft. Given the potential financial and reputational risks associated with aviation accidents, the company must base its aircraft selection on data-driven insights. \n",
    "\n",
    "This analysis will help answer the following question:\n",
    "\n",
    "> *Which types of aircraft present the lowest investment risk based on historical safety records?*\n",
    "\n",
    "### 1.4 Metrics of Success\n",
    "\n",
    "This project will be considered successful if:\n",
    "\n",
    "* The analysis identifies aircraft types with historically low accident and fatality rates, helping the company make informed investment decisions.\n",
    "* At least three clear evidence based recommendations are provided to guide aircraft acquisition\n",
    "* Key safety patterns (by aircraft type, location, cause or time) are clearly visualised making the risks and opportunities easy to interpret\n",
    "* The insights directly support Huru Capital's broader goal of expanding into new industries with minimised operational and reputational risk"
   ]
  },
  {
   "cell_type": "markdown",
   "metadata": {},
   "source": []
  }
 ],
 "metadata": {
  "kernelspec": {
   "display_name": "Python (learn-env)",
   "language": "python",
   "name": "learn-env"
  },
  "language_info": {
   "codemirror_mode": {
    "name": "ipython",
    "version": 3
   },
   "file_extension": ".py",
   "mimetype": "text/x-python",
   "name": "python",
   "nbconvert_exporter": "python",
   "pygments_lexer": "ipython3",
   "version": "3.8.5"
  }
 },
 "nbformat": 4,
 "nbformat_minor": 4
}
